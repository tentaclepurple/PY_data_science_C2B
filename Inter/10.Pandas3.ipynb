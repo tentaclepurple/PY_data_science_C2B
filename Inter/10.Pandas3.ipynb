{
 "cells": [
  {
   "cell_type": "markdown",
   "id": "b4e95130-859a-4bc2-9ceb-6fd0b2902711",
   "metadata": {},
   "source": [
    "# Ejercicio Pandas"
   ]
  },
  {
   "cell_type": "code",
   "execution_count": 1,
   "id": "6a01f7fa-d2cb-45c7-8857-c75672eadca3",
   "metadata": {},
   "outputs": [],
   "source": [
    "import pandas as pd\n",
    "import numpy as np\n",
    "import matplotlib.pyplot as plt\n",
    "import seaborn as sns\n",
    "from datetime import datetime\n",
    "\n",
    "import warnings\n",
    "warnings.filterwarnings('ignore')\n",
    "\n",
    "pd.options.display.float_format = '{:.2f}'.format #Desactivar notación científica en pandas:\n",
    "np.set_printoptions(suppress=True) #Desactivar notación científica en numpy:\n",
    "pd.set_option('display.max_columns', None) #comando para mostrar todas las columnas"
   ]
  },
  {
   "cell_type": "markdown",
   "id": "ea3c24ab-8344-42a5-b213-02f9e57465ee",
   "metadata": {},
   "source": [
    "#### Cargar los archivos csv: \n",
    "* Adult_short_mal.csv,\n",
    "* hectareasIncendiosCCAA2005-2013.csv, \n",
    "* medicion_temperaturas_mal.csv\n",
    "\n",
    "Guardar los csv en los dataframe adult, fuego y tempe (respectivamente)\n"
   ]
  },
  {
   "cell_type": "code",
   "execution_count": 2,
   "id": "cae76e95-a16f-48e9-8946-de6eb3055077",
   "metadata": {},
   "outputs": [],
   "source": []
  },
  {
   "cell_type": "markdown",
   "id": "1a9d0373-778b-4803-8199-b81316ea7baf",
   "metadata": {},
   "source": [
    "#### Consultar de los archivos cargados, los primeros registros"
   ]
  },
  {
   "cell_type": "code",
   "execution_count": null,
   "id": "82db0fbd-b09e-42fb-adc5-943f40f7e8d0",
   "metadata": {},
   "outputs": [],
   "source": []
  },
  {
   "cell_type": "markdown",
   "id": "7d2680d6-4d66-4473-9cc7-a8e20f465bba",
   "metadata": {},
   "source": [
    "#### Obtener la información básica de cada csv cargado (info())"
   ]
  },
  {
   "cell_type": "code",
   "execution_count": null,
   "id": "23f8e893-5427-45aa-ac42-07e339c2c688",
   "metadata": {},
   "outputs": [],
   "source": []
  },
  {
   "cell_type": "markdown",
   "id": "ab98d227-7a2f-4cff-8de3-4dde6346fff0",
   "metadata": {
    "tags": []
   },
   "source": [
    "#### Comprobación manual de valores perdidos para el dataframe.  Comprueba si existen valores perdidos por columna y el total de valores perdidos por columna.  Comprueba el total de valores perdidos por fila.\n",
    "Puedes comprobar los valores perdidos con la función **.isnull()** -> df['columna'].isnull()"
   ]
  },
  {
   "cell_type": "code",
   "execution_count": null,
   "id": "26f5617e-537a-4692-964c-c9a754d1f995",
   "metadata": {},
   "outputs": [],
   "source": []
  },
  {
   "cell_type": "markdown",
   "id": "0b67a585-3881-4383-a1d2-46c229c8ee51",
   "metadata": {},
   "source": [
    "#### Comprobar los valores perdidos a través de un mapa de calor"
   ]
  },
  {
   "cell_type": "code",
   "execution_count": null,
   "id": "6b651ab4-0d40-456f-a874-cdcb6628c76a",
   "metadata": {},
   "outputs": [],
   "source": []
  },
  {
   "cell_type": "markdown",
   "id": "1e5117a5-dffc-4525-9dd1-3491b20f6ccc",
   "metadata": {},
   "source": [
    "#### Sabiendo la ubicación y cantidad de valores perdidos... eliminar las columnas que tengan algún valor perdido."
   ]
  },
  {
   "cell_type": "code",
   "execution_count": null,
   "id": "dcd88303-b4de-4159-900d-0953472f42b6",
   "metadata": {},
   "outputs": [],
   "source": []
  },
  {
   "cell_type": "markdown",
   "id": "ba7da008-b46f-4d2f-aae2-ba241887baa4",
   "metadata": {
    "tags": []
   },
   "source": [
    "#### En el dataset adult, comprueba los valores existentes en la columna Sex.  ¿Los valores son consistentes? ¿Ves alguna categoría errónea? Sustituye la categoría errónea por el valor correcto"
   ]
  },
  {
   "cell_type": "code",
   "execution_count": null,
   "id": "be0a752f-aa35-460d-bed2-c62398471d8c",
   "metadata": {},
   "outputs": [],
   "source": []
  }
 ],
 "metadata": {
  "kernelspec": {
   "display_name": "Python 3 (ipykernel)",
   "language": "python",
   "name": "python3"
  },
  "language_info": {
   "codemirror_mode": {
    "name": "ipython",
    "version": 3
   },
   "file_extension": ".py",
   "mimetype": "text/x-python",
   "name": "python",
   "nbconvert_exporter": "python",
   "pygments_lexer": "ipython3",
   "version": "3.9.13"
  },
  "varInspector": {
   "cols": {
    "lenName": 16,
    "lenType": 16,
    "lenVar": 40
   },
   "kernels_config": {
    "python": {
     "delete_cmd_postfix": "",
     "delete_cmd_prefix": "del ",
     "library": "var_list.py",
     "varRefreshCmd": "print(var_dic_list())"
    },
    "r": {
     "delete_cmd_postfix": ") ",
     "delete_cmd_prefix": "rm(",
     "library": "var_list.r",
     "varRefreshCmd": "cat(var_dic_list()) "
    }
   },
   "types_to_exclude": [
    "module",
    "function",
    "builtin_function_or_method",
    "instance",
    "_Feature"
   ],
   "window_display": false
  }
 },
 "nbformat": 4,
 "nbformat_minor": 5
}
