{
 "cells": [
  {
   "cell_type": "code",
   "execution_count": 3,
   "id": "ec40d17c-7e40-4814-8ebb-8f43062558b2",
   "metadata": {},
   "outputs": [],
   "source": [
    "import sweetviz as sv\n",
    "import pandas as pd"
   ]
  },
  {
   "cell_type": "code",
   "execution_count": 4,
   "id": "5325ff3d-85e1-42bd-abb6-e8488847f215",
   "metadata": {},
   "outputs": [],
   "source": [
    "df = pd.read_csv('/home/mydoctor/Documents/03.Trabajos/01.C2B/17.Python avanzado - C2B (15h)/data/transacciones2.csv', sep=\";\")"
   ]
  },
  {
   "cell_type": "code",
   "execution_count": 5,
   "id": "f22ac130-79de-48c8-976f-89b465aa732c",
   "metadata": {},
   "outputs": [
    {
     "data": {
      "application/vnd.jupyter.widget-view+json": {
       "model_id": "dd7f0e533035495cb4aaa1fac0473fbd",
       "version_major": 2,
       "version_minor": 0
      },
      "text/plain": [
       "                                             |          | [  0%]   00:00 -> (? left)"
      ]
     },
     "metadata": {},
     "output_type": "display_data"
    }
   ],
   "source": [
    "eda = sv.analyze(df)"
   ]
  },
  {
   "cell_type": "code",
   "execution_count": 6,
   "id": "5e9e1b51-417e-4051-b2f1-33fd6469788d",
   "metadata": {},
   "outputs": [
    {
     "name": "stdout",
     "output_type": "stream",
     "text": [
      "Report transac.html was generated! NOTEBOOK/COLAB USERS: the web browser MAY not pop up, regardless, the report IS saved in your notebook/colab files.\n"
     ]
    }
   ],
   "source": [
    "eda.show_html('transac.html')"
   ]
  }
 ],
 "metadata": {
  "kernelspec": {
   "display_name": "Python 3 (ipykernel)",
   "language": "python",
   "name": "python3"
  },
  "language_info": {
   "codemirror_mode": {
    "name": "ipython",
    "version": 3
   },
   "file_extension": ".py",
   "mimetype": "text/x-python",
   "name": "python",
   "nbconvert_exporter": "python",
   "pygments_lexer": "ipython3",
   "version": "3.8.12"
  }
 },
 "nbformat": 4,
 "nbformat_minor": 5
}
