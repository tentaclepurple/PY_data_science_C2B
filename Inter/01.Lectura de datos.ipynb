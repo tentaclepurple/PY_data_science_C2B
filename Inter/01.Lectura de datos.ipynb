{
 "cells": [
  {
   "cell_type": "markdown",
   "metadata": {},
   "source": [
    "# Manipulación de rutas"
   ]
  },
  {
   "cell_type": "code",
   "execution_count": 1,
   "metadata": {},
   "outputs": [],
   "source": [
    "import os"
   ]
  },
  {
   "cell_type": "code",
   "execution_count": 2,
   "metadata": {
    "scrolled": true
   },
   "outputs": [
    {
     "data": {
      "text/plain": [
       "'c:\\\\Users\\\\Iban\\\\Dropbox\\\\42urduliz\\\\python\\\\PythonC2B\\\\Inter'"
      ]
     },
     "execution_count": 2,
     "metadata": {},
     "output_type": "execute_result"
    }
   ],
   "source": [
    "os.getcwd()"
   ]
  },
  {
   "cell_type": "code",
   "execution_count": 3,
   "metadata": {},
   "outputs": [
    {
     "data": {
      "text/plain": [
       "'Ejercicio'"
      ]
     },
     "execution_count": 3,
     "metadata": {},
     "output_type": "execute_result"
    }
   ],
   "source": [
    "path = r'C:\\Users\\german\\Documents\\00.Trabajo\\01.C2B\\35.Python Intermedio - C2B (15h)\\Ejercicio'\n",
    "#path = 'C:\\\\Users\\\\ibai\\\\tmp'\n",
    "\n",
    "# Obtener ultimo componente\n",
    "os.path.basename(path)"
   ]
  },
  {
   "cell_type": "code",
   "execution_count": 4,
   "metadata": {},
   "outputs": [
    {
     "data": {
      "text/plain": [
       "'C:\\\\Users\\\\german\\\\Documents\\\\00.Trabajo\\\\01.C2B\\\\35.Python Intermedio - C2B (15h)'"
      ]
     },
     "execution_count": 4,
     "metadata": {},
     "output_type": "execute_result"
    }
   ],
   "source": [
    "# Obtener el nombre del directorio\n",
    "os.path.dirname(path)"
   ]
  },
  {
   "cell_type": "code",
   "execution_count": 5,
   "metadata": {},
   "outputs": [
    {
     "data": {
      "text/plain": [
       "'Ejercicio\\\\tmp\\\\'"
      ]
     },
     "execution_count": 5,
     "metadata": {},
     "output_type": "execute_result"
    }
   ],
   "source": [
    "# Unir componentes a la ruta\n",
    "os.path.join(os.path.basename(path),'tmp\\\\')\n",
    "# os.path.join('tmp\\\\',os.path.basename(path))"
   ]
  },
  {
   "cell_type": "code",
   "execution_count": 6,
   "metadata": {},
   "outputs": [
    {
     "data": {
      "text/plain": [
       "'C:\\\\Users\\\\Iban/datos/.andoni/Productos.txt'"
      ]
     },
     "execution_count": 6,
     "metadata": {},
     "output_type": "execute_result"
    }
   ],
   "source": [
    "# Expandir una ruta\n",
    "path1 = '~/datos/.andoni/Productos.txt'\n",
    "os.path.expanduser(path1)"
   ]
  },
  {
   "cell_type": "code",
   "execution_count": 7,
   "metadata": {},
   "outputs": [
    {
     "data": {
      "text/plain": [
       "('~/datos/.andoni/Productos', '.txt')"
      ]
     },
     "execution_count": 7,
     "metadata": {},
     "output_type": "execute_result"
    }
   ],
   "source": [
    "# Separar la extensión del archivo\n",
    "os.path.splitext(path1)"
   ]
  },
  {
   "cell_type": "code",
   "execution_count": 8,
   "metadata": {},
   "outputs": [
    {
     "data": {
      "text/plain": [
       "'.txt'"
      ]
     },
     "execution_count": 8,
     "metadata": {},
     "output_type": "execute_result"
    }
   ],
   "source": [
    "# Y podemos quedarnos con la extensión\n",
    "os.path.splitext(path1)[1]"
   ]
  },
  {
   "cell_type": "code",
   "execution_count": 9,
   "metadata": {},
   "outputs": [
    {
     "data": {
      "text/plain": [
       "'txt'"
      ]
     },
     "execution_count": 9,
     "metadata": {},
     "output_type": "execute_result"
    }
   ],
   "source": [
    "# ¿Se os ocurre otra manera de extraer la extensión en path1?\n",
    "path1.split('.')[-1]"
   ]
  },
  {
   "cell_type": "markdown",
   "metadata": {},
   "source": [
    "### Existencia de ficheros y directorios"
   ]
  },
  {
   "cell_type": "code",
   "execution_count": 10,
   "metadata": {},
   "outputs": [
    {
     "data": {
      "text/plain": [
       "False"
      ]
     },
     "execution_count": 10,
     "metadata": {},
     "output_type": "execute_result"
    }
   ],
   "source": [
    "os.path.exists('./datos/csv')"
   ]
  },
  {
   "cell_type": "code",
   "execution_count": 11,
   "metadata": {},
   "outputs": [
    {
     "data": {
      "text/plain": [
       "True"
      ]
     },
     "execution_count": 11,
     "metadata": {},
     "output_type": "execute_result"
    }
   ],
   "source": [
    "os.path.exists('./data')"
   ]
  },
  {
   "cell_type": "code",
   "execution_count": 12,
   "metadata": {},
   "outputs": [
    {
     "data": {
      "text/plain": [
       "False"
      ]
     },
     "execution_count": 12,
     "metadata": {},
     "output_type": "execute_result"
    }
   ],
   "source": [
    "os.path.exists('./datos/tmp')"
   ]
  },
  {
   "cell_type": "code",
   "execution_count": 13,
   "metadata": {},
   "outputs": [
    {
     "data": {
      "text/plain": [
       "True"
      ]
     },
     "execution_count": 13,
     "metadata": {},
     "output_type": "execute_result"
    }
   ],
   "source": [
    "os.path.isfile('./data/calendario_laboral_2022.csv')"
   ]
  },
  {
   "cell_type": "code",
   "execution_count": 14,
   "metadata": {},
   "outputs": [
    {
     "data": {
      "text/plain": [
       "True"
      ]
     },
     "execution_count": 14,
     "metadata": {},
     "output_type": "execute_result"
    }
   ],
   "source": [
    "os.path.isdir('./data')"
   ]
  },
  {
   "cell_type": "code",
   "execution_count": 15,
   "metadata": {},
   "outputs": [
    {
     "data": {
      "text/plain": [
       "False"
      ]
     },
     "execution_count": 15,
     "metadata": {},
     "output_type": "execute_result"
    }
   ],
   "source": [
    "os.path.isdir('./data/calendario_laboral_2022.csv')"
   ]
  },
  {
   "cell_type": "code",
   "execution_count": 16,
   "metadata": {},
   "outputs": [
    {
     "data": {
      "text/plain": [
       "28981"
      ]
     },
     "execution_count": 16,
     "metadata": {},
     "output_type": "execute_result"
    }
   ],
   "source": [
    "os.path.getsize('./data/calendario_laboral_2022.csv')"
   ]
  },
  {
   "cell_type": "code",
   "execution_count": 17,
   "metadata": {},
   "outputs": [
    {
     "data": {
      "text/plain": [
       "1644278976.0"
      ]
     },
     "execution_count": 17,
     "metadata": {},
     "output_type": "execute_result"
    }
   ],
   "source": [
    "date = os.path.getmtime('./data/calendario_laboral_2022.csv')\n",
    "date \n",
    "# devuelve el tiempo (en segundos) desde el 1 de enero de 1970 hasta el último acceso"
   ]
  },
  {
   "cell_type": "code",
   "execution_count": 18,
   "metadata": {},
   "outputs": [
    {
     "data": {
      "text/plain": [
       "'Tue Feb  8 01:09:36 2022'"
      ]
     },
     "execution_count": 18,
     "metadata": {},
     "output_type": "execute_result"
    }
   ],
   "source": [
    "import time\n",
    "time.ctime(date)"
   ]
  },
  {
   "cell_type": "markdown",
   "metadata": {},
   "source": [
    "### Listas de archivos"
   ]
  },
  {
   "cell_type": "code",
   "execution_count": 19,
   "metadata": {},
   "outputs": [
    {
     "data": {
      "text/plain": [
       "['Adult_short_mal.csv',\n",
       " 'aemet.json',\n",
       " 'aemet2.json',\n",
       " 'calendario_laboral_2022.csv',\n",
       " 'calendario_laboral_2022.json',\n",
       " 'calendario_laboral_2022.xlsx',\n",
       " 'calendario_laboral_2022.xml',\n",
       " 'data2.csv',\n",
       " 'datospickle.dat',\n",
       " 'dimension_cliente.csv',\n",
       " 'ejemplo1.1.csv',\n",
       " 'ejemplo1.csv',\n",
       " 'ejemplo2.xls',\n",
       " 'hectareasIncendiosCCAA2005-2013.csv',\n",
       " 'medicion_temperaturas_mal.csv',\n",
       " 'prueba.txt']"
      ]
     },
     "execution_count": 19,
     "metadata": {},
     "output_type": "execute_result"
    }
   ],
   "source": [
    "import os\n",
    "names = os.listdir('./data')\n",
    "names"
   ]
  },
  {
   "cell_type": "code",
   "execution_count": 20,
   "metadata": {},
   "outputs": [
    {
     "name": "stdout",
     "output_type": "stream",
     "text": [
      ".\\data\\calendario_laboral_2022.csv\n",
      ".\\data\\calendario_laboral_2022.json\n",
      ".\\data\\calendario_laboral_2022.xlsx\n",
      ".\\data\\calendario_laboral_2022.xml\n"
     ]
    }
   ],
   "source": [
    "import glob\n",
    "files_text = glob.glob('.\\data\\calendario*')\n",
    "\n",
    "for file in files_text:\n",
    "    print(file)\n",
    "    #Cargar el archivo"
   ]
  },
  {
   "cell_type": "code",
   "execution_count": 21,
   "metadata": {},
   "outputs": [
    {
     "name": "stdout",
     "output_type": "stream",
     "text": [
      ".\\data\\Adult_short_mal.csv\n",
      ".\\data\\calendario_laboral_2022.csv\n",
      ".\\data\\data2.csv\n",
      ".\\data\\dimension_cliente.csv\n",
      ".\\data\\ejemplo1.1.csv\n",
      ".\\data\\ejemplo1.csv\n",
      ".\\data\\hectareasIncendiosCCAA2005-2013.csv\n",
      ".\\data\\medicion_temperaturas_mal.csv\n"
     ]
    }
   ],
   "source": [
    "import glob\n",
    "files_text = glob.glob('.\\data\\*.csv')\n",
    "\n",
    "for file in files_text:\n",
    "    print(file)\n",
    "    #Cargar el archivo"
   ]
  },
  {
   "cell_type": "markdown",
   "metadata": {},
   "source": [
    "# OPERACIONES CON FICHEROS"
   ]
  },
  {
   "cell_type": "markdown",
   "metadata": {},
   "source": [
    "### Abrir, Leer y Cerrar archivos"
   ]
  },
  {
   "cell_type": "code",
   "execution_count": 22,
   "metadata": {},
   "outputs": [],
   "source": [
    "# Abre archivo en modo lectura\n",
    "archivo = open('./data/calendario_laboral_2022.csv',mode='r', encoding='latin-1')"
   ]
  },
  {
   "cell_type": "code",
   "execution_count": 23,
   "metadata": {
    "scrolled": true,
    "tags": []
   },
   "outputs": [
    {
     "data": {
      "text/plain": [
       "'date;descripcionEs;descriptionEu;municipalityEs;MunicipalityEu;territory;municipalitycode;latwgs84;lonwgs84\\n2022/1/1;Año nuevo;Urteberri eguna;CAE;EAE;Todos/denak;;;\\n2022/1/6;Epifanía del Señor;Errege Magoen eguna;CAE;EAE;Todos/denak;;;\\n2022/4/14;Jueves Santo;Ostegun Santua;CAE;EAE;Todos/denak;;;\\n2022/4/15;Viernes Santo;Ostiral Santua;CAE;EAE;Todos/denak;;;\\n2022/4/18;Lunes de Pascua de Resurrección;Pazko Astelehena;CAE;EAE;Todos/denak;;;\\n2022/7/25;Santiago Apóstol;Santiago Apostolua;CAE;EAE;Todos/denak;;;\\n2022/8/15;Asunción de la Virgen;Ama Birjinaren Jasokundea;CAE;EAE;Todos/denak;;;\\n2022/9/6;V Centenario de la Vuelta al Mundo capitaneada por Juan Sebastián Elcano;Juan Sebastian Elkano kapitain zela munduari bira eman izanaren V. Mendeurrena;CAE;EAE;Todos/denak;;;\\n2022/10/12;Fiesta Nacional;Espainiako Jai Nazionala;CAE;EAE;Todos/denak;;;\\n2022/11/1;Todos los Santos;Santu Guztien Eguna;CAE;EAE;Todos/denak;;;\\n2022/12/6;Día de la Constitución;Konstituzio Eguna;CAE;EAE;Todos/denak;;;\\n2022/12/8;Inmaculada Concepción;Andre Maria Sortzez Garbiaren eguna;CAE;EAE;Todos/denak;;;\\n2022/7/4;San Valentín de Berriotxoa;San Balendin Berrio-Otxoa;Bizkaia;Bizkaia;Bizkaia;;;\\n2022/9/9;Nuestra Señora de Aránzazu;Arantzazuko Amaren eguna;Gipuzkoa;Gipuzkoa;Gipuzkoa;;;\\n2022/4/28;San Prudencio  ;San Prudentzio;Álava - Araba;Álava - Araba;Álava - Araba;;;\\n2022/2/3;Fiesta local;Tokiko jai-eguna;Abadiño  ;Abadiño  ;Bizkaia;1;43,150000;-2,610278\\n2022/6/30;Santa Lucía;Santa Luzia;Abanto y Ciérvana - Abanto Zierbena ;Abanto y Ciérvana-Abanto Zierbena ;Bizkaia;2;43,316389;-3,083333\\n2022/5/26;La Ascensión  ;Asentzio Eguna  ;Ajangiz;Ajangiz;Bizkaia;911;43,301000;-2,671000\\n2022/9/2;San Antolín;San Antolín;Alonsotegi;Alonsotegi;Bizkaia;912;43,245186;-2,988701\\n2022/7/16;Ntra. Sra. del Carmen  ;Karmengo Amaren Eguna;Amorebieta-Etxano  ;Amorebieta-Etxano  ;Bizkaia;3;43,226104;-2,712628\\n2022/7/5;San Martín  ;San Martin;Amoroto  ;Amoroto  ;Bizkaia;4;43,328500;-2,512500\\n2022/7/18;Santa Marina;Santa Marina;Arakaldo  ;Arakaldo  ;Bizkaia;5;43,149550;-2,925086\\n2022/6/29;San Pedro;San Pedro;Arantzazu  ;Arantzazu  ;Bizkaia;6;43,152904;-2,790430\\n2022/8/24;San Bartolomé;Bartolome Deuna;Areatza  ;Areatza  ;Bizkaia;93;43,121079;-2,767771\\n2022/6/29;San Pedro;San Pedro eguna;Arrankudiaga;Arrankudiaga;Bizkaia;9;43,173503;-2,917886\\n2022/12/21;Santo Tomas;Santo Tomas eguna;Arratzu;Arratzu;Bizkaia;914;43,311667;-2,638611\\n2022/11/11;San Martín;San Martín eguna;Arrieta  ;Arrieta  ;Bizkaia;10;43,340362;-2,769799\\n2022/7/22;Santa María Magdalena;Andra Maria Magdalena;Arrigorriaga;Arrigorriaga;Bizkaia;11;43,207520;-2,887839\\n2022/9/8;Fiesta local;Tokiko jai-eguna;Artea  ;Artea  ;Bizkaia;23;43,133718;-2,784141\\n2022/9/2;San Antolín;San Antolin;Artzentales  ;Artzentales  ;Bizkaia;8;43,240556;-3,241389\\n2022/6/29;San Pedro  ;San Pedro Eguna;Atxondo  ;Atxondo  ;Bizkaia;91;43,130342;-2,585079\\n2022/6/24;San Juan  ;San Juan eguna;Aulesti  ;Aulesti  ;Bizkaia;70;43,296084;-2,563355\\n2022/8/29;San Juan Degollado;Joan Doloz Eguna;Bakio  ;Bakio  ;Bizkaia;12;43,427778;-2,811389\\n2022/1/24;Fundación de la Villa;Fundación de la Villa;Balmaseda  ;Balmaseda  ;Bizkaia;90;43,192866;-3,196942\\n2022/7/16;Nuestra Señora del Carmen;Karmengo Andra Mari;Barakaldo  ;Barakaldo  ;Bizkaia;13;43,297222;-2,991667\\n2022/6/24;San Juan;San Juan;Barrika  ;Barrika  ;Bizkaia;14;43,406384;-2,962425\\n2022/10/13;San Fuasto;San Fausto;Basauri  ;Basauri  ;Bizkaia;15;43,233333;-2,883333\\n2022/6/24;San Juan Bautista;San Juan Bautista;Bedia  ;Bedia  ;Bizkaia;92;43,209374;-2,804965\\n2022/8/4;Santo Domingo de Guzmán;Santo Domingo de Guzman eguna;Berango;Berango;Bizkaia;16;43,365899;-2,996356\\n2022/9/8;Andra Mari;Andra Mari Eguna;Bermeo  ;Bermeo  ;Bizkaia;17;43,420422;-2,722158\\n2022/5/29;Fiesta local;Tokiko jai-eguna;Berriatua  ;Berriatua  ;Bizkaia;18;43,316667;-2,466667\\n2022/6/29;San Pedro;San Pedro;Berriz  ;Berriz  ;Bizkaia;19;43,193923;-2,589165\\n2022/8/26;Viernes de la Semana Grande;Aste Nagusiko Ostirala;Bilbao  ;Bilbao  ;Bizkaia;20;43,256963;-2,923441\\n2022/6/9;Fiesta local;Tokiko jai-eguna;Busturia  ;Busturia  ;Bizkaia;21;43,383000;-2,697000\\n2022/5/16;San Isidro Labrador;San Isidro Nekazari Deuna ;Derio  ;Derio  ;Bizkaia;901;43,302000;-2,881833\\n2022/6/29;San Pedro;San Pedro eguna;Dima  ;Dima  ;Bizkaia;26;43,143389;-2,751464\\n2022/10/13;San Fausto;San Fausto eguna;Durango;Durango;Bizkaia;27;43,169068;-2,632655\\n2022/6/24;San Juan;San Juan eguna;Ea  ;Ea  ;Bizkaia;28;43,380135;-2,585593\\n2022/6/29;San Pedro;San Pedro;Elantxobe  ;Elantxobe  ;Bizkaia;31;43,403422;-2,639800\\n2022/9/5;Fiesta local;Tokiko jai-eguna;Elorrio  ;Elorrio  ;Bizkaia;32;43,130387;-2,542155\\n2022/6/16;Corpus Christi;Gorpuzti;Erandio  ;Erandio  ;Bizkaia;902;43,307458;-2,946418\\n2022/9/29;San Miguel Arcángel;San Miguel Arcángel;Ereño  ;Ereño  ;Bizkaia;33;43,356944;-2,621667\\n2022/7/27;Día de Zezen;Zezen eguna;Ermua  ;Ermua  ;Bizkaia;34;43,186642;-2,502607\\n2022/6/24;San Juan;San Juan;Errigoiti;Errigoiti;Bizkaia;79;43,318709;-2,725344\\n2022/12/26;San Esteban;San Esteban;Etxebarri  ;Etxebarri  ;Bizkaia;29;43,247179;-2,890139\\n2022/11/30;San Andrés;San Andres eguna;Etxebarria  ;Etxebarria  ;Bizkaia;30;43,254146;-2,477354\\n2022/11/11;San Martin ;San Martin;Forua  ;Forua  ;Bizkaia;906;43,333712;-2,678589\\n2022/8/10;San Lorenzo;San Lorenzo;Fruiz  ;Fruiz  ;Bizkaia;35;43,328889;-2,783333\\n2022/9/14;Exaltación de la Santa Cruz;Gurutze Santuaren gorespena;Galdakao  ;Galdakao  ;Bizkaia;36;43,230556;-2,845833\\n2022/6/29;San Pedro Apóstol  ;San Pedro Apostol;Galdames  ;Galdames  ;Bizkaia;37;43,255000;-3,096389\\n2022/11/11;San Martín;San Martín;Gamiz-Fika  ;Gamiz-Fika  ;Bizkaia;38;43,311728;-2,810701\\n2022/7/26;Santa Ana;Santa Ana;Garai  ;Garai  ;Bizkaia;39;43,194722;-2,609722\\n2022/4/25;San Marcos;Markos Deuna;Gatika  ;Gatika  ;Bizkaia;40;43,363889;-2,871944\\n2022/1/26;San Policarpio;San Policarpio eguna;Gautegiz Arteaga;Gautegiz Arteaga;Bizkaia;41;43,353104;-2,650985\\n2022/8/16;San Roque;San Roke;Gernika-Lumo  ;Gernika-Lumo  ;Bizkaia;46;43,317073;-2,678975\\n2022/8/10;San Lorenzo;San Lorenzo eguna ;Getxo  ;Getxo  ;Bizkaia;44;43,344167;-3,006389\\n2022/9/8;Andra Mari;Andra Mari Eguna;Gizaburuaga;Gizaburuaga;Bizkaia;47;43,331940;-2,536111\\n2022/9/26;San Cosme y San Damián;San Cosme y San Damián;Gordexola  ;Gordexola  ;Bizkaia;42;43,178611;-3,072778\\n2022/8/5;Nuestra Señora de Aguirre y de las Nieves;Agirreko Andra Maria eta Elurretakoa;Gorliz  ;Gorliz  ;Bizkaia;43;43,416667;-2,933333\\n2022/8/10;San Lorenzo;San Lorenzo;Güeñes  ;Güeñes  ;Bizkaia;45;43,210321;-3,095317\\n2022/6/16;Corpus Christi;Corpus Christi;Ibarrangelu;Ibarrangelu;Bizkaia;48;43,390215;-2,633802\\n2022/6/13;Fiesta local;Tokiko jai-eguna;Igorre;Igorre;Bizkaia;94;43,165833;-2,776111\\n2022/7/26;Santa Ana;Santa Ana;Ispaster;Ispaster;Bizkaia;49;43,362954;-2,544635\\n2022/9/29;San Miguel  ;San Miguel;Iurreta  ;Iurreta  ;Bizkaia;910;43,176705;-2,633777\\n2022/9/8;Ntra. Sra. De Erdozia;Ntra. Sra. De Erdozia;Izurtza  ;Izurtza  ;Bizkaia;50;43,152273;-2,641978\\n2022/9/29;San Miguel  ;San Miguel;Valle de Carranza;Karrantza Harana;Bizkaia;22;43,225278;-3,359444\\n2022/7/26;Fiesta local;Tokiko jai-eguna;Kortezubi  ;Kortezubi  ;Bizkaia;907;43,335982;-2,654319\\n2022/8/5;La Virgen de las Nieves;La Virgen de las Nieves;Lanestosa;Lanestosa;Bizkaia;51;43,221169;-3,439148\\n2022/9/29;San Miguel;San Miguel;Larrabetzu;Larrabetzu;Bizkaia;52;43,260973;-2,796175\\n2022/9/29;San Miguel;San Miguel;Laukiz;Laukiz;Bizkaia;53;43,353333;-2,906111\\n2022/6/24;San Juan;San Juan eguna;Leioa ;Leioa ;Bizkaia;54;43,326097;-2,987704\\n2022/9/2;San Antolín  ;San Antolin eguna;Lekeitio;Lekeitio;Bizkaia;57;43,365509;-2,503344\\n2022/9/8;Andra Mari;Andra Mari;Lemoa;Lemoa;Bizkaia;55;43,208759;-2,774116\\n2022/10/17;Fiesta Local;Tokiko jai-eguna;Lemoiz;Lemoiz;Bizkaia;56;43,413244;-2,902253\\n2022/9/8;Andra Mari;Andra Mari eguna;Lezama;Lezama;Bizkaia;81;43,272167;-2,832167\\n2022/6/29;Fiesta local;Tokiko jai-eguna;Loiu;Loiu;Bizkaia;903;43,315000;-2,938333\\n2022/3/2;Miércoles de Ceniza;Hautsezko asteazkena;Mallabia;Mallabia;Bizkaia;58;43,189651;-2,529969\\n2022/10/21;Santa Ursula;Santa Ursula;Mañaria;Mañaria;Bizkaia;59;43,137485;-2,661135\\n2022/7/16;Fiesta local;Tokiko jai-eguna;Markina-Xemein;Markina-Xemein;Bizkaia;60;43,270604;-2,497155\\n2022/8/10;San Lorenzo;Lorentzo Deuna;Maruri-Jatabe;Maruri-Jatabe;Bizkaia;61;43,382772;-2,874989\\n2022/9/29;San Miguel;San Miguel;Mendata;Mendata;Bizkaia;62;43,283333;-2,633333\\n2022/8/1;San Pedro Advincula;San Pedro Advincula;Mendexa;Mendexa;Bizkaia;63;43,346389;-2,483333\\n2022/8/16;San Roque;Roke Deuna;Meñaka;Meñaka;Bizkaia;64;43,364464;-2,801795\\n2022/7/26;Santa Ana;Santa Ana;Morga;Morga;Bizkaia;66;43,297932;-2,752739\\n2022/6/29;San Pedro y San Pablo;San Pedro eta San Paulo jai eguna;Mundaka;Mundaka;Bizkaia;68;43,407335;-2,698322\\n2022/6/29;Fiesta local;Tokiko jai-eguna;Mungia;Mungia;Bizkaia;69;43,354410;-2,846714\\n2022/6/29;San Pedro;San Pedro Eguna;Munitibar-Arbatzegi Gerrikaitz;Munitibar-Arbatzegi Gerrikaitz;Bizkaia;7;43,265332;-2,591845\\n2022/9/8;Fiesta local;Tokiko jai-eguna;Murueta;Murueta;Bizkaia;908;43,354463;-2,684153\\n2022/6/24;San Juan;San Juan;Muskiz;Muskiz;Bizkaia;71;43,323333;-3,121667\\n2022/10/31;Último lunes de octubre de Gernika;Gernikako urriko azken astelehena;Muxika;Muxika;Bizkaia;67;43,289668;-2,692941\\n2022/9/8;Andra Mari;Andra Mari eguna;Nabarniz;Nabarniz;Bizkaia;909;43,321597;-2,584400\\n2022/8/17;Día del pescador;Arrantzale eguna;Ondarroa;Ondarroa;Bizkaia;73;43,320698;-2,420475\\n2022/9/2;San Antolin;San Antolin;Orozko;Orozko;Bizkaia;75;43,108611;-2,911111\\n2022/5/18;San Félix de Cantalicio;Kantaliziozko Felix Deuna;Ortuella;Ortuella;Bizkaia;83;43,311370;-3,055952\\n2022/7/18;Santa Marina;Santa Marina;Otxandio  ;Otxandio  ;Bizkaia;72;43,040447;-2,654584\\n2022/7/22;La Magdalena;La Magdalena;Plentzia  ;Plentzia  ;Bizkaia;77;43,404430;-2,950102\\n2022/8/16;San Roque;San Roque;Portugalete  ;Portugalete  ;Bizkaia;78;43,320664;-3,020252\\n2022/7/16;Virgen del Carmen;Virgen del Carmen;Santurtzi  ;Santurtzi  ;Bizkaia;82;43,328711;-3,031772\\n2022/6/29;San Pedro Apóstol;San Pedro apostoluaren eguna;Sestao  ;Sestao  ;Bizkaia;84;43,309635;-3,006940\\n2022/6/24;Fiesta local;Tokiko jaieguna;Sondika  ;Sondika  ;Bizkaia;904;43,300063;-2,927103\\n2022/6/29;San Pedro;San Pedro;Sopelana  ;Sopelana  ;Bizkaia;85;43,378918;-2,983002\\n2022/7/26;Santa Ana;Santa Ana;Sopuerta  ;Sopuerta  ;Bizkaia;86;43,262778;-3,152500\\n2022/11/30;San Andrés  ;San Andres  ;Sukarrieta  ;Sukarrieta  ;Bizkaia;76;43,395342;-2,696367\\n2022/6/29;San Pedro;San Pedro;Trucios-Turtzioz  ;Trucios-Turtzioz  ;Bizkaia;87;43,272678;-3,288545\\n2022/6/24;San Juan;San Juan eguna;Ubide  ;Ubide  ;Bizkaia;88;43,026832;-2,688209\\n2022/9/8;Nuestra Señora de la Virgen de Udiarraga  ;Nuestra Señora de la Virgen de Udiarraga  ;Ugao-Miraballes  ;Ugao-Miraballes  ;Bizkaia;65;43,179989;-2,902508\\n2022/9/8;Andramari;Andramari;Urduliz  ;Urduliz  ;Bizkaia;89;43,379667;-2,962000\\n2022/5/9;Otxomaio  ;Otxomaio  ;Urduña-Orduña  ;Urduña-Orduña  ;Bizkaia;74;42,994449;-3,009622\\n2022/8/8;Transfiguración del Señor;Transfiguración del Señor;Valle de Trápaga-Trapagaran  ;Valle de Trápaga-Trapagaran  ;Bizkaia;80;43,303108;-3,035548\\n2022/7/8;Fiesta local;Tokiko jaieguna;Zaldibar  ;Zaldibar  ;Bizkaia;95;43,170970;-2,547130\\n2022/10/3;Día de Gangas;Gangas eguna;Zalla  ;Zalla  ;Bizkaia;96;43,214009;-3,135223\\n2022/11/11;San Martín;San Martin eguna;Zamudio  ;Zamudio  ;Bizkaia;905;43,283333;-2,866667\\n2022/8/10;San Lorenzo  ;San Lorenzo eguna ;Zaratamo  ;Zaratamo  ;Bizkaia;97;43,211505;-2,873626\\n2022/8/16;San Roque;San Roke eguna;Zeanuri  ;Zeanuri  ;Bizkaia;24;43,099664;-2,749615\\n2022/9/2;San Antolín  ;San Antolin eguna;Zeberio  ;Zeberio  ;Bizkaia;25;43,152778;-2,852778\\n2022/10/17;Día de la Independencia de Zierbena  ;Zierbenako Independentziaren Eguna  ;Zierbena  ;Zierbena  ;Bizkaia;913;43,347655;-3,086152\\n2022/6/24;San Juan;San Juan;Ziortza-Bolibar  ;Ziortza-Bolibar  ;Bizkaia;915;43,249820;-2,550174\\n2022/6/24;San Juan;San Juan;Abaltzisketa  ;Abaltzisketa  ;Gipuzkoa;1;43,047582;-2,105388\\n2022/8/16;Fiesta local;Tokiko jai-eguna;Aduna  ;Aduna  ;Gipuzkoa;2;43,203792;-2,050079\\n2022/8/10;San Lorenzo;San Lorenzo;Aia  ;Aia  ;Gipuzkoa;16;43,236922;-2,149008\\n2022/9/29;San Miguel Arcángel;Mikel Goi Angerua;Aizarnazabal  ;Aizarnazabal  ;Gipuzkoa;3;43,255405;-2,236461\\n2022/8/16;Fiesta local;Tokiko jaieguna;Albiztur  ;Albiztur  ;Gipuzkoa;4;43,129723;-2,137180\\n2022/7/16;Fiesta local;Tokiko jaieguna;Alegia  ;Alegia  ;Gipuzkoa;5;43,100017;-2,096273\\n2022/9/8;Natividad de la Virgen;Amabirjinaren jaiotze eguna;Alkiza  ;Alkiza  ;Gipuzkoa;6;43,172434;-2,109436\\n2022/9/29;San Miguel Arcángel;Mikel Goi Angerua;Altzaga  ;Altzaga  ;Gipuzkoa;906;43,064490;-2,153833\\n2022/2/28;Lunes de Carnaval  ;Iñauterietako Astelehena;Altzo  ;Altzo  ;Gipuzkoa;7;43,100072;-2,083905\\n2022/8/24;San Bartolomé;Bartolome Deuna;Amezketa  ;Amezketa  ;Gipuzkoa;8;43,044517;-2,083235\\n2022/6/24;San Juan;San Juan;Andoain  ;Andoain  ;Gipuzkoa;9;43,220480;-2,021122\\n2022/6/16;Corpus Christi  ;Gorpuzti-eguna;Anoeta  ;Anoeta  ;Gipuzkoa;10;43,161467;-2,070695\\n2022/7/15;Fiesta local;Tokiko jai-eguna;Antzuola  ;Antzuola  ;Gipuzkoa;11;43,099441;-2,381747\\n2022/11/11;San Martín  ;Martin Deuna;Arama  ;Arama  ;Gipuzkoa;12;43,063637;-2,165558\\n2022/8/16;Fiesta local;Tokiko jai-eguna;Aretxabaleta  ;Aretxabaleta  ;Gipuzkoa;13;43,036248;-2,504542\\n2022/6/24;San Juan Bautista;San Juan Bataiatzailea;Arrasate-Mondragon  ;Arrasate-Mondragon  ;Gipuzkoa;55;43,066517;-2,487562\\n2022/6/29;San Pedro  ;San Pedro;Asteasu  ;Asteasu  ;Gipuzkoa;14;43,195198;-2,097548\\n2022/7/26;Fiesta local;Tokiko jai-eguna;Astigarraga  ;Astigarraga  ;Gipuzkoa;903;43,280652;-1,947560\\n2022/11/11;San Martín;San Martin;Ataun  ;Ataun ;Gipuzkoa;15;43,005480;-2,176620\\n2022/11/30;San Andrés  ;San Andres;Azkoitia  ;Azkoitia  ;Gipuzkoa;17;43,178205;-2,311640\\n2022/1/20;San Sebastián;San Sebastian;Azpeitia  ;Azpeitia  ;Gipuzkoa;18;43,183900;-2,265466\\n2022/8/16;Fiesta local;Tokiko jai-eguna;Baliarrain  ;Baliarrain  ;Gipuzkoa;904;43,069306;-2,129235\\n2022/5/30;Fiesta local;Tokiko jai-eguna;Beasain  ;Beasain  ;Gipuzkoa;19;43,047076;-2,204605\\n2022/6/29;Fiesta local;Tokiko jai-eguna;Beizama  ;Beizama  ;Gipuzkoa;20;43,134191;-2,200113\\n2022/6/24;San Juan;San Juan;Belaunza  ;Belauntza  ;Gipuzkoa;21;43,135283;-2,050705\\n2022/8/10;San Lorenzo  ;San Lorentzo;Berastegi  ;Berastegi  ;Gipuzkoa;22;43,124029;-1,979426\\n2022/9/16;San Martín Agirre;San Martin Agirre;Bergara  ;Bergara  ;Gipuzkoa;74;43,118217;-2,413358\\n2022/11/30;San Andrés;San Andres;Berrobi  ;Berrobi  ;Gipuzkoa;23;43,145479;-2,026374\\n2022/8/16;Día siguiente a la Virgen;Andra Mariren biharmunea;Bidania  - Goiatz  ;Bidania  - Goiatz  ;Gipuzkoa;24;43,142086;-2,167475\\n2022/8/24;San Bartolomé;Bartolome Deuna;Bidania - Bidania  ;Bidania - Bidania  ;Gipuzkoa;24;43,139399;-2,159979\\n2022/8/16;San Roque;San Roke;Deba  ;Deba  ;Gipuzkoa;29;43,295562;-2,353894\\n2022/1/20;San Sebastián  ;San Sebastian;Donostia-San Sebastian  ;Donostia-San Sebastian  ;Gipuzkoa;69;43,321874;-1,985520\\n2022/6/24;San Juan;San Juan;Eibar  ;Eibar  ;Gipuzkoa;30;43,184180;-2,473289\\n2022/9/8;Natividad de la Virgen;Amabirjinaren jaiotze eguna;Elduaien  ;Elduain  ;Gipuzkoa;31;43,140712;-2,000488\\n2022/7/1;Fiesta local;Tokiko jai-eguna;Elgeta  ;Elgeta  ;Gipuzkoa;33;43,136572;-2,487392\\n2022/1/17;San Antón;San Anton;Elgoibar  ;Elgoibar  ;Gipuzkoa;32;43,215187;-2,415702\\n2022/7/22;María Magdalena  ;Madalena eguna;Errenteria  ;Errenteria  ;Gipuzkoa;67;43,312752;-1,899633\\n2022/11/11;Fiesta local;Tokiko jaieguna;Errezil  ;Errezil  ;Gipuzkoa;66;43,164674;-2,173594\\n2022/6/29;San Pedro;San Pedro;Eskoriatza  ;Eskoriatza  ;Gipuzkoa;34;43,017074;-2,526980\\n2022/5/9;Aparicio de San Miguel;Mikel Deuna;Ezkio-Itsaso - Ezkio  ;Ezkio-Itsaso - Ezkio  ;Gipuzkoa;35;43,080484;-2,275421\\n2022/6/29;San Pedro;Pedro Deuna;Ezkio-Itsaso - Sta. Lutzi-Anduaga;Ezkio-Itsaso - Sta. Lutzi-Anduaga;Gipuzkoa;35;43,064321;-2,274735\\n2022/8/16;San Roque  ;San Roke;Gabiria  ;Gabiria  ;Gipuzkoa;38;43,049689;-2,279856\\n2022/9/29;San Miguel  ;San Migel;Gaintza  ;Gaintza  ;Gipuzkoa;37;43,052629;-2,132370\\n2022/8/16;Fiesta local;Tokiko jaieguna;Gaztelu  ;Gaztelu  ;Gipuzkoa;907;43,116579;-2,022278\\n2022/8/6;San Salvador  ;Salbatore Deuna;Getaria  ;Getaria  ;Gipuzkoa;39;43,303261;-2,204363\\n2022/6/24;San Juan Bautista;San Joan Bataiatzailea;Hernani  ;Hernani  ;Gipuzkoa;40;43,267549;-1,975814\\n2022/8/16;Fiesta local;Tokiko jai-eguna;Hernialde  ;Hernialde  ;Gipuzkoa;41;43,154467;-2,085025\\n2022/9/8;Ntra. Sra. De Guadalupe;Guadalupeko Ama;Hondarribia  ;Hondarribia  ;Gipuzkoa;36;43,362531;-1,791498\\n2022/8/24;San Bartolomé  ;San Bartolome;Ibarra  ;Ibarra  ;Gipuzkoa;42;43,132345;-2,065462\\n2022/2/3;Fiesta local;Tokiko jai-eguna;Idiazabal  ;Idiazabal  ;Gipuzkoa;43;43,011782;-2,234214\\n2022/8/10;San Lorenzo;San Lorentzo;Ikaztegieta  ;Ikaztegieta  ;Gipuzkoa;44;43,094960;-2,123900\\n2022/6/30;San Marcial;San Marcial;Irun  ;Irun  ;Gipuzkoa;45;43,338233;-1,789272\\n2022/9/29;San Miguel ;San Migel;Irura  ;Irura  ;Gipuzkoa;46;43,165688;-2,069616\\n2022/7/22;María Magdalena;Madalena Donea;Itsaso - Barrio Itxaso-Alegia ;Itsaso - Itxaso-Alegia auzoa ;Gipuzkoa;35;43,058055;-2,268215\\n2022/8/24;San Bartolomé;Bartolome Deuna;Itsaso - Casco;Itsaso - hirigunea;Gipuzkoa;35;43,072544;-2,257418\\n2022/9/8;Día de la Virgen de Kizkitza;Kizkitzako Ama Birjinaren eguna;Itsaso - Mendialdea;Itsaso - Mendialdea Zozkera;Gipuzkoa;35;43,072544;-2,257418\\n2022/9/23;Fiesta local;Tokiko jai-eguna;Itsasondo  ;Itsasondo  ;Gipuzkoa;47;43,066932;-2,167393\\n2022/8/3;Fiesta local;Tokiko jai-eguna;Larraul  ;Larraul  ;Gipuzkoa;48;43,187739;-2,102534\\n2022/6/29;San Pedro ;San Pedro ;Lasarte-Oria  ;Lasarte-Oria;Gipuzkoa;902;43,267455;-2,020179\\n2022/4/28;San Prudencio  ;San Prudentzio;Lazkao  ;Lazkao  ;Gipuzkoa;49;43,034324;-2,187379\\n2022/6/29;San Pedro ;San Pedro;Leaburu  ;Leaburu  ;Gipuzkoa;50;43,124984;-2,052106\\n2022/5/3;Santa Cruz;Santikutz eguna;Legazpi  ;Legazpi  ;Gipuzkoa;51;43,054361;-2,333641\\n2022/5/26;La Ascensión;Azintzio eguna;Legorreta  ;Legorreta  ;Gipuzkoa;52;43,085794;-2,150909\\n2022/9/8;Festividad de la Virgen;Amabirjinaren eguna;Leintz-Gatzaga  ;Leintz-Gatzaga  ;Gipuzkoa;68;42,987112;-2,568626\\n2022/9/14;Exaltación de la Santa Cruz  ;Gurutze Santuaren gorespena;Lezo  ;Lezo  ;Gipuzkoa;53;43,321127;-1,898775\\n2022/9/8;Fiesta local;Tokiko jaieguna;Lizartza  ;Lizartza  ;Gipuzkoa;54;43,103720;-2,034254\\n2022/7/26;Santa Ana;Santa Ana;Mendaro  ;Mendaro  ;Gipuzkoa;901;43,264167;-2,375500\\n2022/6/29;San Pedro  ;San Pedro;Mutiloa  ;Mutiloa  ;Gipuzkoa;57;43,022380;-2,272826\\n2022/7/22;María Magdalena;Madalen eguna;Mutriku  ;Mutriku  ;Gipuzkoa;56;43,307069;-2,385083\\n2022/8/3;San Esteban  ;Don Eztebe;Oiartzun  ;Oiartzun  ;Gipuzkoa;63;43,299282;-1,857874\\n2022/6/24;San Juan;San Joan;Olaberria  ;Olaberria  ;Gipuzkoa;58;43,027075;-2,203089\\n2022/9/29;San Miguel;San Migel;Oñati  ;Oñati  ;Gipuzkoa;59;43,032888;-2,411348\\n2022/7/26;Santa Ana;Santa Ana;Ordizia  ;Ordizia  ;Gipuzkoa;76;43,054198;-2,178115\\n2022/1/20;San Sebastián;San Sebastian;Orendain  ;Orendain  ;Gipuzkoa;905;43,079721;-2,114290\\n2022/5/3;Fiesta local;Tokiko jaieguna;Orexa  ;Orexa  ;Gipuzkoa;60;43,093881;-2,011392\\n2022/6/29;San Pedro  ;San Pedro;Orio  ;Orio  ;Gipuzkoa;61;43,278323;-2,126597\\n2022/11/30;San Andrés  ;San Andres;Ormaiztegi  ;Ormaiztegi  ;Gipuzkoa;62;43,042735;-2,255848\\n2022/7/7;San Fermín;San Fermin;Pasaia - Antxo  ;Pasaia - Antxo  ;Gipuzkoa;64;43,317534;-1,917562\\n2022/6/24;San Juan;San Juan;Pasaia - Donibane  ;Pasaia - Donibane  ;Gipuzkoa;64;43,327481;-1,919883\\n2022/6/29;San Pedro  ;San Pedro;Pasaia - San Pedro  ;Pasaia - San Pedro  ;Gipuzkoa;64;43,323348;-1,930432\\n2022/7/16;Virgen del Carmen  ;Karmengo Ama;Pasaia - Trintxerpe  ;Pasaia - Trintxerpe  ;Gipuzkoa;64;43,326138;-1,931587\\n2022/6/24;SanJuan;San Joan;Segura  ;Segura  ;Gipuzkoa;70;43,009216;-2,252519\\n2022/7/26;Santa Ana  ;Santa Ana  ;Soraluze - P. De Las Armas;Soraluze - P. De Las Armas;Gipuzkoa;65;43,175430;-2,412494\\n2022/6/24;Fiesta local;Tokiko jaieguna;Tolosa  ;Tolosa  ;Gipuzkoa;71;43,136978;-2,073914\\n2022/9/29;San Miguel  ;San Migel;Urnieta  ;Urnieta  ;Gipuzkoa;72;43,248200;-1,990517\\n2022/9/19;Santa Anastasia  ;Santa Anastasia;Urretxu  ;Urretxu  ;Gipuzkoa;77;43,092282;-2,314383\\n2022/7/2;Santa Isabel;Santixabel;Usurbil  ;Usurbil  ;Gipuzkoa;73;43,271382;-2,049934\\n2022/7/26;Santa Ana;Santa Ana;Villabona  ;Billabona  ;Gipuzkoa;75;43,189944;-2,052453\\n2022/10/6;Santa Fe  ;Santa Fe;Zaldibia  ;Zaldibia  ;Gipuzkoa;78;43,037964;-2,150894\\n2022/6/27;San Pelayo  ;San Pelaio;Zarautz  ;Zarautz  ;Gipuzkoa;79;43,280364;-2,171588\\n2022/6/6;Lunes de Pentecostés  ;Mendekoste astelehena;Zegama  ;Zegama  ;Gipuzkoa;25;42,975677;-2,290072\\n2022/8/16;San Roque;San Roke;Zerain  ;Zerain  ;Gipuzkoa;26;43,012119;-2,274118\\n2022/9/8;Festividad de la Virgen;Ama Birjinaren eguna;Zestoa  ;Zestoa  ;Gipuzkoa;27;43,239442;-2,258113\\n2022/9/8;Fiesta local;Tokiko jai-eguna;Zizurkil  ;Zizurkil  ;Gipuzkoa;28;43,199523;-2,074073\\n2022/6/29;San Pedro  ;San Pedro;Zumaia  ;Zumaia  ;Gipuzkoa;81;43,297258;-2,256848\\n2022/7/2;Santa Isabel  ;Santa Isabel;Zumarraga  ;Zumarraga  ;Gipuzkoa;80;43,090476;-2,313220\\n2022/2/3;San Blas;San Joan Bataiatzailea;Alegría-Dulantzi;Alegria-Dulantzi;Álava - Araba;2;42,841035;-2,512684\\n2022/8/16;Fiesta local;Tokiko jai-eguna;Amurrio;Amurrio;Álava - Araba;1;43,057875;-2,998775\\n2022/7/11;San Cristóbal;Done Kristobal;Añana  ;Añana  ;Álava - Araba;49;42,802352;-2,982607\\n2022/7/4;Fiesta local;Tokiko jaieguna;Aramaio  ;Aramaio  ;Álava - Araba;3;43,054000;-2,566000\\n2022/11/30;San Andrés Apóstol;San Andrés Apostolua;Armiñón  ;Armiñón  ;Álava - Araba;6;42,723045;-2,872574\\n2022/6/20;San Adrián;San Adrian;Arraia-Maeztu  ;Arraia-Maeztu  ;Álava - Araba;37;42,739815;-2,445980\\n2022/12/26;San Esteban;San Esteban;Arrazua-Ubarrundia  ;Arrazua-Ubarrundia  ;Álava - Araba;8;42,890278;-2,639167\\n2022/9/8;Virgen de la Encina;Arteako Andra Maria;Artziniega  ;Artziniega  ;Álava - Araba;4;43,122201;-3,128209\\n2022/6/29;San Pedro Apóstol;Done Petri;Asparrena  ;Asparrena  ;Álava - Araba;9;42,895667;-2,321000\\n2022/7/26;Santiago;Done Jakue;Ayala - Agiñaga;Aiara - Agiñaga;Álava - Araba;10;43,035080;-3,071144\\n2022/5/21;San Ramiro;Done Ramiro;Ayala - Añes  ;Aiara - Añes  ;Álava - Araba;10;43,058414;-3,132924\\n2022/9/29;San Miguel;Done Mikel;Ayala - Beotegi  ;Aiara - Beotegi  ;Álava - Araba;10;43,088660;-3,075259\\n2022/9/29;San Miguel;Done Mikel;Ayala - Costera  ;Aiara - Opellora;Álava - Araba;10;43,102599;-3,103772\\n2022/5/3;La Cruz;Gurutzea;Ayala - Erbi  ;Aiara - Erbi  ;Álava - Araba;10;43,074143;-3,111819\\n2022/5/9;Ntra. Sra. de la Antigua ;Antiguako Ama ;Ayala - Etxegoien  ;Aiara - Etxegoien  ;Álava - Araba;10;43,043726;-3,021070\\n2022/1/7;San Julián;Done Julian;Ayala - Izoria  ;Aiara - Izoria  ;Álava - Araba;10;43,061416;-3,036324\\n2022/12/9;La Inmaculada;Sortzez Garbiaren Eguna;Ayala - Lejarzo  ;Aiara - Lexartzu;Álava - Araba;10;43,060158;-3,122923\\n2022/8/16;La Asunción;Jasokundearen Eguna;Ayala - Lujo  ;Aiara - Luxo  ;Álava - Araba;10;43,077952;-3,096407\\n2022/7/22;La Magdalena;Magdalena Eguna;Ayala - Luiaondo  ;Aiara - Luiaondo  ;Álava - Araba;10;43,102723;-2,997211\\n2022/7/26;Santiago;Done Jakue;Ayala - Llanteno  ;Aiara - Llanteno  ;Álava - Araba;10;43,091803;-3,099984\\n2022/11/23;San Clemente;Done Klemente;Ayala - Madaria  ;Aiara - Madaria  ;Álava - Araba;10;43,043890;-3,085953\\n2022/1/17;San Antón;Done Anton;Ayala - Maroño  ;Aiara - Maroño  ;Álava - Araba;10;43,055065;-3,059010\\n2022/6/29;San Pedro;Done Petri;Ayala - Menagarai  ;Aiara - Menagarai  ;Álava - Araba;10;43,096299;-3,072769\\n2022/4/25;San Marcos;Done Marko;Ayala - Menoio  ;Aiara - Menoio  ;Álava - Araba;10;43,069585;-3,072926\\n2022/6/24;San Juan;Done Joane;Ayala - Murga  ;Aiara - Murga  ;Álava - Araba;10;43,075372;-3,025590\\n2022/1/24;San Babilás;Done Babilas;Ayala - Olabezar  ;Aiara - Olabezar  ;Álava - Araba;10;43,069997;-3,014813\\n2022/10/8;Ntra. Sra. del Rosario ;Errosarioko Andra Maria;Ayala - Ozeka  ;Aiara - Ozeka  ;Álava - Araba;10;43,070824;-3,090905\\n2022/8/5;Las Nieves;Elurretako Andra Maria;Ayala - Quejana  ;Aiara - Kexaa;Álava - Araba;10;43,081485;-3,063094\\n2022/5/16;San Isidro;Done Isidro;Ayala - Respaldiza  ;Aiara - Arespalditza  ;Álava - Araba;10;43,078065;-3,042931\\n2022/7/22;La Magdalena;Magdalena Eguna;Ayala - Retes de Llanteno  ;Aiara - Retes de Llanteno  ;Álava - Araba;10;43,091803;-3,099984\\n2022/7/18;Santa Marina;Dona Marina;Ayala - Salmantón  ;Aiara - Salmanton  ;Álava - Araba;10;43,052629;-3,088347\\n2022/8/30;San Emeterio;Done Meteri;Ayala - Sojo  ;Aiara - Soxo  ;Álava - Araba;10;43,090730;-3,122839\\n2022/7/18;Santa Marina ;Dona Marina;Ayala - Zuaza  ;Aiara - Zuhatza  ;Álava - Araba;10;43,099672;-3,049447\\n2022/8/24;San Bartolomé;Done Bartolome;Baños de Ebro  ;Mañueta;Álava - Araba;11;42,530290;-2,679144\\n2022/6/24;San Juan;Done Joane;Barrundia  ;Barrundia  ;Álava - Araba;13;42,916667;-2,491667\\n2022/9/8;Asunción de María;Jasokundearen eguna;Berantevilla  ;Berantevilla  ;Álava - Araba;14;42,682450;-2,860401\\n2022/9/8;Fiesta local;Tokiko jaieguna;Bernedo  ;Bernedo  ;Álava - Araba;16;42,626684;-2,497532\\n2022/5/16;San Isidro;Done Isidro;Campezo  ;Kanpezu;Álava - Araba;17;42,691944;-2,370000\\n2022/9/8;La Virgen;Andra Maria;Kripan  ;Kripan  ;Álava - Araba;19;42,591666;-2,516079\\n2022/6/24;Fiesta local;Tokiko jaieguna;Kuartango  ;Kuartango  ;Álava - Araba;20;42,871389;-2,885556\\n2022/6/29;San Pedro;San Pedro;Elburgo  ;Burgelu;Álava - Araba;21;42,849564;-2,544762\\n2022/9/8;Virgen de la Plaza;Plazako Andra Maria;Elciego  ;Zieko;Álava - Araba;22;42,515073;-2,618277\\n2022/8/16;San Roque;San Roke;Elvillar;Bilar;Álava - Araba;23;42,570497;-2,544915\\n2022/6/24;Fiesta local;Tokiko jai-eguna;Valle de Arana;Harana;Álava - Araba;;42,752731;-2,312303\\n2022/8/16;San Roque;Done Roke;Iruña de Oca - Nanclares de la Oca;Iruña Oka - Langraiz Oka;Álava - Araba;901;42,817197;-2,811518\\n2022/6/24;San Juan;Done Joane;Iruraiz-Gauna  ;Iruraiz-Gauna  ;Álava - Araba;27;42,822072;-2,495043\\n2022/11/25;2º día de Acción de Gracias  ;2. Esker Oneko Eguna;Labastida  ;Labastida  ;Álava - Araba;28;42,590459;-2,792991\\n2022/8/24;Fiesta local;Tokiko jaieguna;Lagrán  ;Lagrán  ;Álava - Araba;30;42,626395;-2,583820\\n2022/6/24;San Juan;Done Joane;Laguardia  ;Laguardia  ;Álava - Araba;31;42,554278;-2,584237\\n2022/9/8;Virgen del Campo;Amabirjina;Lanciego  ;Lantziego  ;Álava - Araba;32;42,562619;-2,513204\\n2022/9/16;Santos Cornelio y Cipriano  ;Done Kornelio eta Done Zipri;Lantarón  ;Lantarón  ;Álava - Araba;902;42,756673;-2,987556\\n2022/8/24;San Bartolomé;Done Bartolome;Lapuebla de Labarca  ;Lapuebla de Labarca  ;Álava - Araba;33;42,493969;-2,573024\\n2022/9/12;La Cofradias;Kofradiak;Legutio;Legutiano  ;Álava - Araba;58;42,977822;-2,642724\\n2022/8/16;San Roque;San Roke;Leza  ;Leza  ;Álava - Araba;34;42,566068;-2,633635\\n2022/8/16;San Roque;San Roke;Llodio  ;Laudio;Álava - Araba;36;43,143333;-2,962985\\n2022/8/19;Acción de gracias;Esker onak;Moreda de Alava  ;Moreda de Alava  ;Álava - Araba;39;42,528016;-2,407670\\n2022/6/2;Fiesta local;Tokiko jaieguna;Navaridas  ;Nabaridas  ;Álava - Araba;41;42,545171;-2,624532\\n2022/8/24;San Bartolomé;San Bartolome;Okondo  ;Okondo  ;Álava - Araba;42;43,162222;-3,018889\\n2022/1/22;San Vicente y San Anastasio;Bikendi eta Anastasi Santuak;Oyón/Oion  ;Oyón/Oion  ;Álava - Araba;43;42,506137;-2,436965\\n2022/5/16;San Isidro Labrador;Done Isidro Nekazaria;Peñacerrada  ;Urizaharra;Álava - Araba;44;42,644095;-2,713374\\n2022/5/16;San Isidro Labrador;Done Isidro Nekazaria;Ribera Alta  ;Erribera Goitia;Álava - Araba;46;42,807222;-2,917500\\n2022/8/29;Fiesta local;Tokiko jaieguna;Ribera Baja  ;Erribera Beitia;Álava - Araba;47;42,719678;-2,907609\\n2022/6/24;San Juan;San Joan;Salvatierra  ;Agurain;Álava - Araba;51;42,852442;-2,389455\\n2022/9/8;Nuestra Señora Virgen del Valle;Haranako Andra Maria;Samaniego  ;Samaniego  ;Álava - Araba;52;42,569832;-2,680185\\n2022/11/11;San Millán;Done Milian;San Millán;Donemiliaga;Álava - Araba;53;42,874722;-2,376111\\n2022/10/3;Fiesta local;Tokiko jaieguna;Urkabustaiz  ;Urkabustaiz  ;Álava - Araba;54;42,971944;-2,922222\\n2022/5/16;Fiesta local;Tokiko jaieguna;Valdegovía  ;Valdegovía  ;Álava - Araba;55;42,850000;-3,100000\\n2022/11/30;San Andrés;San Andres;Villabuena de Álava  ;Eskuernaga;Álava - Araba;57;42,548717;-2,665456\\n2022/8/5;Vírgen Blanca;Andra Mari Zuria;Vitoria-Gasteiz  ;Vitoria-Gasteiz  ;Álava - Araba;59;42,846406;-2,667893\\n2022/8/19;Nuestra Señora de Bercijana;Berzijanako Andra Maria;Yécora;Ikeora;Álava - Araba;60;42,569303;-2,470064\\n2022/6/11;Fiesta local;Tokiko jaieguna;Zalduondo  ;Zalduondo  ;Álava - Araba;61;42,885626;-2,347254\\n2022/8/5;Fiesta local;Tokiko jaieguna;Zambrana  ;Zambrana  ;Álava - Araba;62;42,659981;-2,879353\\n2022/8/5;Fiesta local;Tokiko jaieguna;Zigoitia  ;Zigoitia  ;Álava - Araba;18;42,968200;-2,718300\\n2022/9/29;San Miguel;San Miguel;Zuia  ;Zuia  ;Álava - Araba;63;42,981667;-2,844000\\n'"
      ]
     },
     "execution_count": 23,
     "metadata": {},
     "output_type": "execute_result"
    }
   ],
   "source": [
    "# Leer archivo completo\n",
    "cadena = archivo.read()\n",
    "cadena"
   ]
  },
  {
   "cell_type": "code",
   "execution_count": 24,
   "metadata": {},
   "outputs": [],
   "source": [
    "# Cerrar archivo\n",
    "archivo.close()"
   ]
  },
  {
   "cell_type": "code",
   "execution_count": 25,
   "metadata": {},
   "outputs": [
    {
     "data": {
      "text/plain": [
       "'date'"
      ]
     },
     "execution_count": 25,
     "metadata": {},
     "output_type": "execute_result"
    }
   ],
   "source": [
    "archivo = open('./data/calendario_laboral_2022.csv',mode='r', encoding='latin-1')\n",
    "\n",
    "# Leer los n primeros bytes\n",
    "cadena1 = archivo.read(4)\n",
    "cadena1"
   ]
  },
  {
   "cell_type": "code",
   "execution_count": 26,
   "metadata": {
    "scrolled": true,
    "tags": []
   },
   "outputs": [
    {
     "data": {
      "text/plain": [
       "';des'"
      ]
     },
     "execution_count": 26,
     "metadata": {},
     "output_type": "execute_result"
    }
   ],
   "source": [
    "# Leer los 4 siguientes bytes\n",
    "cadena2 = archivo.read(4)\n",
    "cadena2"
   ]
  },
  {
   "cell_type": "code",
   "execution_count": 27,
   "metadata": {
    "scrolled": true,
    "tags": []
   },
   "outputs": [
    {
     "data": {
      "text/plain": [
       "'cripcionEs;descriptionEu;municipalityEs;MunicipalityEu;territory;municipalitycode;latwgs84;lonwgs84\\n2022/1/1;Año nuevo;Urteberri eguna;CAE;EAE;Todos/denak;;;\\n2022/1/6;Epifanía del Señor;Errege Magoen eguna;CAE;EAE;Todos/denak;;;\\n2022/4/14;Jueves Santo;Ostegun Santua;CAE;EAE;Todos/denak;;;\\n2022/4/15;Viernes Santo;Ostiral Santua;CAE;EAE;Todos/denak;;;\\n2022/4/18;Lunes de Pascua de Resurrección;Pazko Astelehena;CAE;EAE;Todos/denak;;;\\n2022/7/25;Santiago Apóstol;Santiago Apostolua;CAE;EAE;Todos/denak;;;\\n2022/8/15;Asunción de la Virgen;Ama Birjinaren Jasokundea;CAE;EAE;Todos/denak;;;\\n2022/9/6;V Centenario de la Vuelta al Mundo capitaneada por Juan Sebastián Elcano;Juan Sebastian Elkano kapitain zela munduari bira eman izanaren V. Mendeurrena;CAE;EAE;Todos/denak;;;\\n2022/10/12;Fiesta Nacional;Espainiako Jai Nazionala;CAE;EAE;Todos/denak;;;\\n2022/11/1;Todos los Santos;Santu Guztien Eguna;CAE;EAE;Todos/denak;;;\\n2022/12/6;Día de la Constitución;Konstituzio Eguna;CAE;EAE;Todos/denak;;;\\n2022/12/8;Inmaculada Concepción;Andre Maria Sortzez Garbiaren eguna;CAE;EAE;Todos/denak;;;\\n2022/7/4;San Valentín de Berriotxoa;San Balendin Berrio-Otxoa;Bizkaia;Bizkaia;Bizkaia;;;\\n2022/9/9;Nuestra Señora de Aránzazu;Arantzazuko Amaren eguna;Gipuzkoa;Gipuzkoa;Gipuzkoa;;;\\n2022/4/28;San Prudencio  ;San Prudentzio;Álava - Araba;Álava - Araba;Álava - Araba;;;\\n2022/2/3;Fiesta local;Tokiko jai-eguna;Abadiño  ;Abadiño  ;Bizkaia;1;43,150000;-2,610278\\n2022/6/30;Santa Lucía;Santa Luzia;Abanto y Ciérvana - Abanto Zierbena ;Abanto y Ciérvana-Abanto Zierbena ;Bizkaia;2;43,316389;-3,083333\\n2022/5/26;La Ascensión  ;Asentzio Eguna  ;Ajangiz;Ajangiz;Bizkaia;911;43,301000;-2,671000\\n2022/9/2;San Antolín;San Antolín;Alonsotegi;Alonsotegi;Bizkaia;912;43,245186;-2,988701\\n2022/7/16;Ntra. Sra. del Carmen  ;Karmengo Amaren Eguna;Amorebieta-Etxano  ;Amorebieta-Etxano  ;Bizkaia;3;43,226104;-2,712628\\n2022/7/5;San Martín  ;San Martin;Amoroto  ;Amoroto  ;Bizkaia;4;43,328500;-2,512500\\n2022/7/18;Santa Marina;Santa Marina;Arakaldo  ;Arakaldo  ;Bizkaia;5;43,149550;-2,925086\\n2022/6/29;San Pedro;San Pedro;Arantzazu  ;Arantzazu  ;Bizkaia;6;43,152904;-2,790430\\n2022/8/24;San Bartolomé;Bartolome Deuna;Areatza  ;Areatza  ;Bizkaia;93;43,121079;-2,767771\\n2022/6/29;San Pedro;San Pedro eguna;Arrankudiaga;Arrankudiaga;Bizkaia;9;43,173503;-2,917886\\n2022/12/21;Santo Tomas;Santo Tomas eguna;Arratzu;Arratzu;Bizkaia;914;43,311667;-2,638611\\n2022/11/11;San Martín;San Martín eguna;Arrieta  ;Arrieta  ;Bizkaia;10;43,340362;-2,769799\\n2022/7/22;Santa María Magdalena;Andra Maria Magdalena;Arrigorriaga;Arrigorriaga;Bizkaia;11;43,207520;-2,887839\\n2022/9/8;Fiesta local;Tokiko jai-eguna;Artea  ;Artea  ;Bizkaia;23;43,133718;-2,784141\\n2022/9/2;San Antolín;San Antolin;Artzentales  ;Artzentales  ;Bizkaia;8;43,240556;-3,241389\\n2022/6/29;San Pedro  ;San Pedro Eguna;Atxondo  ;Atxondo  ;Bizkaia;91;43,130342;-2,585079\\n2022/6/24;San Juan  ;San Juan eguna;Aulesti  ;Aulesti  ;Bizkaia;70;43,296084;-2,563355\\n2022/8/29;San Juan Degollado;Joan Doloz Eguna;Bakio  ;Bakio  ;Bizkaia;12;43,427778;-2,811389\\n2022/1/24;Fundación de la Villa;Fundación de la Villa;Balmaseda  ;Balmaseda  ;Bizkaia;90;43,192866;-3,196942\\n2022/7/16;Nuestra Señora del Carmen;Karmengo Andra Mari;Barakaldo  ;Barakaldo  ;Bizkaia;13;43,297222;-2,991667\\n2022/6/24;San Juan;San Juan;Barrika  ;Barrika  ;Bizkaia;14;43,406384;-2,962425\\n2022/10/13;San Fuasto;San Fausto;Basauri  ;Basauri  ;Bizkaia;15;43,233333;-2,883333\\n2022/6/24;San Juan Bautista;San Juan Bautista;Bedia  ;Bedia  ;Bizkaia;92;43,209374;-2,804965\\n2022/8/4;Santo Domingo de Guzmán;Santo Domingo de Guzman eguna;Berango;Berango;Bizkaia;16;43,365899;-2,996356\\n2022/9/8;Andra Mari;Andra Mari Eguna;Bermeo  ;Bermeo  ;Bizkaia;17;43,420422;-2,722158\\n2022/5/29;Fiesta local;Tokiko jai-eguna;Berriatua  ;Berriatua  ;Bizkaia;18;43,316667;-2,466667\\n2022/6/29;San Pedro;San Pedro;Berriz  ;Berriz  ;Bizkaia;19;43,193923;-2,589165\\n2022/8/26;Viernes de la Semana Grande;Aste Nagusiko Ostirala;Bilbao  ;Bilbao  ;Bizkaia;20;43,256963;-2,923441\\n2022/6/9;Fiesta local;Tokiko jai-eguna;Busturia  ;Busturia  ;Bizkaia;21;43,383000;-2,697000\\n2022/5/16;San Isidro Labrador;San Isidro Nekazari Deuna ;Derio  ;Derio  ;Bizkaia;901;43,302000;-2,881833\\n2022/6/29;San Pedro;San Pedro eguna;Dima  ;Dima  ;Bizkaia;26;43,143389;-2,751464\\n2022/10/13;San Fausto;San Fausto eguna;Durango;Durango;Bizkaia;27;43,169068;-2,632655\\n2022/6/24;San Juan;San Juan eguna;Ea  ;Ea  ;Bizkaia;28;43,380135;-2,585593\\n2022/6/29;San Pedro;San Pedro;Elantxobe  ;Elantxobe  ;Bizkaia;31;43,403422;-2,639800\\n2022/9/5;Fiesta local;Tokiko jai-eguna;Elorrio  ;Elorrio  ;Bizkaia;32;43,130387;-2,542155\\n2022/6/16;Corpus Christi;Gorpuzti;Erandio  ;Erandio  ;Bizkaia;902;43,307458;-2,946418\\n2022/9/29;San Miguel Arcángel;San Miguel Arcángel;Ereño  ;Ereño  ;Bizkaia;33;43,356944;-2,621667\\n2022/7/27;Día de Zezen;Zezen eguna;Ermua  ;Ermua  ;Bizkaia;34;43,186642;-2,502607\\n2022/6/24;San Juan;San Juan;Errigoiti;Errigoiti;Bizkaia;79;43,318709;-2,725344\\n2022/12/26;San Esteban;San Esteban;Etxebarri  ;Etxebarri  ;Bizkaia;29;43,247179;-2,890139\\n2022/11/30;San Andrés;San Andres eguna;Etxebarria  ;Etxebarria  ;Bizkaia;30;43,254146;-2,477354\\n2022/11/11;San Martin ;San Martin;Forua  ;Forua  ;Bizkaia;906;43,333712;-2,678589\\n2022/8/10;San Lorenzo;San Lorenzo;Fruiz  ;Fruiz  ;Bizkaia;35;43,328889;-2,783333\\n2022/9/14;Exaltación de la Santa Cruz;Gurutze Santuaren gorespena;Galdakao  ;Galdakao  ;Bizkaia;36;43,230556;-2,845833\\n2022/6/29;San Pedro Apóstol  ;San Pedro Apostol;Galdames  ;Galdames  ;Bizkaia;37;43,255000;-3,096389\\n2022/11/11;San Martín;San Martín;Gamiz-Fika  ;Gamiz-Fika  ;Bizkaia;38;43,311728;-2,810701\\n2022/7/26;Santa Ana;Santa Ana;Garai  ;Garai  ;Bizkaia;39;43,194722;-2,609722\\n2022/4/25;San Marcos;Markos Deuna;Gatika  ;Gatika  ;Bizkaia;40;43,363889;-2,871944\\n2022/1/26;San Policarpio;San Policarpio eguna;Gautegiz Arteaga;Gautegiz Arteaga;Bizkaia;41;43,353104;-2,650985\\n2022/8/16;San Roque;San Roke;Gernika-Lumo  ;Gernika-Lumo  ;Bizkaia;46;43,317073;-2,678975\\n2022/8/10;San Lorenzo;San Lorenzo eguna ;Getxo  ;Getxo  ;Bizkaia;44;43,344167;-3,006389\\n2022/9/8;Andra Mari;Andra Mari Eguna;Gizaburuaga;Gizaburuaga;Bizkaia;47;43,331940;-2,536111\\n2022/9/26;San Cosme y San Damián;San Cosme y San Damián;Gordexola  ;Gordexola  ;Bizkaia;42;43,178611;-3,072778\\n2022/8/5;Nuestra Señora de Aguirre y de las Nieves;Agirreko Andra Maria eta Elurretakoa;Gorliz  ;Gorliz  ;Bizkaia;43;43,416667;-2,933333\\n2022/8/10;San Lorenzo;San Lorenzo;Güeñes  ;Güeñes  ;Bizkaia;45;43,210321;-3,095317\\n2022/6/16;Corpus Christi;Corpus Christi;Ibarrangelu;Ibarrangelu;Bizkaia;48;43,390215;-2,633802\\n2022/6/13;Fiesta local;Tokiko jai-eguna;Igorre;Igorre;Bizkaia;94;43,165833;-2,776111\\n2022/7/26;Santa Ana;Santa Ana;Ispaster;Ispaster;Bizkaia;49;43,362954;-2,544635\\n2022/9/29;San Miguel  ;San Miguel;Iurreta  ;Iurreta  ;Bizkaia;910;43,176705;-2,633777\\n2022/9/8;Ntra. Sra. De Erdozia;Ntra. Sra. De Erdozia;Izurtza  ;Izurtza  ;Bizkaia;50;43,152273;-2,641978\\n2022/9/29;San Miguel  ;San Miguel;Valle de Carranza;Karrantza Harana;Bizkaia;22;43,225278;-3,359444\\n2022/7/26;Fiesta local;Tokiko jai-eguna;Kortezubi  ;Kortezubi  ;Bizkaia;907;43,335982;-2,654319\\n2022/8/5;La Virgen de las Nieves;La Virgen de las Nieves;Lanestosa;Lanestosa;Bizkaia;51;43,221169;-3,439148\\n2022/9/29;San Miguel;San Miguel;Larrabetzu;Larrabetzu;Bizkaia;52;43,260973;-2,796175\\n2022/9/29;San Miguel;San Miguel;Laukiz;Laukiz;Bizkaia;53;43,353333;-2,906111\\n2022/6/24;San Juan;San Juan eguna;Leioa ;Leioa ;Bizkaia;54;43,326097;-2,987704\\n2022/9/2;San Antolín  ;San Antolin eguna;Lekeitio;Lekeitio;Bizkaia;57;43,365509;-2,503344\\n2022/9/8;Andra Mari;Andra Mari;Lemoa;Lemoa;Bizkaia;55;43,208759;-2,774116\\n2022/10/17;Fiesta Local;Tokiko jai-eguna;Lemoiz;Lemoiz;Bizkaia;56;43,413244;-2,902253\\n2022/9/8;Andra Mari;Andra Mari eguna;Lezama;Lezama;Bizkaia;81;43,272167;-2,832167\\n2022/6/29;Fiesta local;Tokiko jai-eguna;Loiu;Loiu;Bizkaia;903;43,315000;-2,938333\\n2022/3/2;Miércoles de Ceniza;Hautsezko asteazkena;Mallabia;Mallabia;Bizkaia;58;43,189651;-2,529969\\n2022/10/21;Santa Ursula;Santa Ursula;Mañaria;Mañaria;Bizkaia;59;43,137485;-2,661135\\n2022/7/16;Fiesta local;Tokiko jai-eguna;Markina-Xemein;Markina-Xemein;Bizkaia;60;43,270604;-2,497155\\n2022/8/10;San Lorenzo;Lorentzo Deuna;Maruri-Jatabe;Maruri-Jatabe;Bizkaia;61;43,382772;-2,874989\\n2022/9/29;San Miguel;San Miguel;Mendata;Mendata;Bizkaia;62;43,283333;-2,633333\\n2022/8/1;San Pedro Advincula;San Pedro Advincula;Mendexa;Mendexa;Bizkaia;63;43,346389;-2,483333\\n2022/8/16;San Roque;Roke Deuna;Meñaka;Meñaka;Bizkaia;64;43,364464;-2,801795\\n2022/7/26;Santa Ana;Santa Ana;Morga;Morga;Bizkaia;66;43,297932;-2,752739\\n2022/6/29;San Pedro y San Pablo;San Pedro eta San Paulo jai eguna;Mundaka;Mundaka;Bizkaia;68;43,407335;-2,698322\\n2022/6/29;Fiesta local;Tokiko jai-eguna;Mungia;Mungia;Bizkaia;69;43,354410;-2,846714\\n2022/6/29;San Pedro;San Pedro Eguna;Munitibar-Arbatzegi Gerrikaitz;Munitibar-Arbatzegi Gerrikaitz;Bizkaia;7;43,265332;-2,591845\\n2022/9/8;Fiesta local;Tokiko jai-eguna;Murueta;Murueta;Bizkaia;908;43,354463;-2,684153\\n2022/6/24;San Juan;San Juan;Muskiz;Muskiz;Bizkaia;71;43,323333;-3,121667\\n2022/10/31;Último lunes de octubre de Gernika;Gernikako urriko azken astelehena;Muxika;Muxika;Bizkaia;67;43,289668;-2,692941\\n2022/9/8;Andra Mari;Andra Mari eguna;Nabarniz;Nabarniz;Bizkaia;909;43,321597;-2,584400\\n2022/8/17;Día del pescador;Arrantzale eguna;Ondarroa;Ondarroa;Bizkaia;73;43,320698;-2,420475\\n2022/9/2;San Antolin;San Antolin;Orozko;Orozko;Bizkaia;75;43,108611;-2,911111\\n2022/5/18;San Félix de Cantalicio;Kantaliziozko Felix Deuna;Ortuella;Ortuella;Bizkaia;83;43,311370;-3,055952\\n2022/7/18;Santa Marina;Santa Marina;Otxandio  ;Otxandio  ;Bizkaia;72;43,040447;-2,654584\\n2022/7/22;La Magdalena;La Magdalena;Plentzia  ;Plentzia  ;Bizkaia;77;43,404430;-2,950102\\n2022/8/16;San Roque;San Roque;Portugalete  ;Portugalete  ;Bizkaia;78;43,320664;-3,020252\\n2022/7/16;Virgen del Carmen;Virgen del Carmen;Santurtzi  ;Santurtzi  ;Bizkaia;82;43,328711;-3,031772\\n2022/6/29;San Pedro Apóstol;San Pedro apostoluaren eguna;Sestao  ;Sestao  ;Bizkaia;84;43,309635;-3,006940\\n2022/6/24;Fiesta local;Tokiko jaieguna;Sondika  ;Sondika  ;Bizkaia;904;43,300063;-2,927103\\n2022/6/29;San Pedro;San Pedro;Sopelana  ;Sopelana  ;Bizkaia;85;43,378918;-2,983002\\n2022/7/26;Santa Ana;Santa Ana;Sopuerta  ;Sopuerta  ;Bizkaia;86;43,262778;-3,152500\\n2022/11/30;San Andrés  ;San Andres  ;Sukarrieta  ;Sukarrieta  ;Bizkaia;76;43,395342;-2,696367\\n2022/6/29;San Pedro;San Pedro;Trucios-Turtzioz  ;Trucios-Turtzioz  ;Bizkaia;87;43,272678;-3,288545\\n2022/6/24;San Juan;San Juan eguna;Ubide  ;Ubide  ;Bizkaia;88;43,026832;-2,688209\\n2022/9/8;Nuestra Señora de la Virgen de Udiarraga  ;Nuestra Señora de la Virgen de Udiarraga  ;Ugao-Miraballes  ;Ugao-Miraballes  ;Bizkaia;65;43,179989;-2,902508\\n2022/9/8;Andramari;Andramari;Urduliz  ;Urduliz  ;Bizkaia;89;43,379667;-2,962000\\n2022/5/9;Otxomaio  ;Otxomaio  ;Urduña-Orduña  ;Urduña-Orduña  ;Bizkaia;74;42,994449;-3,009622\\n2022/8/8;Transfiguración del Señor;Transfiguración del Señor;Valle de Trápaga-Trapagaran  ;Valle de Trápaga-Trapagaran  ;Bizkaia;80;43,303108;-3,035548\\n2022/7/8;Fiesta local;Tokiko jaieguna;Zaldibar  ;Zaldibar  ;Bizkaia;95;43,170970;-2,547130\\n2022/10/3;Día de Gangas;Gangas eguna;Zalla  ;Zalla  ;Bizkaia;96;43,214009;-3,135223\\n2022/11/11;San Martín;San Martin eguna;Zamudio  ;Zamudio  ;Bizkaia;905;43,283333;-2,866667\\n2022/8/10;San Lorenzo  ;San Lorenzo eguna ;Zaratamo  ;Zaratamo  ;Bizkaia;97;43,211505;-2,873626\\n2022/8/16;San Roque;San Roke eguna;Zeanuri  ;Zeanuri  ;Bizkaia;24;43,099664;-2,749615\\n2022/9/2;San Antolín  ;San Antolin eguna;Zeberio  ;Zeberio  ;Bizkaia;25;43,152778;-2,852778\\n2022/10/17;Día de la Independencia de Zierbena  ;Zierbenako Independentziaren Eguna  ;Zierbena  ;Zierbena  ;Bizkaia;913;43,347655;-3,086152\\n2022/6/24;San Juan;San Juan;Ziortza-Bolibar  ;Ziortza-Bolibar  ;Bizkaia;915;43,249820;-2,550174\\n2022/6/24;San Juan;San Juan;Abaltzisketa  ;Abaltzisketa  ;Gipuzkoa;1;43,047582;-2,105388\\n2022/8/16;Fiesta local;Tokiko jai-eguna;Aduna  ;Aduna  ;Gipuzkoa;2;43,203792;-2,050079\\n2022/8/10;San Lorenzo;San Lorenzo;Aia  ;Aia  ;Gipuzkoa;16;43,236922;-2,149008\\n2022/9/29;San Miguel Arcángel;Mikel Goi Angerua;Aizarnazabal  ;Aizarnazabal  ;Gipuzkoa;3;43,255405;-2,236461\\n2022/8/16;Fiesta local;Tokiko jaieguna;Albiztur  ;Albiztur  ;Gipuzkoa;4;43,129723;-2,137180\\n2022/7/16;Fiesta local;Tokiko jaieguna;Alegia  ;Alegia  ;Gipuzkoa;5;43,100017;-2,096273\\n2022/9/8;Natividad de la Virgen;Amabirjinaren jaiotze eguna;Alkiza  ;Alkiza  ;Gipuzkoa;6;43,172434;-2,109436\\n2022/9/29;San Miguel Arcángel;Mikel Goi Angerua;Altzaga  ;Altzaga  ;Gipuzkoa;906;43,064490;-2,153833\\n2022/2/28;Lunes de Carnaval  ;Iñauterietako Astelehena;Altzo  ;Altzo  ;Gipuzkoa;7;43,100072;-2,083905\\n2022/8/24;San Bartolomé;Bartolome Deuna;Amezketa  ;Amezketa  ;Gipuzkoa;8;43,044517;-2,083235\\n2022/6/24;San Juan;San Juan;Andoain  ;Andoain  ;Gipuzkoa;9;43,220480;-2,021122\\n2022/6/16;Corpus Christi  ;Gorpuzti-eguna;Anoeta  ;Anoeta  ;Gipuzkoa;10;43,161467;-2,070695\\n2022/7/15;Fiesta local;Tokiko jai-eguna;Antzuola  ;Antzuola  ;Gipuzkoa;11;43,099441;-2,381747\\n2022/11/11;San Martín  ;Martin Deuna;Arama  ;Arama  ;Gipuzkoa;12;43,063637;-2,165558\\n2022/8/16;Fiesta local;Tokiko jai-eguna;Aretxabaleta  ;Aretxabaleta  ;Gipuzkoa;13;43,036248;-2,504542\\n2022/6/24;San Juan Bautista;San Juan Bataiatzailea;Arrasate-Mondragon  ;Arrasate-Mondragon  ;Gipuzkoa;55;43,066517;-2,487562\\n2022/6/29;San Pedro  ;San Pedro;Asteasu  ;Asteasu  ;Gipuzkoa;14;43,195198;-2,097548\\n2022/7/26;Fiesta local;Tokiko jai-eguna;Astigarraga  ;Astigarraga  ;Gipuzkoa;903;43,280652;-1,947560\\n2022/11/11;San Martín;San Martin;Ataun  ;Ataun ;Gipuzkoa;15;43,005480;-2,176620\\n2022/11/30;San Andrés  ;San Andres;Azkoitia  ;Azkoitia  ;Gipuzkoa;17;43,178205;-2,311640\\n2022/1/20;San Sebastián;San Sebastian;Azpeitia  ;Azpeitia  ;Gipuzkoa;18;43,183900;-2,265466\\n2022/8/16;Fiesta local;Tokiko jai-eguna;Baliarrain  ;Baliarrain  ;Gipuzkoa;904;43,069306;-2,129235\\n2022/5/30;Fiesta local;Tokiko jai-eguna;Beasain  ;Beasain  ;Gipuzkoa;19;43,047076;-2,204605\\n2022/6/29;Fiesta local;Tokiko jai-eguna;Beizama  ;Beizama  ;Gipuzkoa;20;43,134191;-2,200113\\n2022/6/24;San Juan;San Juan;Belaunza  ;Belauntza  ;Gipuzkoa;21;43,135283;-2,050705\\n2022/8/10;San Lorenzo  ;San Lorentzo;Berastegi  ;Berastegi  ;Gipuzkoa;22;43,124029;-1,979426\\n2022/9/16;San Martín Agirre;San Martin Agirre;Bergara  ;Bergara  ;Gipuzkoa;74;43,118217;-2,413358\\n2022/11/30;San Andrés;San Andres;Berrobi  ;Berrobi  ;Gipuzkoa;23;43,145479;-2,026374\\n2022/8/16;Día siguiente a la Virgen;Andra Mariren biharmunea;Bidania  - Goiatz  ;Bidania  - Goiatz  ;Gipuzkoa;24;43,142086;-2,167475\\n2022/8/24;San Bartolomé;Bartolome Deuna;Bidania - Bidania  ;Bidania - Bidania  ;Gipuzkoa;24;43,139399;-2,159979\\n2022/8/16;San Roque;San Roke;Deba  ;Deba  ;Gipuzkoa;29;43,295562;-2,353894\\n2022/1/20;San Sebastián  ;San Sebastian;Donostia-San Sebastian  ;Donostia-San Sebastian  ;Gipuzkoa;69;43,321874;-1,985520\\n2022/6/24;San Juan;San Juan;Eibar  ;Eibar  ;Gipuzkoa;30;43,184180;-2,473289\\n2022/9/8;Natividad de la Virgen;Amabirjinaren jaiotze eguna;Elduaien  ;Elduain  ;Gipuzkoa;31;43,140712;-2,000488\\n2022/7/1;Fiesta local;Tokiko jai-eguna;Elgeta  ;Elgeta  ;Gipuzkoa;33;43,136572;-2,487392\\n2022/1/17;San Antón;San Anton;Elgoibar  ;Elgoibar  ;Gipuzkoa;32;43,215187;-2,415702\\n2022/7/22;María Magdalena  ;Madalena eguna;Errenteria  ;Errenteria  ;Gipuzkoa;67;43,312752;-1,899633\\n2022/11/11;Fiesta local;Tokiko jaieguna;Errezil  ;Errezil  ;Gipuzkoa;66;43,164674;-2,173594\\n2022/6/29;San Pedro;San Pedro;Eskoriatza  ;Eskoriatza  ;Gipuzkoa;34;43,017074;-2,526980\\n2022/5/9;Aparicio de San Miguel;Mikel Deuna;Ezkio-Itsaso - Ezkio  ;Ezkio-Itsaso - Ezkio  ;Gipuzkoa;35;43,080484;-2,275421\\n2022/6/29;San Pedro;Pedro Deuna;Ezkio-Itsaso - Sta. Lutzi-Anduaga;Ezkio-Itsaso - Sta. Lutzi-Anduaga;Gipuzkoa;35;43,064321;-2,274735\\n2022/8/16;San Roque  ;San Roke;Gabiria  ;Gabiria  ;Gipuzkoa;38;43,049689;-2,279856\\n2022/9/29;San Miguel  ;San Migel;Gaintza  ;Gaintza  ;Gipuzkoa;37;43,052629;-2,132370\\n2022/8/16;Fiesta local;Tokiko jaieguna;Gaztelu  ;Gaztelu  ;Gipuzkoa;907;43,116579;-2,022278\\n2022/8/6;San Salvador  ;Salbatore Deuna;Getaria  ;Getaria  ;Gipuzkoa;39;43,303261;-2,204363\\n2022/6/24;San Juan Bautista;San Joan Bataiatzailea;Hernani  ;Hernani  ;Gipuzkoa;40;43,267549;-1,975814\\n2022/8/16;Fiesta local;Tokiko jai-eguna;Hernialde  ;Hernialde  ;Gipuzkoa;41;43,154467;-2,085025\\n2022/9/8;Ntra. Sra. De Guadalupe;Guadalupeko Ama;Hondarribia  ;Hondarribia  ;Gipuzkoa;36;43,362531;-1,791498\\n2022/8/24;San Bartolomé  ;San Bartolome;Ibarra  ;Ibarra  ;Gipuzkoa;42;43,132345;-2,065462\\n2022/2/3;Fiesta local;Tokiko jai-eguna;Idiazabal  ;Idiazabal  ;Gipuzkoa;43;43,011782;-2,234214\\n2022/8/10;San Lorenzo;San Lorentzo;Ikaztegieta  ;Ikaztegieta  ;Gipuzkoa;44;43,094960;-2,123900\\n2022/6/30;San Marcial;San Marcial;Irun  ;Irun  ;Gipuzkoa;45;43,338233;-1,789272\\n2022/9/29;San Miguel ;San Migel;Irura  ;Irura  ;Gipuzkoa;46;43,165688;-2,069616\\n2022/7/22;María Magdalena;Madalena Donea;Itsaso - Barrio Itxaso-Alegia ;Itsaso - Itxaso-Alegia auzoa ;Gipuzkoa;35;43,058055;-2,268215\\n2022/8/24;San Bartolomé;Bartolome Deuna;Itsaso - Casco;Itsaso - hirigunea;Gipuzkoa;35;43,072544;-2,257418\\n2022/9/8;Día de la Virgen de Kizkitza;Kizkitzako Ama Birjinaren eguna;Itsaso - Mendialdea;Itsaso - Mendialdea Zozkera;Gipuzkoa;35;43,072544;-2,257418\\n2022/9/23;Fiesta local;Tokiko jai-eguna;Itsasondo  ;Itsasondo  ;Gipuzkoa;47;43,066932;-2,167393\\n2022/8/3;Fiesta local;Tokiko jai-eguna;Larraul  ;Larraul  ;Gipuzkoa;48;43,187739;-2,102534\\n2022/6/29;San Pedro ;San Pedro ;Lasarte-Oria  ;Lasarte-Oria;Gipuzkoa;902;43,267455;-2,020179\\n2022/4/28;San Prudencio  ;San Prudentzio;Lazkao  ;Lazkao  ;Gipuzkoa;49;43,034324;-2,187379\\n2022/6/29;San Pedro ;San Pedro;Leaburu  ;Leaburu  ;Gipuzkoa;50;43,124984;-2,052106\\n2022/5/3;Santa Cruz;Santikutz eguna;Legazpi  ;Legazpi  ;Gipuzkoa;51;43,054361;-2,333641\\n2022/5/26;La Ascensión;Azintzio eguna;Legorreta  ;Legorreta  ;Gipuzkoa;52;43,085794;-2,150909\\n2022/9/8;Festividad de la Virgen;Amabirjinaren eguna;Leintz-Gatzaga  ;Leintz-Gatzaga  ;Gipuzkoa;68;42,987112;-2,568626\\n2022/9/14;Exaltación de la Santa Cruz  ;Gurutze Santuaren gorespena;Lezo  ;Lezo  ;Gipuzkoa;53;43,321127;-1,898775\\n2022/9/8;Fiesta local;Tokiko jaieguna;Lizartza  ;Lizartza  ;Gipuzkoa;54;43,103720;-2,034254\\n2022/7/26;Santa Ana;Santa Ana;Mendaro  ;Mendaro  ;Gipuzkoa;901;43,264167;-2,375500\\n2022/6/29;San Pedro  ;San Pedro;Mutiloa  ;Mutiloa  ;Gipuzkoa;57;43,022380;-2,272826\\n2022/7/22;María Magdalena;Madalen eguna;Mutriku  ;Mutriku  ;Gipuzkoa;56;43,307069;-2,385083\\n2022/8/3;San Esteban  ;Don Eztebe;Oiartzun  ;Oiartzun  ;Gipuzkoa;63;43,299282;-1,857874\\n2022/6/24;San Juan;San Joan;Olaberria  ;Olaberria  ;Gipuzkoa;58;43,027075;-2,203089\\n2022/9/29;San Miguel;San Migel;Oñati  ;Oñati  ;Gipuzkoa;59;43,032888;-2,411348\\n2022/7/26;Santa Ana;Santa Ana;Ordizia  ;Ordizia  ;Gipuzkoa;76;43,054198;-2,178115\\n2022/1/20;San Sebastián;San Sebastian;Orendain  ;Orendain  ;Gipuzkoa;905;43,079721;-2,114290\\n2022/5/3;Fiesta local;Tokiko jaieguna;Orexa  ;Orexa  ;Gipuzkoa;60;43,093881;-2,011392\\n2022/6/29;San Pedro  ;San Pedro;Orio  ;Orio  ;Gipuzkoa;61;43,278323;-2,126597\\n2022/11/30;San Andrés  ;San Andres;Ormaiztegi  ;Ormaiztegi  ;Gipuzkoa;62;43,042735;-2,255848\\n2022/7/7;San Fermín;San Fermin;Pasaia - Antxo  ;Pasaia - Antxo  ;Gipuzkoa;64;43,317534;-1,917562\\n2022/6/24;San Juan;San Juan;Pasaia - Donibane  ;Pasaia - Donibane  ;Gipuzkoa;64;43,327481;-1,919883\\n2022/6/29;San Pedro  ;San Pedro;Pasaia - San Pedro  ;Pasaia - San Pedro  ;Gipuzkoa;64;43,323348;-1,930432\\n2022/7/16;Virgen del Carmen  ;Karmengo Ama;Pasaia - Trintxerpe  ;Pasaia - Trintxerpe  ;Gipuzkoa;64;43,326138;-1,931587\\n2022/6/24;SanJuan;San Joan;Segura  ;Segura  ;Gipuzkoa;70;43,009216;-2,252519\\n2022/7/26;Santa Ana  ;Santa Ana  ;Soraluze - P. De Las Armas;Soraluze - P. De Las Armas;Gipuzkoa;65;43,175430;-2,412494\\n2022/6/24;Fiesta local;Tokiko jaieguna;Tolosa  ;Tolosa  ;Gipuzkoa;71;43,136978;-2,073914\\n2022/9/29;San Miguel  ;San Migel;Urnieta  ;Urnieta  ;Gipuzkoa;72;43,248200;-1,990517\\n2022/9/19;Santa Anastasia  ;Santa Anastasia;Urretxu  ;Urretxu  ;Gipuzkoa;77;43,092282;-2,314383\\n2022/7/2;Santa Isabel;Santixabel;Usurbil  ;Usurbil  ;Gipuzkoa;73;43,271382;-2,049934\\n2022/7/26;Santa Ana;Santa Ana;Villabona  ;Billabona  ;Gipuzkoa;75;43,189944;-2,052453\\n2022/10/6;Santa Fe  ;Santa Fe;Zaldibia  ;Zaldibia  ;Gipuzkoa;78;43,037964;-2,150894\\n2022/6/27;San Pelayo  ;San Pelaio;Zarautz  ;Zarautz  ;Gipuzkoa;79;43,280364;-2,171588\\n2022/6/6;Lunes de Pentecostés  ;Mendekoste astelehena;Zegama  ;Zegama  ;Gipuzkoa;25;42,975677;-2,290072\\n2022/8/16;San Roque;San Roke;Zerain  ;Zerain  ;Gipuzkoa;26;43,012119;-2,274118\\n2022/9/8;Festividad de la Virgen;Ama Birjinaren eguna;Zestoa  ;Zestoa  ;Gipuzkoa;27;43,239442;-2,258113\\n2022/9/8;Fiesta local;Tokiko jai-eguna;Zizurkil  ;Zizurkil  ;Gipuzkoa;28;43,199523;-2,074073\\n2022/6/29;San Pedro  ;San Pedro;Zumaia  ;Zumaia  ;Gipuzkoa;81;43,297258;-2,256848\\n2022/7/2;Santa Isabel  ;Santa Isabel;Zumarraga  ;Zumarraga  ;Gipuzkoa;80;43,090476;-2,313220\\n2022/2/3;San Blas;San Joan Bataiatzailea;Alegría-Dulantzi;Alegria-Dulantzi;Álava - Araba;2;42,841035;-2,512684\\n2022/8/16;Fiesta local;Tokiko jai-eguna;Amurrio;Amurrio;Álava - Araba;1;43,057875;-2,998775\\n2022/7/11;San Cristóbal;Done Kristobal;Añana  ;Añana  ;Álava - Araba;49;42,802352;-2,982607\\n2022/7/4;Fiesta local;Tokiko jaieguna;Aramaio  ;Aramaio  ;Álava - Araba;3;43,054000;-2,566000\\n2022/11/30;San Andrés Apóstol;San Andrés Apostolua;Armiñón  ;Armiñón  ;Álava - Araba;6;42,723045;-2,872574\\n2022/6/20;San Adrián;San Adrian;Arraia-Maeztu  ;Arraia-Maeztu  ;Álava - Araba;37;42,739815;-2,445980\\n2022/12/26;San Esteban;San Esteban;Arrazua-Ubarrundia  ;Arrazua-Ubarrundia  ;Álava - Araba;8;42,890278;-2,639167\\n2022/9/8;Virgen de la Encina;Arteako Andra Maria;Artziniega  ;Artziniega  ;Álava - Araba;4;43,122201;-3,128209\\n2022/6/29;San Pedro Apóstol;Done Petri;Asparrena  ;Asparrena  ;Álava - Araba;9;42,895667;-2,321000\\n2022/7/26;Santiago;Done Jakue;Ayala - Agiñaga;Aiara - Agiñaga;Álava - Araba;10;43,035080;-3,071144\\n2022/5/21;San Ramiro;Done Ramiro;Ayala - Añes  ;Aiara - Añes  ;Álava - Araba;10;43,058414;-3,132924\\n2022/9/29;San Miguel;Done Mikel;Ayala - Beotegi  ;Aiara - Beotegi  ;Álava - Araba;10;43,088660;-3,075259\\n2022/9/29;San Miguel;Done Mikel;Ayala - Costera  ;Aiara - Opellora;Álava - Araba;10;43,102599;-3,103772\\n2022/5/3;La Cruz;Gurutzea;Ayala - Erbi  ;Aiara - Erbi  ;Álava - Araba;10;43,074143;-3,111819\\n2022/5/9;Ntra. Sra. de la Antigua ;Antiguako Ama ;Ayala - Etxegoien  ;Aiara - Etxegoien  ;Álava - Araba;10;43,043726;-3,021070\\n2022/1/7;San Julián;Done Julian;Ayala - Izoria  ;Aiara - Izoria  ;Álava - Araba;10;43,061416;-3,036324\\n2022/12/9;La Inmaculada;Sortzez Garbiaren Eguna;Ayala - Lejarzo  ;Aiara - Lexartzu;Álava - Araba;10;43,060158;-3,122923\\n2022/8/16;La Asunción;Jasokundearen Eguna;Ayala - Lujo  ;Aiara - Luxo  ;Álava - Araba;10;43,077952;-3,096407\\n2022/7/22;La Magdalena;Magdalena Eguna;Ayala - Luiaondo  ;Aiara - Luiaondo  ;Álava - Araba;10;43,102723;-2,997211\\n2022/7/26;Santiago;Done Jakue;Ayala - Llanteno  ;Aiara - Llanteno  ;Álava - Araba;10;43,091803;-3,099984\\n2022/11/23;San Clemente;Done Klemente;Ayala - Madaria  ;Aiara - Madaria  ;Álava - Araba;10;43,043890;-3,085953\\n2022/1/17;San Antón;Done Anton;Ayala - Maroño  ;Aiara - Maroño  ;Álava - Araba;10;43,055065;-3,059010\\n2022/6/29;San Pedro;Done Petri;Ayala - Menagarai  ;Aiara - Menagarai  ;Álava - Araba;10;43,096299;-3,072769\\n2022/4/25;San Marcos;Done Marko;Ayala - Menoio  ;Aiara - Menoio  ;Álava - Araba;10;43,069585;-3,072926\\n2022/6/24;San Juan;Done Joane;Ayala - Murga  ;Aiara - Murga  ;Álava - Araba;10;43,075372;-3,025590\\n2022/1/24;San Babilás;Done Babilas;Ayala - Olabezar  ;Aiara - Olabezar  ;Álava - Araba;10;43,069997;-3,014813\\n2022/10/8;Ntra. Sra. del Rosario ;Errosarioko Andra Maria;Ayala - Ozeka  ;Aiara - Ozeka  ;Álava - Araba;10;43,070824;-3,090905\\n2022/8/5;Las Nieves;Elurretako Andra Maria;Ayala - Quejana  ;Aiara - Kexaa;Álava - Araba;10;43,081485;-3,063094\\n2022/5/16;San Isidro;Done Isidro;Ayala - Respaldiza  ;Aiara - Arespalditza  ;Álava - Araba;10;43,078065;-3,042931\\n2022/7/22;La Magdalena;Magdalena Eguna;Ayala - Retes de Llanteno  ;Aiara - Retes de Llanteno  ;Álava - Araba;10;43,091803;-3,099984\\n2022/7/18;Santa Marina;Dona Marina;Ayala - Salmantón  ;Aiara - Salmanton  ;Álava - Araba;10;43,052629;-3,088347\\n2022/8/30;San Emeterio;Done Meteri;Ayala - Sojo  ;Aiara - Soxo  ;Álava - Araba;10;43,090730;-3,122839\\n2022/7/18;Santa Marina ;Dona Marina;Ayala - Zuaza  ;Aiara - Zuhatza  ;Álava - Araba;10;43,099672;-3,049447\\n2022/8/24;San Bartolomé;Done Bartolome;Baños de Ebro  ;Mañueta;Álava - Araba;11;42,530290;-2,679144\\n2022/6/24;San Juan;Done Joane;Barrundia  ;Barrundia  ;Álava - Araba;13;42,916667;-2,491667\\n2022/9/8;Asunción de María;Jasokundearen eguna;Berantevilla  ;Berantevilla  ;Álava - Araba;14;42,682450;-2,860401\\n2022/9/8;Fiesta local;Tokiko jaieguna;Bernedo  ;Bernedo  ;Álava - Araba;16;42,626684;-2,497532\\n2022/5/16;San Isidro;Done Isidro;Campezo  ;Kanpezu;Álava - Araba;17;42,691944;-2,370000\\n2022/9/8;La Virgen;Andra Maria;Kripan  ;Kripan  ;Álava - Araba;19;42,591666;-2,516079\\n2022/6/24;Fiesta local;Tokiko jaieguna;Kuartango  ;Kuartango  ;Álava - Araba;20;42,871389;-2,885556\\n2022/6/29;San Pedro;San Pedro;Elburgo  ;Burgelu;Álava - Araba;21;42,849564;-2,544762\\n2022/9/8;Virgen de la Plaza;Plazako Andra Maria;Elciego  ;Zieko;Álava - Araba;22;42,515073;-2,618277\\n2022/8/16;San Roque;San Roke;Elvillar;Bilar;Álava - Araba;23;42,570497;-2,544915\\n2022/6/24;Fiesta local;Tokiko jai-eguna;Valle de Arana;Harana;Álava - Araba;;42,752731;-2,312303\\n2022/8/16;San Roque;Done Roke;Iruña de Oca - Nanclares de la Oca;Iruña Oka - Langraiz Oka;Álava - Araba;901;42,817197;-2,811518\\n2022/6/24;San Juan;Done Joane;Iruraiz-Gauna  ;Iruraiz-Gauna  ;Álava - Araba;27;42,822072;-2,495043\\n2022/11/25;2º día de Acción de Gracias  ;2. Esker Oneko Eguna;Labastida  ;Labastida  ;Álava - Araba;28;42,590459;-2,792991\\n2022/8/24;Fiesta local;Tokiko jaieguna;Lagrán  ;Lagrán  ;Álava - Araba;30;42,626395;-2,583820\\n2022/6/24;San Juan;Done Joane;Laguardia  ;Laguardia  ;Álava - Araba;31;42,554278;-2,584237\\n2022/9/8;Virgen del Campo;Amabirjina;Lanciego  ;Lantziego  ;Álava - Araba;32;42,562619;-2,513204\\n2022/9/16;Santos Cornelio y Cipriano  ;Done Kornelio eta Done Zipri;Lantarón  ;Lantarón  ;Álava - Araba;902;42,756673;-2,987556\\n2022/8/24;San Bartolomé;Done Bartolome;Lapuebla de Labarca  ;Lapuebla de Labarca  ;Álava - Araba;33;42,493969;-2,573024\\n2022/9/12;La Cofradias;Kofradiak;Legutio;Legutiano  ;Álava - Araba;58;42,977822;-2,642724\\n2022/8/16;San Roque;San Roke;Leza  ;Leza  ;Álava - Araba;34;42,566068;-2,633635\\n2022/8/16;San Roque;San Roke;Llodio  ;Laudio;Álava - Araba;36;43,143333;-2,962985\\n2022/8/19;Acción de gracias;Esker onak;Moreda de Alava  ;Moreda de Alava  ;Álava - Araba;39;42,528016;-2,407670\\n2022/6/2;Fiesta local;Tokiko jaieguna;Navaridas  ;Nabaridas  ;Álava - Araba;41;42,545171;-2,624532\\n2022/8/24;San Bartolomé;San Bartolome;Okondo  ;Okondo  ;Álava - Araba;42;43,162222;-3,018889\\n2022/1/22;San Vicente y San Anastasio;Bikendi eta Anastasi Santuak;Oyón/Oion  ;Oyón/Oion  ;Álava - Araba;43;42,506137;-2,436965\\n2022/5/16;San Isidro Labrador;Done Isidro Nekazaria;Peñacerrada  ;Urizaharra;Álava - Araba;44;42,644095;-2,713374\\n2022/5/16;San Isidro Labrador;Done Isidro Nekazaria;Ribera Alta  ;Erribera Goitia;Álava - Araba;46;42,807222;-2,917500\\n2022/8/29;Fiesta local;Tokiko jaieguna;Ribera Baja  ;Erribera Beitia;Álava - Araba;47;42,719678;-2,907609\\n2022/6/24;San Juan;San Joan;Salvatierra  ;Agurain;Álava - Araba;51;42,852442;-2,389455\\n2022/9/8;Nuestra Señora Virgen del Valle;Haranako Andra Maria;Samaniego  ;Samaniego  ;Álava - Araba;52;42,569832;-2,680185\\n2022/11/11;San Millán;Done Milian;San Millán;Donemiliaga;Álava - Araba;53;42,874722;-2,376111\\n2022/10/3;Fiesta local;Tokiko jaieguna;Urkabustaiz  ;Urkabustaiz  ;Álava - Araba;54;42,971944;-2,922222\\n2022/5/16;Fiesta local;Tokiko jaieguna;Valdegovía  ;Valdegovía  ;Álava - Araba;55;42,850000;-3,100000\\n2022/11/30;San Andrés;San Andres;Villabuena de Álava  ;Eskuernaga;Álava - Araba;57;42,548717;-2,665456\\n2022/8/5;Vírgen Blanca;Andra Mari Zuria;Vitoria-Gasteiz  ;Vitoria-Gasteiz  ;Álava - Araba;59;42,846406;-2,667893\\n2022/8/19;Nuestra Señora de Bercijana;Berzijanako Andra Maria;Yécora;Ikeora;Álava - Araba;60;42,569303;-2,470064\\n2022/6/11;Fiesta local;Tokiko jaieguna;Zalduondo  ;Zalduondo  ;Álava - Araba;61;42,885626;-2,347254\\n2022/8/5;Fiesta local;Tokiko jaieguna;Zambrana  ;Zambrana  ;Álava - Araba;62;42,659981;-2,879353\\n2022/8/5;Fiesta local;Tokiko jaieguna;Zigoitia  ;Zigoitia  ;Álava - Araba;18;42,968200;-2,718300\\n2022/9/29;San Miguel;San Miguel;Zuia  ;Zuia  ;Álava - Araba;63;42,981667;-2,844000\\n'"
      ]
     },
     "execution_count": 27,
     "metadata": {},
     "output_type": "execute_result"
    }
   ],
   "source": [
    "# Leer el resto del archivo.  Ojo, el puntero está situado ahora en la posición 8\n",
    "cadena3 = archivo.read()\n",
    "cadena3"
   ]
  },
  {
   "cell_type": "code",
   "execution_count": 28,
   "metadata": {},
   "outputs": [],
   "source": [
    "archivo.close()"
   ]
  },
  {
   "cell_type": "markdown",
   "metadata": {},
   "source": [
    "#### Leer archivo linea a linea"
   ]
  },
  {
   "cell_type": "code",
   "execution_count": 29,
   "metadata": {
    "scrolled": true,
    "tags": []
   },
   "outputs": [
    {
     "data": {
      "text/plain": [
       "['date;descripcionEs;descriptionEu;municipalityEs;MunicipalityEu;territory;municipalitycode;latwgs84;lonwgs84\\n',\n",
       " '2022/1/1;Año nuevo;Urteberri eguna;CAE;EAE;Todos/denak;;;\\n',\n",
       " '2022/1/6;Epifanía del Señor;Errege Magoen eguna;CAE;EAE;Todos/denak;;;\\n',\n",
       " '2022/4/14;Jueves Santo;Ostegun Santua;CAE;EAE;Todos/denak;;;\\n',\n",
       " '2022/4/15;Viernes Santo;Ostiral Santua;CAE;EAE;Todos/denak;;;\\n',\n",
       " '2022/4/18;Lunes de Pascua de Resurrección;Pazko Astelehena;CAE;EAE;Todos/denak;;;\\n',\n",
       " '2022/7/25;Santiago Apóstol;Santiago Apostolua;CAE;EAE;Todos/denak;;;\\n',\n",
       " '2022/8/15;Asunción de la Virgen;Ama Birjinaren Jasokundea;CAE;EAE;Todos/denak;;;\\n',\n",
       " '2022/9/6;V Centenario de la Vuelta al Mundo capitaneada por Juan Sebastián Elcano;Juan Sebastian Elkano kapitain zela munduari bira eman izanaren V. Mendeurrena;CAE;EAE;Todos/denak;;;\\n',\n",
       " '2022/10/12;Fiesta Nacional;Espainiako Jai Nazionala;CAE;EAE;Todos/denak;;;\\n',\n",
       " '2022/11/1;Todos los Santos;Santu Guztien Eguna;CAE;EAE;Todos/denak;;;\\n',\n",
       " '2022/12/6;Día de la Constitución;Konstituzio Eguna;CAE;EAE;Todos/denak;;;\\n',\n",
       " '2022/12/8;Inmaculada Concepción;Andre Maria Sortzez Garbiaren eguna;CAE;EAE;Todos/denak;;;\\n',\n",
       " '2022/7/4;San Valentín de Berriotxoa;San Balendin Berrio-Otxoa;Bizkaia;Bizkaia;Bizkaia;;;\\n',\n",
       " '2022/9/9;Nuestra Señora de Aránzazu;Arantzazuko Amaren eguna;Gipuzkoa;Gipuzkoa;Gipuzkoa;;;\\n',\n",
       " '2022/4/28;San Prudencio  ;San Prudentzio;Álava - Araba;Álava - Araba;Álava - Araba;;;\\n',\n",
       " '2022/2/3;Fiesta local;Tokiko jai-eguna;Abadiño  ;Abadiño  ;Bizkaia;1;43,150000;-2,610278\\n',\n",
       " '2022/6/30;Santa Lucía;Santa Luzia;Abanto y Ciérvana - Abanto Zierbena ;Abanto y Ciérvana-Abanto Zierbena ;Bizkaia;2;43,316389;-3,083333\\n',\n",
       " '2022/5/26;La Ascensión  ;Asentzio Eguna  ;Ajangiz;Ajangiz;Bizkaia;911;43,301000;-2,671000\\n',\n",
       " '2022/9/2;San Antolín;San Antolín;Alonsotegi;Alonsotegi;Bizkaia;912;43,245186;-2,988701\\n',\n",
       " '2022/7/16;Ntra. Sra. del Carmen  ;Karmengo Amaren Eguna;Amorebieta-Etxano  ;Amorebieta-Etxano  ;Bizkaia;3;43,226104;-2,712628\\n',\n",
       " '2022/7/5;San Martín  ;San Martin;Amoroto  ;Amoroto  ;Bizkaia;4;43,328500;-2,512500\\n',\n",
       " '2022/7/18;Santa Marina;Santa Marina;Arakaldo  ;Arakaldo  ;Bizkaia;5;43,149550;-2,925086\\n',\n",
       " '2022/6/29;San Pedro;San Pedro;Arantzazu  ;Arantzazu  ;Bizkaia;6;43,152904;-2,790430\\n',\n",
       " '2022/8/24;San Bartolomé;Bartolome Deuna;Areatza  ;Areatza  ;Bizkaia;93;43,121079;-2,767771\\n',\n",
       " '2022/6/29;San Pedro;San Pedro eguna;Arrankudiaga;Arrankudiaga;Bizkaia;9;43,173503;-2,917886\\n',\n",
       " '2022/12/21;Santo Tomas;Santo Tomas eguna;Arratzu;Arratzu;Bizkaia;914;43,311667;-2,638611\\n',\n",
       " '2022/11/11;San Martín;San Martín eguna;Arrieta  ;Arrieta  ;Bizkaia;10;43,340362;-2,769799\\n',\n",
       " '2022/7/22;Santa María Magdalena;Andra Maria Magdalena;Arrigorriaga;Arrigorriaga;Bizkaia;11;43,207520;-2,887839\\n',\n",
       " '2022/9/8;Fiesta local;Tokiko jai-eguna;Artea  ;Artea  ;Bizkaia;23;43,133718;-2,784141\\n',\n",
       " '2022/9/2;San Antolín;San Antolin;Artzentales  ;Artzentales  ;Bizkaia;8;43,240556;-3,241389\\n',\n",
       " '2022/6/29;San Pedro  ;San Pedro Eguna;Atxondo  ;Atxondo  ;Bizkaia;91;43,130342;-2,585079\\n',\n",
       " '2022/6/24;San Juan  ;San Juan eguna;Aulesti  ;Aulesti  ;Bizkaia;70;43,296084;-2,563355\\n',\n",
       " '2022/8/29;San Juan Degollado;Joan Doloz Eguna;Bakio  ;Bakio  ;Bizkaia;12;43,427778;-2,811389\\n',\n",
       " '2022/1/24;Fundación de la Villa;Fundación de la Villa;Balmaseda  ;Balmaseda  ;Bizkaia;90;43,192866;-3,196942\\n',\n",
       " '2022/7/16;Nuestra Señora del Carmen;Karmengo Andra Mari;Barakaldo  ;Barakaldo  ;Bizkaia;13;43,297222;-2,991667\\n',\n",
       " '2022/6/24;San Juan;San Juan;Barrika  ;Barrika  ;Bizkaia;14;43,406384;-2,962425\\n',\n",
       " '2022/10/13;San Fuasto;San Fausto;Basauri  ;Basauri  ;Bizkaia;15;43,233333;-2,883333\\n',\n",
       " '2022/6/24;San Juan Bautista;San Juan Bautista;Bedia  ;Bedia  ;Bizkaia;92;43,209374;-2,804965\\n',\n",
       " '2022/8/4;Santo Domingo de Guzmán;Santo Domingo de Guzman eguna;Berango;Berango;Bizkaia;16;43,365899;-2,996356\\n',\n",
       " '2022/9/8;Andra Mari;Andra Mari Eguna;Bermeo  ;Bermeo  ;Bizkaia;17;43,420422;-2,722158\\n',\n",
       " '2022/5/29;Fiesta local;Tokiko jai-eguna;Berriatua  ;Berriatua  ;Bizkaia;18;43,316667;-2,466667\\n',\n",
       " '2022/6/29;San Pedro;San Pedro;Berriz  ;Berriz  ;Bizkaia;19;43,193923;-2,589165\\n',\n",
       " '2022/8/26;Viernes de la Semana Grande;Aste Nagusiko Ostirala;Bilbao  ;Bilbao  ;Bizkaia;20;43,256963;-2,923441\\n',\n",
       " '2022/6/9;Fiesta local;Tokiko jai-eguna;Busturia  ;Busturia  ;Bizkaia;21;43,383000;-2,697000\\n',\n",
       " '2022/5/16;San Isidro Labrador;San Isidro Nekazari Deuna ;Derio  ;Derio  ;Bizkaia;901;43,302000;-2,881833\\n',\n",
       " '2022/6/29;San Pedro;San Pedro eguna;Dima  ;Dima  ;Bizkaia;26;43,143389;-2,751464\\n',\n",
       " '2022/10/13;San Fausto;San Fausto eguna;Durango;Durango;Bizkaia;27;43,169068;-2,632655\\n',\n",
       " '2022/6/24;San Juan;San Juan eguna;Ea  ;Ea  ;Bizkaia;28;43,380135;-2,585593\\n',\n",
       " '2022/6/29;San Pedro;San Pedro;Elantxobe  ;Elantxobe  ;Bizkaia;31;43,403422;-2,639800\\n',\n",
       " '2022/9/5;Fiesta local;Tokiko jai-eguna;Elorrio  ;Elorrio  ;Bizkaia;32;43,130387;-2,542155\\n',\n",
       " '2022/6/16;Corpus Christi;Gorpuzti;Erandio  ;Erandio  ;Bizkaia;902;43,307458;-2,946418\\n',\n",
       " '2022/9/29;San Miguel Arcángel;San Miguel Arcángel;Ereño  ;Ereño  ;Bizkaia;33;43,356944;-2,621667\\n',\n",
       " '2022/7/27;Día de Zezen;Zezen eguna;Ermua  ;Ermua  ;Bizkaia;34;43,186642;-2,502607\\n',\n",
       " '2022/6/24;San Juan;San Juan;Errigoiti;Errigoiti;Bizkaia;79;43,318709;-2,725344\\n',\n",
       " '2022/12/26;San Esteban;San Esteban;Etxebarri  ;Etxebarri  ;Bizkaia;29;43,247179;-2,890139\\n',\n",
       " '2022/11/30;San Andrés;San Andres eguna;Etxebarria  ;Etxebarria  ;Bizkaia;30;43,254146;-2,477354\\n',\n",
       " '2022/11/11;San Martin ;San Martin;Forua  ;Forua  ;Bizkaia;906;43,333712;-2,678589\\n',\n",
       " '2022/8/10;San Lorenzo;San Lorenzo;Fruiz  ;Fruiz  ;Bizkaia;35;43,328889;-2,783333\\n',\n",
       " '2022/9/14;Exaltación de la Santa Cruz;Gurutze Santuaren gorespena;Galdakao  ;Galdakao  ;Bizkaia;36;43,230556;-2,845833\\n',\n",
       " '2022/6/29;San Pedro Apóstol  ;San Pedro Apostol;Galdames  ;Galdames  ;Bizkaia;37;43,255000;-3,096389\\n',\n",
       " '2022/11/11;San Martín;San Martín;Gamiz-Fika  ;Gamiz-Fika  ;Bizkaia;38;43,311728;-2,810701\\n',\n",
       " '2022/7/26;Santa Ana;Santa Ana;Garai  ;Garai  ;Bizkaia;39;43,194722;-2,609722\\n',\n",
       " '2022/4/25;San Marcos;Markos Deuna;Gatika  ;Gatika  ;Bizkaia;40;43,363889;-2,871944\\n',\n",
       " '2022/1/26;San Policarpio;San Policarpio eguna;Gautegiz Arteaga;Gautegiz Arteaga;Bizkaia;41;43,353104;-2,650985\\n',\n",
       " '2022/8/16;San Roque;San Roke;Gernika-Lumo  ;Gernika-Lumo  ;Bizkaia;46;43,317073;-2,678975\\n',\n",
       " '2022/8/10;San Lorenzo;San Lorenzo eguna ;Getxo  ;Getxo  ;Bizkaia;44;43,344167;-3,006389\\n',\n",
       " '2022/9/8;Andra Mari;Andra Mari Eguna;Gizaburuaga;Gizaburuaga;Bizkaia;47;43,331940;-2,536111\\n',\n",
       " '2022/9/26;San Cosme y San Damián;San Cosme y San Damián;Gordexola  ;Gordexola  ;Bizkaia;42;43,178611;-3,072778\\n',\n",
       " '2022/8/5;Nuestra Señora de Aguirre y de las Nieves;Agirreko Andra Maria eta Elurretakoa;Gorliz  ;Gorliz  ;Bizkaia;43;43,416667;-2,933333\\n',\n",
       " '2022/8/10;San Lorenzo;San Lorenzo;Güeñes  ;Güeñes  ;Bizkaia;45;43,210321;-3,095317\\n',\n",
       " '2022/6/16;Corpus Christi;Corpus Christi;Ibarrangelu;Ibarrangelu;Bizkaia;48;43,390215;-2,633802\\n',\n",
       " '2022/6/13;Fiesta local;Tokiko jai-eguna;Igorre;Igorre;Bizkaia;94;43,165833;-2,776111\\n',\n",
       " '2022/7/26;Santa Ana;Santa Ana;Ispaster;Ispaster;Bizkaia;49;43,362954;-2,544635\\n',\n",
       " '2022/9/29;San Miguel  ;San Miguel;Iurreta  ;Iurreta  ;Bizkaia;910;43,176705;-2,633777\\n',\n",
       " '2022/9/8;Ntra. Sra. De Erdozia;Ntra. Sra. De Erdozia;Izurtza  ;Izurtza  ;Bizkaia;50;43,152273;-2,641978\\n',\n",
       " '2022/9/29;San Miguel  ;San Miguel;Valle de Carranza;Karrantza Harana;Bizkaia;22;43,225278;-3,359444\\n',\n",
       " '2022/7/26;Fiesta local;Tokiko jai-eguna;Kortezubi  ;Kortezubi  ;Bizkaia;907;43,335982;-2,654319\\n',\n",
       " '2022/8/5;La Virgen de las Nieves;La Virgen de las Nieves;Lanestosa;Lanestosa;Bizkaia;51;43,221169;-3,439148\\n',\n",
       " '2022/9/29;San Miguel;San Miguel;Larrabetzu;Larrabetzu;Bizkaia;52;43,260973;-2,796175\\n',\n",
       " '2022/9/29;San Miguel;San Miguel;Laukiz;Laukiz;Bizkaia;53;43,353333;-2,906111\\n',\n",
       " '2022/6/24;San Juan;San Juan eguna;Leioa ;Leioa ;Bizkaia;54;43,326097;-2,987704\\n',\n",
       " '2022/9/2;San Antolín  ;San Antolin eguna;Lekeitio;Lekeitio;Bizkaia;57;43,365509;-2,503344\\n',\n",
       " '2022/9/8;Andra Mari;Andra Mari;Lemoa;Lemoa;Bizkaia;55;43,208759;-2,774116\\n',\n",
       " '2022/10/17;Fiesta Local;Tokiko jai-eguna;Lemoiz;Lemoiz;Bizkaia;56;43,413244;-2,902253\\n',\n",
       " '2022/9/8;Andra Mari;Andra Mari eguna;Lezama;Lezama;Bizkaia;81;43,272167;-2,832167\\n',\n",
       " '2022/6/29;Fiesta local;Tokiko jai-eguna;Loiu;Loiu;Bizkaia;903;43,315000;-2,938333\\n',\n",
       " '2022/3/2;Miércoles de Ceniza;Hautsezko asteazkena;Mallabia;Mallabia;Bizkaia;58;43,189651;-2,529969\\n',\n",
       " '2022/10/21;Santa Ursula;Santa Ursula;Mañaria;Mañaria;Bizkaia;59;43,137485;-2,661135\\n',\n",
       " '2022/7/16;Fiesta local;Tokiko jai-eguna;Markina-Xemein;Markina-Xemein;Bizkaia;60;43,270604;-2,497155\\n',\n",
       " '2022/8/10;San Lorenzo;Lorentzo Deuna;Maruri-Jatabe;Maruri-Jatabe;Bizkaia;61;43,382772;-2,874989\\n',\n",
       " '2022/9/29;San Miguel;San Miguel;Mendata;Mendata;Bizkaia;62;43,283333;-2,633333\\n',\n",
       " '2022/8/1;San Pedro Advincula;San Pedro Advincula;Mendexa;Mendexa;Bizkaia;63;43,346389;-2,483333\\n',\n",
       " '2022/8/16;San Roque;Roke Deuna;Meñaka;Meñaka;Bizkaia;64;43,364464;-2,801795\\n',\n",
       " '2022/7/26;Santa Ana;Santa Ana;Morga;Morga;Bizkaia;66;43,297932;-2,752739\\n',\n",
       " '2022/6/29;San Pedro y San Pablo;San Pedro eta San Paulo jai eguna;Mundaka;Mundaka;Bizkaia;68;43,407335;-2,698322\\n',\n",
       " '2022/6/29;Fiesta local;Tokiko jai-eguna;Mungia;Mungia;Bizkaia;69;43,354410;-2,846714\\n',\n",
       " '2022/6/29;San Pedro;San Pedro Eguna;Munitibar-Arbatzegi Gerrikaitz;Munitibar-Arbatzegi Gerrikaitz;Bizkaia;7;43,265332;-2,591845\\n',\n",
       " '2022/9/8;Fiesta local;Tokiko jai-eguna;Murueta;Murueta;Bizkaia;908;43,354463;-2,684153\\n',\n",
       " '2022/6/24;San Juan;San Juan;Muskiz;Muskiz;Bizkaia;71;43,323333;-3,121667\\n',\n",
       " '2022/10/31;Último lunes de octubre de Gernika;Gernikako urriko azken astelehena;Muxika;Muxika;Bizkaia;67;43,289668;-2,692941\\n',\n",
       " '2022/9/8;Andra Mari;Andra Mari eguna;Nabarniz;Nabarniz;Bizkaia;909;43,321597;-2,584400\\n',\n",
       " '2022/8/17;Día del pescador;Arrantzale eguna;Ondarroa;Ondarroa;Bizkaia;73;43,320698;-2,420475\\n',\n",
       " '2022/9/2;San Antolin;San Antolin;Orozko;Orozko;Bizkaia;75;43,108611;-2,911111\\n',\n",
       " '2022/5/18;San Félix de Cantalicio;Kantaliziozko Felix Deuna;Ortuella;Ortuella;Bizkaia;83;43,311370;-3,055952\\n',\n",
       " '2022/7/18;Santa Marina;Santa Marina;Otxandio  ;Otxandio  ;Bizkaia;72;43,040447;-2,654584\\n',\n",
       " '2022/7/22;La Magdalena;La Magdalena;Plentzia  ;Plentzia  ;Bizkaia;77;43,404430;-2,950102\\n',\n",
       " '2022/8/16;San Roque;San Roque;Portugalete  ;Portugalete  ;Bizkaia;78;43,320664;-3,020252\\n',\n",
       " '2022/7/16;Virgen del Carmen;Virgen del Carmen;Santurtzi  ;Santurtzi  ;Bizkaia;82;43,328711;-3,031772\\n',\n",
       " '2022/6/29;San Pedro Apóstol;San Pedro apostoluaren eguna;Sestao  ;Sestao  ;Bizkaia;84;43,309635;-3,006940\\n',\n",
       " '2022/6/24;Fiesta local;Tokiko jaieguna;Sondika  ;Sondika  ;Bizkaia;904;43,300063;-2,927103\\n',\n",
       " '2022/6/29;San Pedro;San Pedro;Sopelana  ;Sopelana  ;Bizkaia;85;43,378918;-2,983002\\n',\n",
       " '2022/7/26;Santa Ana;Santa Ana;Sopuerta  ;Sopuerta  ;Bizkaia;86;43,262778;-3,152500\\n',\n",
       " '2022/11/30;San Andrés  ;San Andres  ;Sukarrieta  ;Sukarrieta  ;Bizkaia;76;43,395342;-2,696367\\n',\n",
       " '2022/6/29;San Pedro;San Pedro;Trucios-Turtzioz  ;Trucios-Turtzioz  ;Bizkaia;87;43,272678;-3,288545\\n',\n",
       " '2022/6/24;San Juan;San Juan eguna;Ubide  ;Ubide  ;Bizkaia;88;43,026832;-2,688209\\n',\n",
       " '2022/9/8;Nuestra Señora de la Virgen de Udiarraga  ;Nuestra Señora de la Virgen de Udiarraga  ;Ugao-Miraballes  ;Ugao-Miraballes  ;Bizkaia;65;43,179989;-2,902508\\n',\n",
       " '2022/9/8;Andramari;Andramari;Urduliz  ;Urduliz  ;Bizkaia;89;43,379667;-2,962000\\n',\n",
       " '2022/5/9;Otxomaio  ;Otxomaio  ;Urduña-Orduña  ;Urduña-Orduña  ;Bizkaia;74;42,994449;-3,009622\\n',\n",
       " '2022/8/8;Transfiguración del Señor;Transfiguración del Señor;Valle de Trápaga-Trapagaran  ;Valle de Trápaga-Trapagaran  ;Bizkaia;80;43,303108;-3,035548\\n',\n",
       " '2022/7/8;Fiesta local;Tokiko jaieguna;Zaldibar  ;Zaldibar  ;Bizkaia;95;43,170970;-2,547130\\n',\n",
       " '2022/10/3;Día de Gangas;Gangas eguna;Zalla  ;Zalla  ;Bizkaia;96;43,214009;-3,135223\\n',\n",
       " '2022/11/11;San Martín;San Martin eguna;Zamudio  ;Zamudio  ;Bizkaia;905;43,283333;-2,866667\\n',\n",
       " '2022/8/10;San Lorenzo  ;San Lorenzo eguna ;Zaratamo  ;Zaratamo  ;Bizkaia;97;43,211505;-2,873626\\n',\n",
       " '2022/8/16;San Roque;San Roke eguna;Zeanuri  ;Zeanuri  ;Bizkaia;24;43,099664;-2,749615\\n',\n",
       " '2022/9/2;San Antolín  ;San Antolin eguna;Zeberio  ;Zeberio  ;Bizkaia;25;43,152778;-2,852778\\n',\n",
       " '2022/10/17;Día de la Independencia de Zierbena  ;Zierbenako Independentziaren Eguna  ;Zierbena  ;Zierbena  ;Bizkaia;913;43,347655;-3,086152\\n',\n",
       " '2022/6/24;San Juan;San Juan;Ziortza-Bolibar  ;Ziortza-Bolibar  ;Bizkaia;915;43,249820;-2,550174\\n',\n",
       " '2022/6/24;San Juan;San Juan;Abaltzisketa  ;Abaltzisketa  ;Gipuzkoa;1;43,047582;-2,105388\\n',\n",
       " '2022/8/16;Fiesta local;Tokiko jai-eguna;Aduna  ;Aduna  ;Gipuzkoa;2;43,203792;-2,050079\\n',\n",
       " '2022/8/10;San Lorenzo;San Lorenzo;Aia  ;Aia  ;Gipuzkoa;16;43,236922;-2,149008\\n',\n",
       " '2022/9/29;San Miguel Arcángel;Mikel Goi Angerua;Aizarnazabal  ;Aizarnazabal  ;Gipuzkoa;3;43,255405;-2,236461\\n',\n",
       " '2022/8/16;Fiesta local;Tokiko jaieguna;Albiztur  ;Albiztur  ;Gipuzkoa;4;43,129723;-2,137180\\n',\n",
       " '2022/7/16;Fiesta local;Tokiko jaieguna;Alegia  ;Alegia  ;Gipuzkoa;5;43,100017;-2,096273\\n',\n",
       " '2022/9/8;Natividad de la Virgen;Amabirjinaren jaiotze eguna;Alkiza  ;Alkiza  ;Gipuzkoa;6;43,172434;-2,109436\\n',\n",
       " '2022/9/29;San Miguel Arcángel;Mikel Goi Angerua;Altzaga  ;Altzaga  ;Gipuzkoa;906;43,064490;-2,153833\\n',\n",
       " '2022/2/28;Lunes de Carnaval  ;Iñauterietako Astelehena;Altzo  ;Altzo  ;Gipuzkoa;7;43,100072;-2,083905\\n',\n",
       " '2022/8/24;San Bartolomé;Bartolome Deuna;Amezketa  ;Amezketa  ;Gipuzkoa;8;43,044517;-2,083235\\n',\n",
       " '2022/6/24;San Juan;San Juan;Andoain  ;Andoain  ;Gipuzkoa;9;43,220480;-2,021122\\n',\n",
       " '2022/6/16;Corpus Christi  ;Gorpuzti-eguna;Anoeta  ;Anoeta  ;Gipuzkoa;10;43,161467;-2,070695\\n',\n",
       " '2022/7/15;Fiesta local;Tokiko jai-eguna;Antzuola  ;Antzuola  ;Gipuzkoa;11;43,099441;-2,381747\\n',\n",
       " '2022/11/11;San Martín  ;Martin Deuna;Arama  ;Arama  ;Gipuzkoa;12;43,063637;-2,165558\\n',\n",
       " '2022/8/16;Fiesta local;Tokiko jai-eguna;Aretxabaleta  ;Aretxabaleta  ;Gipuzkoa;13;43,036248;-2,504542\\n',\n",
       " '2022/6/24;San Juan Bautista;San Juan Bataiatzailea;Arrasate-Mondragon  ;Arrasate-Mondragon  ;Gipuzkoa;55;43,066517;-2,487562\\n',\n",
       " '2022/6/29;San Pedro  ;San Pedro;Asteasu  ;Asteasu  ;Gipuzkoa;14;43,195198;-2,097548\\n',\n",
       " '2022/7/26;Fiesta local;Tokiko jai-eguna;Astigarraga  ;Astigarraga  ;Gipuzkoa;903;43,280652;-1,947560\\n',\n",
       " '2022/11/11;San Martín;San Martin;Ataun  ;Ataun ;Gipuzkoa;15;43,005480;-2,176620\\n',\n",
       " '2022/11/30;San Andrés  ;San Andres;Azkoitia  ;Azkoitia  ;Gipuzkoa;17;43,178205;-2,311640\\n',\n",
       " '2022/1/20;San Sebastián;San Sebastian;Azpeitia  ;Azpeitia  ;Gipuzkoa;18;43,183900;-2,265466\\n',\n",
       " '2022/8/16;Fiesta local;Tokiko jai-eguna;Baliarrain  ;Baliarrain  ;Gipuzkoa;904;43,069306;-2,129235\\n',\n",
       " '2022/5/30;Fiesta local;Tokiko jai-eguna;Beasain  ;Beasain  ;Gipuzkoa;19;43,047076;-2,204605\\n',\n",
       " '2022/6/29;Fiesta local;Tokiko jai-eguna;Beizama  ;Beizama  ;Gipuzkoa;20;43,134191;-2,200113\\n',\n",
       " '2022/6/24;San Juan;San Juan;Belaunza  ;Belauntza  ;Gipuzkoa;21;43,135283;-2,050705\\n',\n",
       " '2022/8/10;San Lorenzo  ;San Lorentzo;Berastegi  ;Berastegi  ;Gipuzkoa;22;43,124029;-1,979426\\n',\n",
       " '2022/9/16;San Martín Agirre;San Martin Agirre;Bergara  ;Bergara  ;Gipuzkoa;74;43,118217;-2,413358\\n',\n",
       " '2022/11/30;San Andrés;San Andres;Berrobi  ;Berrobi  ;Gipuzkoa;23;43,145479;-2,026374\\n',\n",
       " '2022/8/16;Día siguiente a la Virgen;Andra Mariren biharmunea;Bidania  - Goiatz  ;Bidania  - Goiatz  ;Gipuzkoa;24;43,142086;-2,167475\\n',\n",
       " '2022/8/24;San Bartolomé;Bartolome Deuna;Bidania - Bidania  ;Bidania - Bidania  ;Gipuzkoa;24;43,139399;-2,159979\\n',\n",
       " '2022/8/16;San Roque;San Roke;Deba  ;Deba  ;Gipuzkoa;29;43,295562;-2,353894\\n',\n",
       " '2022/1/20;San Sebastián  ;San Sebastian;Donostia-San Sebastian  ;Donostia-San Sebastian  ;Gipuzkoa;69;43,321874;-1,985520\\n',\n",
       " '2022/6/24;San Juan;San Juan;Eibar  ;Eibar  ;Gipuzkoa;30;43,184180;-2,473289\\n',\n",
       " '2022/9/8;Natividad de la Virgen;Amabirjinaren jaiotze eguna;Elduaien  ;Elduain  ;Gipuzkoa;31;43,140712;-2,000488\\n',\n",
       " '2022/7/1;Fiesta local;Tokiko jai-eguna;Elgeta  ;Elgeta  ;Gipuzkoa;33;43,136572;-2,487392\\n',\n",
       " '2022/1/17;San Antón;San Anton;Elgoibar  ;Elgoibar  ;Gipuzkoa;32;43,215187;-2,415702\\n',\n",
       " '2022/7/22;María Magdalena  ;Madalena eguna;Errenteria  ;Errenteria  ;Gipuzkoa;67;43,312752;-1,899633\\n',\n",
       " '2022/11/11;Fiesta local;Tokiko jaieguna;Errezil  ;Errezil  ;Gipuzkoa;66;43,164674;-2,173594\\n',\n",
       " '2022/6/29;San Pedro;San Pedro;Eskoriatza  ;Eskoriatza  ;Gipuzkoa;34;43,017074;-2,526980\\n',\n",
       " '2022/5/9;Aparicio de San Miguel;Mikel Deuna;Ezkio-Itsaso - Ezkio  ;Ezkio-Itsaso - Ezkio  ;Gipuzkoa;35;43,080484;-2,275421\\n',\n",
       " '2022/6/29;San Pedro;Pedro Deuna;Ezkio-Itsaso - Sta. Lutzi-Anduaga;Ezkio-Itsaso - Sta. Lutzi-Anduaga;Gipuzkoa;35;43,064321;-2,274735\\n',\n",
       " '2022/8/16;San Roque  ;San Roke;Gabiria  ;Gabiria  ;Gipuzkoa;38;43,049689;-2,279856\\n',\n",
       " '2022/9/29;San Miguel  ;San Migel;Gaintza  ;Gaintza  ;Gipuzkoa;37;43,052629;-2,132370\\n',\n",
       " '2022/8/16;Fiesta local;Tokiko jaieguna;Gaztelu  ;Gaztelu  ;Gipuzkoa;907;43,116579;-2,022278\\n',\n",
       " '2022/8/6;San Salvador  ;Salbatore Deuna;Getaria  ;Getaria  ;Gipuzkoa;39;43,303261;-2,204363\\n',\n",
       " '2022/6/24;San Juan Bautista;San Joan Bataiatzailea;Hernani  ;Hernani  ;Gipuzkoa;40;43,267549;-1,975814\\n',\n",
       " '2022/8/16;Fiesta local;Tokiko jai-eguna;Hernialde  ;Hernialde  ;Gipuzkoa;41;43,154467;-2,085025\\n',\n",
       " '2022/9/8;Ntra. Sra. De Guadalupe;Guadalupeko Ama;Hondarribia  ;Hondarribia  ;Gipuzkoa;36;43,362531;-1,791498\\n',\n",
       " '2022/8/24;San Bartolomé  ;San Bartolome;Ibarra  ;Ibarra  ;Gipuzkoa;42;43,132345;-2,065462\\n',\n",
       " '2022/2/3;Fiesta local;Tokiko jai-eguna;Idiazabal  ;Idiazabal  ;Gipuzkoa;43;43,011782;-2,234214\\n',\n",
       " '2022/8/10;San Lorenzo;San Lorentzo;Ikaztegieta  ;Ikaztegieta  ;Gipuzkoa;44;43,094960;-2,123900\\n',\n",
       " '2022/6/30;San Marcial;San Marcial;Irun  ;Irun  ;Gipuzkoa;45;43,338233;-1,789272\\n',\n",
       " '2022/9/29;San Miguel ;San Migel;Irura  ;Irura  ;Gipuzkoa;46;43,165688;-2,069616\\n',\n",
       " '2022/7/22;María Magdalena;Madalena Donea;Itsaso - Barrio Itxaso-Alegia ;Itsaso - Itxaso-Alegia auzoa ;Gipuzkoa;35;43,058055;-2,268215\\n',\n",
       " '2022/8/24;San Bartolomé;Bartolome Deuna;Itsaso - Casco;Itsaso - hirigunea;Gipuzkoa;35;43,072544;-2,257418\\n',\n",
       " '2022/9/8;Día de la Virgen de Kizkitza;Kizkitzako Ama Birjinaren eguna;Itsaso - Mendialdea;Itsaso - Mendialdea Zozkera;Gipuzkoa;35;43,072544;-2,257418\\n',\n",
       " '2022/9/23;Fiesta local;Tokiko jai-eguna;Itsasondo  ;Itsasondo  ;Gipuzkoa;47;43,066932;-2,167393\\n',\n",
       " '2022/8/3;Fiesta local;Tokiko jai-eguna;Larraul  ;Larraul  ;Gipuzkoa;48;43,187739;-2,102534\\n',\n",
       " '2022/6/29;San Pedro ;San Pedro ;Lasarte-Oria  ;Lasarte-Oria;Gipuzkoa;902;43,267455;-2,020179\\n',\n",
       " '2022/4/28;San Prudencio  ;San Prudentzio;Lazkao  ;Lazkao  ;Gipuzkoa;49;43,034324;-2,187379\\n',\n",
       " '2022/6/29;San Pedro ;San Pedro;Leaburu  ;Leaburu  ;Gipuzkoa;50;43,124984;-2,052106\\n',\n",
       " '2022/5/3;Santa Cruz;Santikutz eguna;Legazpi  ;Legazpi  ;Gipuzkoa;51;43,054361;-2,333641\\n',\n",
       " '2022/5/26;La Ascensión;Azintzio eguna;Legorreta  ;Legorreta  ;Gipuzkoa;52;43,085794;-2,150909\\n',\n",
       " '2022/9/8;Festividad de la Virgen;Amabirjinaren eguna;Leintz-Gatzaga  ;Leintz-Gatzaga  ;Gipuzkoa;68;42,987112;-2,568626\\n',\n",
       " '2022/9/14;Exaltación de la Santa Cruz  ;Gurutze Santuaren gorespena;Lezo  ;Lezo  ;Gipuzkoa;53;43,321127;-1,898775\\n',\n",
       " '2022/9/8;Fiesta local;Tokiko jaieguna;Lizartza  ;Lizartza  ;Gipuzkoa;54;43,103720;-2,034254\\n',\n",
       " '2022/7/26;Santa Ana;Santa Ana;Mendaro  ;Mendaro  ;Gipuzkoa;901;43,264167;-2,375500\\n',\n",
       " '2022/6/29;San Pedro  ;San Pedro;Mutiloa  ;Mutiloa  ;Gipuzkoa;57;43,022380;-2,272826\\n',\n",
       " '2022/7/22;María Magdalena;Madalen eguna;Mutriku  ;Mutriku  ;Gipuzkoa;56;43,307069;-2,385083\\n',\n",
       " '2022/8/3;San Esteban  ;Don Eztebe;Oiartzun  ;Oiartzun  ;Gipuzkoa;63;43,299282;-1,857874\\n',\n",
       " '2022/6/24;San Juan;San Joan;Olaberria  ;Olaberria  ;Gipuzkoa;58;43,027075;-2,203089\\n',\n",
       " '2022/9/29;San Miguel;San Migel;Oñati  ;Oñati  ;Gipuzkoa;59;43,032888;-2,411348\\n',\n",
       " '2022/7/26;Santa Ana;Santa Ana;Ordizia  ;Ordizia  ;Gipuzkoa;76;43,054198;-2,178115\\n',\n",
       " '2022/1/20;San Sebastián;San Sebastian;Orendain  ;Orendain  ;Gipuzkoa;905;43,079721;-2,114290\\n',\n",
       " '2022/5/3;Fiesta local;Tokiko jaieguna;Orexa  ;Orexa  ;Gipuzkoa;60;43,093881;-2,011392\\n',\n",
       " '2022/6/29;San Pedro  ;San Pedro;Orio  ;Orio  ;Gipuzkoa;61;43,278323;-2,126597\\n',\n",
       " '2022/11/30;San Andrés  ;San Andres;Ormaiztegi  ;Ormaiztegi  ;Gipuzkoa;62;43,042735;-2,255848\\n',\n",
       " '2022/7/7;San Fermín;San Fermin;Pasaia - Antxo  ;Pasaia - Antxo  ;Gipuzkoa;64;43,317534;-1,917562\\n',\n",
       " '2022/6/24;San Juan;San Juan;Pasaia - Donibane  ;Pasaia - Donibane  ;Gipuzkoa;64;43,327481;-1,919883\\n',\n",
       " '2022/6/29;San Pedro  ;San Pedro;Pasaia - San Pedro  ;Pasaia - San Pedro  ;Gipuzkoa;64;43,323348;-1,930432\\n',\n",
       " '2022/7/16;Virgen del Carmen  ;Karmengo Ama;Pasaia - Trintxerpe  ;Pasaia - Trintxerpe  ;Gipuzkoa;64;43,326138;-1,931587\\n',\n",
       " '2022/6/24;SanJuan;San Joan;Segura  ;Segura  ;Gipuzkoa;70;43,009216;-2,252519\\n',\n",
       " '2022/7/26;Santa Ana  ;Santa Ana  ;Soraluze - P. De Las Armas;Soraluze - P. De Las Armas;Gipuzkoa;65;43,175430;-2,412494\\n',\n",
       " '2022/6/24;Fiesta local;Tokiko jaieguna;Tolosa  ;Tolosa  ;Gipuzkoa;71;43,136978;-2,073914\\n',\n",
       " '2022/9/29;San Miguel  ;San Migel;Urnieta  ;Urnieta  ;Gipuzkoa;72;43,248200;-1,990517\\n',\n",
       " '2022/9/19;Santa Anastasia  ;Santa Anastasia;Urretxu  ;Urretxu  ;Gipuzkoa;77;43,092282;-2,314383\\n',\n",
       " '2022/7/2;Santa Isabel;Santixabel;Usurbil  ;Usurbil  ;Gipuzkoa;73;43,271382;-2,049934\\n',\n",
       " '2022/7/26;Santa Ana;Santa Ana;Villabona  ;Billabona  ;Gipuzkoa;75;43,189944;-2,052453\\n',\n",
       " '2022/10/6;Santa Fe  ;Santa Fe;Zaldibia  ;Zaldibia  ;Gipuzkoa;78;43,037964;-2,150894\\n',\n",
       " '2022/6/27;San Pelayo  ;San Pelaio;Zarautz  ;Zarautz  ;Gipuzkoa;79;43,280364;-2,171588\\n',\n",
       " '2022/6/6;Lunes de Pentecostés  ;Mendekoste astelehena;Zegama  ;Zegama  ;Gipuzkoa;25;42,975677;-2,290072\\n',\n",
       " '2022/8/16;San Roque;San Roke;Zerain  ;Zerain  ;Gipuzkoa;26;43,012119;-2,274118\\n',\n",
       " '2022/9/8;Festividad de la Virgen;Ama Birjinaren eguna;Zestoa  ;Zestoa  ;Gipuzkoa;27;43,239442;-2,258113\\n',\n",
       " '2022/9/8;Fiesta local;Tokiko jai-eguna;Zizurkil  ;Zizurkil  ;Gipuzkoa;28;43,199523;-2,074073\\n',\n",
       " '2022/6/29;San Pedro  ;San Pedro;Zumaia  ;Zumaia  ;Gipuzkoa;81;43,297258;-2,256848\\n',\n",
       " '2022/7/2;Santa Isabel  ;Santa Isabel;Zumarraga  ;Zumarraga  ;Gipuzkoa;80;43,090476;-2,313220\\n',\n",
       " '2022/2/3;San Blas;San Joan Bataiatzailea;Alegría-Dulantzi;Alegria-Dulantzi;Álava - Araba;2;42,841035;-2,512684\\n',\n",
       " '2022/8/16;Fiesta local;Tokiko jai-eguna;Amurrio;Amurrio;Álava - Araba;1;43,057875;-2,998775\\n',\n",
       " '2022/7/11;San Cristóbal;Done Kristobal;Añana  ;Añana  ;Álava - Araba;49;42,802352;-2,982607\\n',\n",
       " '2022/7/4;Fiesta local;Tokiko jaieguna;Aramaio  ;Aramaio  ;Álava - Araba;3;43,054000;-2,566000\\n',\n",
       " '2022/11/30;San Andrés Apóstol;San Andrés Apostolua;Armiñón  ;Armiñón  ;Álava - Araba;6;42,723045;-2,872574\\n',\n",
       " '2022/6/20;San Adrián;San Adrian;Arraia-Maeztu  ;Arraia-Maeztu  ;Álava - Araba;37;42,739815;-2,445980\\n',\n",
       " '2022/12/26;San Esteban;San Esteban;Arrazua-Ubarrundia  ;Arrazua-Ubarrundia  ;Álava - Araba;8;42,890278;-2,639167\\n',\n",
       " '2022/9/8;Virgen de la Encina;Arteako Andra Maria;Artziniega  ;Artziniega  ;Álava - Araba;4;43,122201;-3,128209\\n',\n",
       " '2022/6/29;San Pedro Apóstol;Done Petri;Asparrena  ;Asparrena  ;Álava - Araba;9;42,895667;-2,321000\\n',\n",
       " '2022/7/26;Santiago;Done Jakue;Ayala - Agiñaga;Aiara - Agiñaga;Álava - Araba;10;43,035080;-3,071144\\n',\n",
       " '2022/5/21;San Ramiro;Done Ramiro;Ayala - Añes  ;Aiara - Añes  ;Álava - Araba;10;43,058414;-3,132924\\n',\n",
       " '2022/9/29;San Miguel;Done Mikel;Ayala - Beotegi  ;Aiara - Beotegi  ;Álava - Araba;10;43,088660;-3,075259\\n',\n",
       " '2022/9/29;San Miguel;Done Mikel;Ayala - Costera  ;Aiara - Opellora;Álava - Araba;10;43,102599;-3,103772\\n',\n",
       " '2022/5/3;La Cruz;Gurutzea;Ayala - Erbi  ;Aiara - Erbi  ;Álava - Araba;10;43,074143;-3,111819\\n',\n",
       " '2022/5/9;Ntra. Sra. de la Antigua ;Antiguako Ama ;Ayala - Etxegoien  ;Aiara - Etxegoien  ;Álava - Araba;10;43,043726;-3,021070\\n',\n",
       " '2022/1/7;San Julián;Done Julian;Ayala - Izoria  ;Aiara - Izoria  ;Álava - Araba;10;43,061416;-3,036324\\n',\n",
       " '2022/12/9;La Inmaculada;Sortzez Garbiaren Eguna;Ayala - Lejarzo  ;Aiara - Lexartzu;Álava - Araba;10;43,060158;-3,122923\\n',\n",
       " '2022/8/16;La Asunción;Jasokundearen Eguna;Ayala - Lujo  ;Aiara - Luxo  ;Álava - Araba;10;43,077952;-3,096407\\n',\n",
       " '2022/7/22;La Magdalena;Magdalena Eguna;Ayala - Luiaondo  ;Aiara - Luiaondo  ;Álava - Araba;10;43,102723;-2,997211\\n',\n",
       " '2022/7/26;Santiago;Done Jakue;Ayala - Llanteno  ;Aiara - Llanteno  ;Álava - Araba;10;43,091803;-3,099984\\n',\n",
       " '2022/11/23;San Clemente;Done Klemente;Ayala - Madaria  ;Aiara - Madaria  ;Álava - Araba;10;43,043890;-3,085953\\n',\n",
       " '2022/1/17;San Antón;Done Anton;Ayala - Maroño  ;Aiara - Maroño  ;Álava - Araba;10;43,055065;-3,059010\\n',\n",
       " '2022/6/29;San Pedro;Done Petri;Ayala - Menagarai  ;Aiara - Menagarai  ;Álava - Araba;10;43,096299;-3,072769\\n',\n",
       " '2022/4/25;San Marcos;Done Marko;Ayala - Menoio  ;Aiara - Menoio  ;Álava - Araba;10;43,069585;-3,072926\\n',\n",
       " '2022/6/24;San Juan;Done Joane;Ayala - Murga  ;Aiara - Murga  ;Álava - Araba;10;43,075372;-3,025590\\n',\n",
       " '2022/1/24;San Babilás;Done Babilas;Ayala - Olabezar  ;Aiara - Olabezar  ;Álava - Araba;10;43,069997;-3,014813\\n',\n",
       " '2022/10/8;Ntra. Sra. del Rosario ;Errosarioko Andra Maria;Ayala - Ozeka  ;Aiara - Ozeka  ;Álava - Araba;10;43,070824;-3,090905\\n',\n",
       " '2022/8/5;Las Nieves;Elurretako Andra Maria;Ayala - Quejana  ;Aiara - Kexaa;Álava - Araba;10;43,081485;-3,063094\\n',\n",
       " '2022/5/16;San Isidro;Done Isidro;Ayala - Respaldiza  ;Aiara - Arespalditza  ;Álava - Araba;10;43,078065;-3,042931\\n',\n",
       " '2022/7/22;La Magdalena;Magdalena Eguna;Ayala - Retes de Llanteno  ;Aiara - Retes de Llanteno  ;Álava - Araba;10;43,091803;-3,099984\\n',\n",
       " '2022/7/18;Santa Marina;Dona Marina;Ayala - Salmantón  ;Aiara - Salmanton  ;Álava - Araba;10;43,052629;-3,088347\\n',\n",
       " '2022/8/30;San Emeterio;Done Meteri;Ayala - Sojo  ;Aiara - Soxo  ;Álava - Araba;10;43,090730;-3,122839\\n',\n",
       " '2022/7/18;Santa Marina ;Dona Marina;Ayala - Zuaza  ;Aiara - Zuhatza  ;Álava - Araba;10;43,099672;-3,049447\\n',\n",
       " '2022/8/24;San Bartolomé;Done Bartolome;Baños de Ebro  ;Mañueta;Álava - Araba;11;42,530290;-2,679144\\n',\n",
       " '2022/6/24;San Juan;Done Joane;Barrundia  ;Barrundia  ;Álava - Araba;13;42,916667;-2,491667\\n',\n",
       " '2022/9/8;Asunción de María;Jasokundearen eguna;Berantevilla  ;Berantevilla  ;Álava - Araba;14;42,682450;-2,860401\\n',\n",
       " '2022/9/8;Fiesta local;Tokiko jaieguna;Bernedo  ;Bernedo  ;Álava - Araba;16;42,626684;-2,497532\\n',\n",
       " '2022/5/16;San Isidro;Done Isidro;Campezo  ;Kanpezu;Álava - Araba;17;42,691944;-2,370000\\n',\n",
       " '2022/9/8;La Virgen;Andra Maria;Kripan  ;Kripan  ;Álava - Araba;19;42,591666;-2,516079\\n',\n",
       " '2022/6/24;Fiesta local;Tokiko jaieguna;Kuartango  ;Kuartango  ;Álava - Araba;20;42,871389;-2,885556\\n',\n",
       " '2022/6/29;San Pedro;San Pedro;Elburgo  ;Burgelu;Álava - Araba;21;42,849564;-2,544762\\n',\n",
       " '2022/9/8;Virgen de la Plaza;Plazako Andra Maria;Elciego  ;Zieko;Álava - Araba;22;42,515073;-2,618277\\n',\n",
       " '2022/8/16;San Roque;San Roke;Elvillar;Bilar;Álava - Araba;23;42,570497;-2,544915\\n',\n",
       " '2022/6/24;Fiesta local;Tokiko jai-eguna;Valle de Arana;Harana;Álava - Araba;;42,752731;-2,312303\\n',\n",
       " '2022/8/16;San Roque;Done Roke;Iruña de Oca - Nanclares de la Oca;Iruña Oka - Langraiz Oka;Álava - Araba;901;42,817197;-2,811518\\n',\n",
       " '2022/6/24;San Juan;Done Joane;Iruraiz-Gauna  ;Iruraiz-Gauna  ;Álava - Araba;27;42,822072;-2,495043\\n',\n",
       " '2022/11/25;2º día de Acción de Gracias  ;2. Esker Oneko Eguna;Labastida  ;Labastida  ;Álava - Araba;28;42,590459;-2,792991\\n',\n",
       " '2022/8/24;Fiesta local;Tokiko jaieguna;Lagrán  ;Lagrán  ;Álava - Araba;30;42,626395;-2,583820\\n',\n",
       " '2022/6/24;San Juan;Done Joane;Laguardia  ;Laguardia  ;Álava - Araba;31;42,554278;-2,584237\\n',\n",
       " '2022/9/8;Virgen del Campo;Amabirjina;Lanciego  ;Lantziego  ;Álava - Araba;32;42,562619;-2,513204\\n',\n",
       " '2022/9/16;Santos Cornelio y Cipriano  ;Done Kornelio eta Done Zipri;Lantarón  ;Lantarón  ;Álava - Araba;902;42,756673;-2,987556\\n',\n",
       " '2022/8/24;San Bartolomé;Done Bartolome;Lapuebla de Labarca  ;Lapuebla de Labarca  ;Álava - Araba;33;42,493969;-2,573024\\n',\n",
       " '2022/9/12;La Cofradias;Kofradiak;Legutio;Legutiano  ;Álava - Araba;58;42,977822;-2,642724\\n',\n",
       " '2022/8/16;San Roque;San Roke;Leza  ;Leza  ;Álava - Araba;34;42,566068;-2,633635\\n',\n",
       " '2022/8/16;San Roque;San Roke;Llodio  ;Laudio;Álava - Araba;36;43,143333;-2,962985\\n',\n",
       " '2022/8/19;Acción de gracias;Esker onak;Moreda de Alava  ;Moreda de Alava  ;Álava - Araba;39;42,528016;-2,407670\\n',\n",
       " '2022/6/2;Fiesta local;Tokiko jaieguna;Navaridas  ;Nabaridas  ;Álava - Araba;41;42,545171;-2,624532\\n',\n",
       " '2022/8/24;San Bartolomé;San Bartolome;Okondo  ;Okondo  ;Álava - Araba;42;43,162222;-3,018889\\n',\n",
       " '2022/1/22;San Vicente y San Anastasio;Bikendi eta Anastasi Santuak;Oyón/Oion  ;Oyón/Oion  ;Álava - Araba;43;42,506137;-2,436965\\n',\n",
       " '2022/5/16;San Isidro Labrador;Done Isidro Nekazaria;Peñacerrada  ;Urizaharra;Álava - Araba;44;42,644095;-2,713374\\n',\n",
       " '2022/5/16;San Isidro Labrador;Done Isidro Nekazaria;Ribera Alta  ;Erribera Goitia;Álava - Araba;46;42,807222;-2,917500\\n',\n",
       " '2022/8/29;Fiesta local;Tokiko jaieguna;Ribera Baja  ;Erribera Beitia;Álava - Araba;47;42,719678;-2,907609\\n',\n",
       " '2022/6/24;San Juan;San Joan;Salvatierra  ;Agurain;Álava - Araba;51;42,852442;-2,389455\\n',\n",
       " '2022/9/8;Nuestra Señora Virgen del Valle;Haranako Andra Maria;Samaniego  ;Samaniego  ;Álava - Araba;52;42,569832;-2,680185\\n',\n",
       " '2022/11/11;San Millán;Done Milian;San Millán;Donemiliaga;Álava - Araba;53;42,874722;-2,376111\\n',\n",
       " '2022/10/3;Fiesta local;Tokiko jaieguna;Urkabustaiz  ;Urkabustaiz  ;Álava - Araba;54;42,971944;-2,922222\\n',\n",
       " '2022/5/16;Fiesta local;Tokiko jaieguna;Valdegovía  ;Valdegovía  ;Álava - Araba;55;42,850000;-3,100000\\n',\n",
       " '2022/11/30;San Andrés;San Andres;Villabuena de Álava  ;Eskuernaga;Álava - Araba;57;42,548717;-2,665456\\n',\n",
       " '2022/8/5;Vírgen Blanca;Andra Mari Zuria;Vitoria-Gasteiz  ;Vitoria-Gasteiz  ;Álava - Araba;59;42,846406;-2,667893\\n',\n",
       " '2022/8/19;Nuestra Señora de Bercijana;Berzijanako Andra Maria;Yécora;Ikeora;Álava - Araba;60;42,569303;-2,470064\\n',\n",
       " '2022/6/11;Fiesta local;Tokiko jaieguna;Zalduondo  ;Zalduondo  ;Álava - Araba;61;42,885626;-2,347254\\n',\n",
       " '2022/8/5;Fiesta local;Tokiko jaieguna;Zambrana  ;Zambrana  ;Álava - Araba;62;42,659981;-2,879353\\n',\n",
       " '2022/8/5;Fiesta local;Tokiko jaieguna;Zigoitia  ;Zigoitia  ;Álava - Araba;18;42,968200;-2,718300\\n',\n",
       " '2022/9/29;San Miguel;San Miguel;Zuia  ;Zuia  ;Álava - Araba;63;42,981667;-2,844000\\n']"
      ]
     },
     "execution_count": 29,
     "metadata": {},
     "output_type": "execute_result"
    }
   ],
   "source": [
    "archivo = open('./data/calendario_laboral_2022.csv',mode='r', encoding = 'latin-1')\n",
    "resultado = []\n",
    "# Bucle infinito para leer linea a linea\n",
    "while True:\n",
    "    linea = archivo.readline()  # leer linea\n",
    "    if not linea:\n",
    "        break   # Si no hay linea se para el bucle  \n",
    "    resultado.append(linea)\n",
    "archivo.close()\n",
    "resultado"
   ]
  },
  {
   "cell_type": "markdown",
   "metadata": {},
   "source": [
    "#### Leer todas las lineas de un archivo (a través de for)\n",
    "##### En este caso, podríamos seleccionar el rango de líneas a leer, definiendo numlin y el total de iteraciones"
   ]
  },
  {
   "cell_type": "code",
   "execution_count": 30,
   "metadata": {
    "scrolled": true,
    "tags": []
   },
   "outputs": [
    {
     "name": "stdout",
     "output_type": "stream",
     "text": [
      "1 date;descripcionEs;descriptionEu;municipalityEs;MunicipalityEu;territory;municipalitycode;latwgs84;lonwgs84\n",
      "\n",
      "2 2022/1/1;Año nuevo;Urteberri eguna;CAE;EAE;Todos/denak;;;\n",
      "\n",
      "3 2022/1/6;Epifanía del Señor;Errege Magoen eguna;CAE;EAE;Todos/denak;;;\n",
      "\n",
      "4 2022/4/14;Jueves Santo;Ostegun Santua;CAE;EAE;Todos/denak;;;\n",
      "\n",
      "5 2022/4/15;Viernes Santo;Ostiral Santua;CAE;EAE;Todos/denak;;;\n",
      "\n",
      "6 2022/4/18;Lunes de Pascua de Resurrección;Pazko Astelehena;CAE;EAE;Todos/denak;;;\n",
      "\n",
      "7 2022/7/25;Santiago Apóstol;Santiago Apostolua;CAE;EAE;Todos/denak;;;\n",
      "\n",
      "8 2022/8/15;Asunción de la Virgen;Ama Birjinaren Jasokundea;CAE;EAE;Todos/denak;;;\n",
      "\n",
      "9 2022/9/6;V Centenario de la Vuelta al Mundo capitaneada por Juan Sebastián Elcano;Juan Sebastian Elkano kapitain zela munduari bira eman izanaren V. Mendeurrena;CAE;EAE;Todos/denak;;;\n",
      "\n",
      "10 2022/10/12;Fiesta Nacional;Espainiako Jai Nazionala;CAE;EAE;Todos/denak;;;\n",
      "\n",
      "11 2022/11/1;Todos los Santos;Santu Guztien Eguna;CAE;EAE;Todos/denak;;;\n",
      "\n",
      "12 2022/12/6;Día de la Constitución;Konstituzio Eguna;CAE;EAE;Todos/denak;;;\n",
      "\n",
      "13 2022/12/8;Inmaculada Concepción;Andre Maria Sortzez Garbiaren eguna;CAE;EAE;Todos/denak;;;\n",
      "\n",
      "14 2022/7/4;San Valentín de Berriotxoa;San Balendin Berrio-Otxoa;Bizkaia;Bizkaia;Bizkaia;;;\n",
      "\n",
      "15 2022/9/9;Nuestra Señora de Aránzazu;Arantzazuko Amaren eguna;Gipuzkoa;Gipuzkoa;Gipuzkoa;;;\n",
      "\n",
      "16 2022/4/28;San Prudencio  ;San Prudentzio;Álava - Araba;Álava - Araba;Álava - Araba;;;\n",
      "\n",
      "17 2022/2/3;Fiesta local;Tokiko jai-eguna;Abadiño  ;Abadiño  ;Bizkaia;1;43,150000;-2,610278\n",
      "\n",
      "18 2022/6/30;Santa Lucía;Santa Luzia;Abanto y Ciérvana - Abanto Zierbena ;Abanto y Ciérvana-Abanto Zierbena ;Bizkaia;2;43,316389;-3,083333\n",
      "\n",
      "19 2022/5/26;La Ascensión  ;Asentzio Eguna  ;Ajangiz;Ajangiz;Bizkaia;911;43,301000;-2,671000\n",
      "\n",
      "20 2022/9/2;San Antolín;San Antolín;Alonsotegi;Alonsotegi;Bizkaia;912;43,245186;-2,988701\n",
      "\n",
      "21 2022/7/16;Ntra. Sra. del Carmen  ;Karmengo Amaren Eguna;Amorebieta-Etxano  ;Amorebieta-Etxano  ;Bizkaia;3;43,226104;-2,712628\n",
      "\n",
      "22 2022/7/5;San Martín  ;San Martin;Amoroto  ;Amoroto  ;Bizkaia;4;43,328500;-2,512500\n",
      "\n",
      "23 2022/7/18;Santa Marina;Santa Marina;Arakaldo  ;Arakaldo  ;Bizkaia;5;43,149550;-2,925086\n",
      "\n",
      "24 2022/6/29;San Pedro;San Pedro;Arantzazu  ;Arantzazu  ;Bizkaia;6;43,152904;-2,790430\n",
      "\n",
      "25 2022/8/24;San Bartolomé;Bartolome Deuna;Areatza  ;Areatza  ;Bizkaia;93;43,121079;-2,767771\n",
      "\n",
      "26 2022/6/29;San Pedro;San Pedro eguna;Arrankudiaga;Arrankudiaga;Bizkaia;9;43,173503;-2,917886\n",
      "\n",
      "27 2022/12/21;Santo Tomas;Santo Tomas eguna;Arratzu;Arratzu;Bizkaia;914;43,311667;-2,638611\n",
      "\n",
      "28 2022/11/11;San Martín;San Martín eguna;Arrieta  ;Arrieta  ;Bizkaia;10;43,340362;-2,769799\n",
      "\n",
      "29 2022/7/22;Santa María Magdalena;Andra Maria Magdalena;Arrigorriaga;Arrigorriaga;Bizkaia;11;43,207520;-2,887839\n",
      "\n",
      "30 2022/9/8;Fiesta local;Tokiko jai-eguna;Artea  ;Artea  ;Bizkaia;23;43,133718;-2,784141\n",
      "\n",
      "31 2022/9/2;San Antolín;San Antolin;Artzentales  ;Artzentales  ;Bizkaia;8;43,240556;-3,241389\n",
      "\n",
      "32 2022/6/29;San Pedro  ;San Pedro Eguna;Atxondo  ;Atxondo  ;Bizkaia;91;43,130342;-2,585079\n",
      "\n",
      "33 2022/6/24;San Juan  ;San Juan eguna;Aulesti  ;Aulesti  ;Bizkaia;70;43,296084;-2,563355\n",
      "\n",
      "34 2022/8/29;San Juan Degollado;Joan Doloz Eguna;Bakio  ;Bakio  ;Bizkaia;12;43,427778;-2,811389\n",
      "\n",
      "35 2022/1/24;Fundación de la Villa;Fundación de la Villa;Balmaseda  ;Balmaseda  ;Bizkaia;90;43,192866;-3,196942\n",
      "\n",
      "36 2022/7/16;Nuestra Señora del Carmen;Karmengo Andra Mari;Barakaldo  ;Barakaldo  ;Bizkaia;13;43,297222;-2,991667\n",
      "\n",
      "37 2022/6/24;San Juan;San Juan;Barrika  ;Barrika  ;Bizkaia;14;43,406384;-2,962425\n",
      "\n",
      "38 2022/10/13;San Fuasto;San Fausto;Basauri  ;Basauri  ;Bizkaia;15;43,233333;-2,883333\n",
      "\n",
      "39 2022/6/24;San Juan Bautista;San Juan Bautista;Bedia  ;Bedia  ;Bizkaia;92;43,209374;-2,804965\n",
      "\n",
      "40 2022/8/4;Santo Domingo de Guzmán;Santo Domingo de Guzman eguna;Berango;Berango;Bizkaia;16;43,365899;-2,996356\n",
      "\n",
      "41 2022/9/8;Andra Mari;Andra Mari Eguna;Bermeo  ;Bermeo  ;Bizkaia;17;43,420422;-2,722158\n",
      "\n",
      "42 2022/5/29;Fiesta local;Tokiko jai-eguna;Berriatua  ;Berriatua  ;Bizkaia;18;43,316667;-2,466667\n",
      "\n",
      "43 2022/6/29;San Pedro;San Pedro;Berriz  ;Berriz  ;Bizkaia;19;43,193923;-2,589165\n",
      "\n",
      "44 2022/8/26;Viernes de la Semana Grande;Aste Nagusiko Ostirala;Bilbao  ;Bilbao  ;Bizkaia;20;43,256963;-2,923441\n",
      "\n",
      "45 2022/6/9;Fiesta local;Tokiko jai-eguna;Busturia  ;Busturia  ;Bizkaia;21;43,383000;-2,697000\n",
      "\n",
      "46 2022/5/16;San Isidro Labrador;San Isidro Nekazari Deuna ;Derio  ;Derio  ;Bizkaia;901;43,302000;-2,881833\n",
      "\n",
      "47 2022/6/29;San Pedro;San Pedro eguna;Dima  ;Dima  ;Bizkaia;26;43,143389;-2,751464\n",
      "\n",
      "48 2022/10/13;San Fausto;San Fausto eguna;Durango;Durango;Bizkaia;27;43,169068;-2,632655\n",
      "\n",
      "49 2022/6/24;San Juan;San Juan eguna;Ea  ;Ea  ;Bizkaia;28;43,380135;-2,585593\n",
      "\n",
      "50 2022/6/29;San Pedro;San Pedro;Elantxobe  ;Elantxobe  ;Bizkaia;31;43,403422;-2,639800\n",
      "\n",
      "51 2022/9/5;Fiesta local;Tokiko jai-eguna;Elorrio  ;Elorrio  ;Bizkaia;32;43,130387;-2,542155\n",
      "\n",
      "52 2022/6/16;Corpus Christi;Gorpuzti;Erandio  ;Erandio  ;Bizkaia;902;43,307458;-2,946418\n",
      "\n",
      "53 2022/9/29;San Miguel Arcángel;San Miguel Arcángel;Ereño  ;Ereño  ;Bizkaia;33;43,356944;-2,621667\n",
      "\n",
      "54 2022/7/27;Día de Zezen;Zezen eguna;Ermua  ;Ermua  ;Bizkaia;34;43,186642;-2,502607\n",
      "\n",
      "55 2022/6/24;San Juan;San Juan;Errigoiti;Errigoiti;Bizkaia;79;43,318709;-2,725344\n",
      "\n",
      "56 2022/12/26;San Esteban;San Esteban;Etxebarri  ;Etxebarri  ;Bizkaia;29;43,247179;-2,890139\n",
      "\n",
      "57 2022/11/30;San Andrés;San Andres eguna;Etxebarria  ;Etxebarria  ;Bizkaia;30;43,254146;-2,477354\n",
      "\n",
      "58 2022/11/11;San Martin ;San Martin;Forua  ;Forua  ;Bizkaia;906;43,333712;-2,678589\n",
      "\n",
      "59 2022/8/10;San Lorenzo;San Lorenzo;Fruiz  ;Fruiz  ;Bizkaia;35;43,328889;-2,783333\n",
      "\n",
      "60 2022/9/14;Exaltación de la Santa Cruz;Gurutze Santuaren gorespena;Galdakao  ;Galdakao  ;Bizkaia;36;43,230556;-2,845833\n",
      "\n",
      "61 2022/6/29;San Pedro Apóstol  ;San Pedro Apostol;Galdames  ;Galdames  ;Bizkaia;37;43,255000;-3,096389\n",
      "\n",
      "62 2022/11/11;San Martín;San Martín;Gamiz-Fika  ;Gamiz-Fika  ;Bizkaia;38;43,311728;-2,810701\n",
      "\n",
      "63 2022/7/26;Santa Ana;Santa Ana;Garai  ;Garai  ;Bizkaia;39;43,194722;-2,609722\n",
      "\n",
      "64 2022/4/25;San Marcos;Markos Deuna;Gatika  ;Gatika  ;Bizkaia;40;43,363889;-2,871944\n",
      "\n",
      "65 2022/1/26;San Policarpio;San Policarpio eguna;Gautegiz Arteaga;Gautegiz Arteaga;Bizkaia;41;43,353104;-2,650985\n",
      "\n",
      "66 2022/8/16;San Roque;San Roke;Gernika-Lumo  ;Gernika-Lumo  ;Bizkaia;46;43,317073;-2,678975\n",
      "\n",
      "67 2022/8/10;San Lorenzo;San Lorenzo eguna ;Getxo  ;Getxo  ;Bizkaia;44;43,344167;-3,006389\n",
      "\n",
      "68 2022/9/8;Andra Mari;Andra Mari Eguna;Gizaburuaga;Gizaburuaga;Bizkaia;47;43,331940;-2,536111\n",
      "\n",
      "69 2022/9/26;San Cosme y San Damián;San Cosme y San Damián;Gordexola  ;Gordexola  ;Bizkaia;42;43,178611;-3,072778\n",
      "\n",
      "70 2022/8/5;Nuestra Señora de Aguirre y de las Nieves;Agirreko Andra Maria eta Elurretakoa;Gorliz  ;Gorliz  ;Bizkaia;43;43,416667;-2,933333\n",
      "\n",
      "71 2022/8/10;San Lorenzo;San Lorenzo;Güeñes  ;Güeñes  ;Bizkaia;45;43,210321;-3,095317\n",
      "\n",
      "72 2022/6/16;Corpus Christi;Corpus Christi;Ibarrangelu;Ibarrangelu;Bizkaia;48;43,390215;-2,633802\n",
      "\n",
      "73 2022/6/13;Fiesta local;Tokiko jai-eguna;Igorre;Igorre;Bizkaia;94;43,165833;-2,776111\n",
      "\n",
      "74 2022/7/26;Santa Ana;Santa Ana;Ispaster;Ispaster;Bizkaia;49;43,362954;-2,544635\n",
      "\n",
      "75 2022/9/29;San Miguel  ;San Miguel;Iurreta  ;Iurreta  ;Bizkaia;910;43,176705;-2,633777\n",
      "\n",
      "76 2022/9/8;Ntra. Sra. De Erdozia;Ntra. Sra. De Erdozia;Izurtza  ;Izurtza  ;Bizkaia;50;43,152273;-2,641978\n",
      "\n",
      "77 2022/9/29;San Miguel  ;San Miguel;Valle de Carranza;Karrantza Harana;Bizkaia;22;43,225278;-3,359444\n",
      "\n",
      "78 2022/7/26;Fiesta local;Tokiko jai-eguna;Kortezubi  ;Kortezubi  ;Bizkaia;907;43,335982;-2,654319\n",
      "\n",
      "79 2022/8/5;La Virgen de las Nieves;La Virgen de las Nieves;Lanestosa;Lanestosa;Bizkaia;51;43,221169;-3,439148\n",
      "\n",
      "80 2022/9/29;San Miguel;San Miguel;Larrabetzu;Larrabetzu;Bizkaia;52;43,260973;-2,796175\n",
      "\n",
      "81 2022/9/29;San Miguel;San Miguel;Laukiz;Laukiz;Bizkaia;53;43,353333;-2,906111\n",
      "\n",
      "82 2022/6/24;San Juan;San Juan eguna;Leioa ;Leioa ;Bizkaia;54;43,326097;-2,987704\n",
      "\n",
      "83 2022/9/2;San Antolín  ;San Antolin eguna;Lekeitio;Lekeitio;Bizkaia;57;43,365509;-2,503344\n",
      "\n",
      "84 2022/9/8;Andra Mari;Andra Mari;Lemoa;Lemoa;Bizkaia;55;43,208759;-2,774116\n",
      "\n",
      "85 2022/10/17;Fiesta Local;Tokiko jai-eguna;Lemoiz;Lemoiz;Bizkaia;56;43,413244;-2,902253\n",
      "\n",
      "86 2022/9/8;Andra Mari;Andra Mari eguna;Lezama;Lezama;Bizkaia;81;43,272167;-2,832167\n",
      "\n",
      "87 2022/6/29;Fiesta local;Tokiko jai-eguna;Loiu;Loiu;Bizkaia;903;43,315000;-2,938333\n",
      "\n",
      "88 2022/3/2;Miércoles de Ceniza;Hautsezko asteazkena;Mallabia;Mallabia;Bizkaia;58;43,189651;-2,529969\n",
      "\n",
      "89 2022/10/21;Santa Ursula;Santa Ursula;Mañaria;Mañaria;Bizkaia;59;43,137485;-2,661135\n",
      "\n",
      "90 2022/7/16;Fiesta local;Tokiko jai-eguna;Markina-Xemein;Markina-Xemein;Bizkaia;60;43,270604;-2,497155\n",
      "\n",
      "91 2022/8/10;San Lorenzo;Lorentzo Deuna;Maruri-Jatabe;Maruri-Jatabe;Bizkaia;61;43,382772;-2,874989\n",
      "\n",
      "92 2022/9/29;San Miguel;San Miguel;Mendata;Mendata;Bizkaia;62;43,283333;-2,633333\n",
      "\n",
      "93 2022/8/1;San Pedro Advincula;San Pedro Advincula;Mendexa;Mendexa;Bizkaia;63;43,346389;-2,483333\n",
      "\n",
      "94 2022/8/16;San Roque;Roke Deuna;Meñaka;Meñaka;Bizkaia;64;43,364464;-2,801795\n",
      "\n",
      "95 2022/7/26;Santa Ana;Santa Ana;Morga;Morga;Bizkaia;66;43,297932;-2,752739\n",
      "\n",
      "96 2022/6/29;San Pedro y San Pablo;San Pedro eta San Paulo jai eguna;Mundaka;Mundaka;Bizkaia;68;43,407335;-2,698322\n",
      "\n",
      "97 2022/6/29;Fiesta local;Tokiko jai-eguna;Mungia;Mungia;Bizkaia;69;43,354410;-2,846714\n",
      "\n",
      "98 2022/6/29;San Pedro;San Pedro Eguna;Munitibar-Arbatzegi Gerrikaitz;Munitibar-Arbatzegi Gerrikaitz;Bizkaia;7;43,265332;-2,591845\n",
      "\n",
      "99 2022/9/8;Fiesta local;Tokiko jai-eguna;Murueta;Murueta;Bizkaia;908;43,354463;-2,684153\n",
      "\n",
      "100 2022/6/24;San Juan;San Juan;Muskiz;Muskiz;Bizkaia;71;43,323333;-3,121667\n",
      "\n",
      "101 2022/10/31;Último lunes de octubre de Gernika;Gernikako urriko azken astelehena;Muxika;Muxika;Bizkaia;67;43,289668;-2,692941\n",
      "\n",
      "102 2022/9/8;Andra Mari;Andra Mari eguna;Nabarniz;Nabarniz;Bizkaia;909;43,321597;-2,584400\n",
      "\n",
      "103 2022/8/17;Día del pescador;Arrantzale eguna;Ondarroa;Ondarroa;Bizkaia;73;43,320698;-2,420475\n",
      "\n",
      "104 2022/9/2;San Antolin;San Antolin;Orozko;Orozko;Bizkaia;75;43,108611;-2,911111\n",
      "\n",
      "105 2022/5/18;San Félix de Cantalicio;Kantaliziozko Felix Deuna;Ortuella;Ortuella;Bizkaia;83;43,311370;-3,055952\n",
      "\n",
      "106 2022/7/18;Santa Marina;Santa Marina;Otxandio  ;Otxandio  ;Bizkaia;72;43,040447;-2,654584\n",
      "\n",
      "107 2022/7/22;La Magdalena;La Magdalena;Plentzia  ;Plentzia  ;Bizkaia;77;43,404430;-2,950102\n",
      "\n",
      "108 2022/8/16;San Roque;San Roque;Portugalete  ;Portugalete  ;Bizkaia;78;43,320664;-3,020252\n",
      "\n",
      "109 2022/7/16;Virgen del Carmen;Virgen del Carmen;Santurtzi  ;Santurtzi  ;Bizkaia;82;43,328711;-3,031772\n",
      "\n",
      "110 2022/6/29;San Pedro Apóstol;San Pedro apostoluaren eguna;Sestao  ;Sestao  ;Bizkaia;84;43,309635;-3,006940\n",
      "\n",
      "111 2022/6/24;Fiesta local;Tokiko jaieguna;Sondika  ;Sondika  ;Bizkaia;904;43,300063;-2,927103\n",
      "\n",
      "112 2022/6/29;San Pedro;San Pedro;Sopelana  ;Sopelana  ;Bizkaia;85;43,378918;-2,983002\n",
      "\n",
      "113 2022/7/26;Santa Ana;Santa Ana;Sopuerta  ;Sopuerta  ;Bizkaia;86;43,262778;-3,152500\n",
      "\n",
      "114 2022/11/30;San Andrés  ;San Andres  ;Sukarrieta  ;Sukarrieta  ;Bizkaia;76;43,395342;-2,696367\n",
      "\n",
      "115 2022/6/29;San Pedro;San Pedro;Trucios-Turtzioz  ;Trucios-Turtzioz  ;Bizkaia;87;43,272678;-3,288545\n",
      "\n",
      "116 2022/6/24;San Juan;San Juan eguna;Ubide  ;Ubide  ;Bizkaia;88;43,026832;-2,688209\n",
      "\n",
      "117 2022/9/8;Nuestra Señora de la Virgen de Udiarraga  ;Nuestra Señora de la Virgen de Udiarraga  ;Ugao-Miraballes  ;Ugao-Miraballes  ;Bizkaia;65;43,179989;-2,902508\n",
      "\n",
      "118 2022/9/8;Andramari;Andramari;Urduliz  ;Urduliz  ;Bizkaia;89;43,379667;-2,962000\n",
      "\n",
      "119 2022/5/9;Otxomaio  ;Otxomaio  ;Urduña-Orduña  ;Urduña-Orduña  ;Bizkaia;74;42,994449;-3,009622\n",
      "\n",
      "120 2022/8/8;Transfiguración del Señor;Transfiguración del Señor;Valle de Trápaga-Trapagaran  ;Valle de Trápaga-Trapagaran  ;Bizkaia;80;43,303108;-3,035548\n",
      "\n",
      "121 2022/7/8;Fiesta local;Tokiko jaieguna;Zaldibar  ;Zaldibar  ;Bizkaia;95;43,170970;-2,547130\n",
      "\n",
      "122 2022/10/3;Día de Gangas;Gangas eguna;Zalla  ;Zalla  ;Bizkaia;96;43,214009;-3,135223\n",
      "\n",
      "123 2022/11/11;San Martín;San Martin eguna;Zamudio  ;Zamudio  ;Bizkaia;905;43,283333;-2,866667\n",
      "\n",
      "124 2022/8/10;San Lorenzo  ;San Lorenzo eguna ;Zaratamo  ;Zaratamo  ;Bizkaia;97;43,211505;-2,873626\n",
      "\n",
      "125 2022/8/16;San Roque;San Roke eguna;Zeanuri  ;Zeanuri  ;Bizkaia;24;43,099664;-2,749615\n",
      "\n",
      "126 2022/9/2;San Antolín  ;San Antolin eguna;Zeberio  ;Zeberio  ;Bizkaia;25;43,152778;-2,852778\n",
      "\n",
      "127 2022/10/17;Día de la Independencia de Zierbena  ;Zierbenako Independentziaren Eguna  ;Zierbena  ;Zierbena  ;Bizkaia;913;43,347655;-3,086152\n",
      "\n",
      "128 2022/6/24;San Juan;San Juan;Ziortza-Bolibar  ;Ziortza-Bolibar  ;Bizkaia;915;43,249820;-2,550174\n",
      "\n",
      "129 2022/6/24;San Juan;San Juan;Abaltzisketa  ;Abaltzisketa  ;Gipuzkoa;1;43,047582;-2,105388\n",
      "\n",
      "130 2022/8/16;Fiesta local;Tokiko jai-eguna;Aduna  ;Aduna  ;Gipuzkoa;2;43,203792;-2,050079\n",
      "\n",
      "131 2022/8/10;San Lorenzo;San Lorenzo;Aia  ;Aia  ;Gipuzkoa;16;43,236922;-2,149008\n",
      "\n",
      "132 2022/9/29;San Miguel Arcángel;Mikel Goi Angerua;Aizarnazabal  ;Aizarnazabal  ;Gipuzkoa;3;43,255405;-2,236461\n",
      "\n",
      "133 2022/8/16;Fiesta local;Tokiko jaieguna;Albiztur  ;Albiztur  ;Gipuzkoa;4;43,129723;-2,137180\n",
      "\n",
      "134 2022/7/16;Fiesta local;Tokiko jaieguna;Alegia  ;Alegia  ;Gipuzkoa;5;43,100017;-2,096273\n",
      "\n",
      "135 2022/9/8;Natividad de la Virgen;Amabirjinaren jaiotze eguna;Alkiza  ;Alkiza  ;Gipuzkoa;6;43,172434;-2,109436\n",
      "\n",
      "136 2022/9/29;San Miguel Arcángel;Mikel Goi Angerua;Altzaga  ;Altzaga  ;Gipuzkoa;906;43,064490;-2,153833\n",
      "\n",
      "137 2022/2/28;Lunes de Carnaval  ;Iñauterietako Astelehena;Altzo  ;Altzo  ;Gipuzkoa;7;43,100072;-2,083905\n",
      "\n",
      "138 2022/8/24;San Bartolomé;Bartolome Deuna;Amezketa  ;Amezketa  ;Gipuzkoa;8;43,044517;-2,083235\n",
      "\n",
      "139 2022/6/24;San Juan;San Juan;Andoain  ;Andoain  ;Gipuzkoa;9;43,220480;-2,021122\n",
      "\n",
      "140 2022/6/16;Corpus Christi  ;Gorpuzti-eguna;Anoeta  ;Anoeta  ;Gipuzkoa;10;43,161467;-2,070695\n",
      "\n",
      "141 2022/7/15;Fiesta local;Tokiko jai-eguna;Antzuola  ;Antzuola  ;Gipuzkoa;11;43,099441;-2,381747\n",
      "\n",
      "142 2022/11/11;San Martín  ;Martin Deuna;Arama  ;Arama  ;Gipuzkoa;12;43,063637;-2,165558\n",
      "\n",
      "143 2022/8/16;Fiesta local;Tokiko jai-eguna;Aretxabaleta  ;Aretxabaleta  ;Gipuzkoa;13;43,036248;-2,504542\n",
      "\n",
      "144 2022/6/24;San Juan Bautista;San Juan Bataiatzailea;Arrasate-Mondragon  ;Arrasate-Mondragon  ;Gipuzkoa;55;43,066517;-2,487562\n",
      "\n",
      "145 2022/6/29;San Pedro  ;San Pedro;Asteasu  ;Asteasu  ;Gipuzkoa;14;43,195198;-2,097548\n",
      "\n",
      "146 2022/7/26;Fiesta local;Tokiko jai-eguna;Astigarraga  ;Astigarraga  ;Gipuzkoa;903;43,280652;-1,947560\n",
      "\n",
      "147 2022/11/11;San Martín;San Martin;Ataun  ;Ataun ;Gipuzkoa;15;43,005480;-2,176620\n",
      "\n",
      "148 2022/11/30;San Andrés  ;San Andres;Azkoitia  ;Azkoitia  ;Gipuzkoa;17;43,178205;-2,311640\n",
      "\n",
      "149 2022/1/20;San Sebastián;San Sebastian;Azpeitia  ;Azpeitia  ;Gipuzkoa;18;43,183900;-2,265466\n",
      "\n",
      "150 2022/8/16;Fiesta local;Tokiko jai-eguna;Baliarrain  ;Baliarrain  ;Gipuzkoa;904;43,069306;-2,129235\n",
      "\n",
      "151 2022/5/30;Fiesta local;Tokiko jai-eguna;Beasain  ;Beasain  ;Gipuzkoa;19;43,047076;-2,204605\n",
      "\n",
      "152 2022/6/29;Fiesta local;Tokiko jai-eguna;Beizama  ;Beizama  ;Gipuzkoa;20;43,134191;-2,200113\n",
      "\n",
      "153 2022/6/24;San Juan;San Juan;Belaunza  ;Belauntza  ;Gipuzkoa;21;43,135283;-2,050705\n",
      "\n",
      "154 2022/8/10;San Lorenzo  ;San Lorentzo;Berastegi  ;Berastegi  ;Gipuzkoa;22;43,124029;-1,979426\n",
      "\n",
      "155 2022/9/16;San Martín Agirre;San Martin Agirre;Bergara  ;Bergara  ;Gipuzkoa;74;43,118217;-2,413358\n",
      "\n",
      "156 2022/11/30;San Andrés;San Andres;Berrobi  ;Berrobi  ;Gipuzkoa;23;43,145479;-2,026374\n",
      "\n",
      "157 2022/8/16;Día siguiente a la Virgen;Andra Mariren biharmunea;Bidania  - Goiatz  ;Bidania  - Goiatz  ;Gipuzkoa;24;43,142086;-2,167475\n",
      "\n",
      "158 2022/8/24;San Bartolomé;Bartolome Deuna;Bidania - Bidania  ;Bidania - Bidania  ;Gipuzkoa;24;43,139399;-2,159979\n",
      "\n",
      "159 2022/8/16;San Roque;San Roke;Deba  ;Deba  ;Gipuzkoa;29;43,295562;-2,353894\n",
      "\n",
      "160 2022/1/20;San Sebastián  ;San Sebastian;Donostia-San Sebastian  ;Donostia-San Sebastian  ;Gipuzkoa;69;43,321874;-1,985520\n",
      "\n",
      "161 2022/6/24;San Juan;San Juan;Eibar  ;Eibar  ;Gipuzkoa;30;43,184180;-2,473289\n",
      "\n",
      "162 2022/9/8;Natividad de la Virgen;Amabirjinaren jaiotze eguna;Elduaien  ;Elduain  ;Gipuzkoa;31;43,140712;-2,000488\n",
      "\n",
      "163 2022/7/1;Fiesta local;Tokiko jai-eguna;Elgeta  ;Elgeta  ;Gipuzkoa;33;43,136572;-2,487392\n",
      "\n",
      "164 2022/1/17;San Antón;San Anton;Elgoibar  ;Elgoibar  ;Gipuzkoa;32;43,215187;-2,415702\n",
      "\n",
      "165 2022/7/22;María Magdalena  ;Madalena eguna;Errenteria  ;Errenteria  ;Gipuzkoa;67;43,312752;-1,899633\n",
      "\n",
      "166 2022/11/11;Fiesta local;Tokiko jaieguna;Errezil  ;Errezil  ;Gipuzkoa;66;43,164674;-2,173594\n",
      "\n",
      "167 2022/6/29;San Pedro;San Pedro;Eskoriatza  ;Eskoriatza  ;Gipuzkoa;34;43,017074;-2,526980\n",
      "\n",
      "168 2022/5/9;Aparicio de San Miguel;Mikel Deuna;Ezkio-Itsaso - Ezkio  ;Ezkio-Itsaso - Ezkio  ;Gipuzkoa;35;43,080484;-2,275421\n",
      "\n",
      "169 2022/6/29;San Pedro;Pedro Deuna;Ezkio-Itsaso - Sta. Lutzi-Anduaga;Ezkio-Itsaso - Sta. Lutzi-Anduaga;Gipuzkoa;35;43,064321;-2,274735\n",
      "\n",
      "170 2022/8/16;San Roque  ;San Roke;Gabiria  ;Gabiria  ;Gipuzkoa;38;43,049689;-2,279856\n",
      "\n",
      "171 2022/9/29;San Miguel  ;San Migel;Gaintza  ;Gaintza  ;Gipuzkoa;37;43,052629;-2,132370\n",
      "\n",
      "172 2022/8/16;Fiesta local;Tokiko jaieguna;Gaztelu  ;Gaztelu  ;Gipuzkoa;907;43,116579;-2,022278\n",
      "\n",
      "173 2022/8/6;San Salvador  ;Salbatore Deuna;Getaria  ;Getaria  ;Gipuzkoa;39;43,303261;-2,204363\n",
      "\n",
      "174 2022/6/24;San Juan Bautista;San Joan Bataiatzailea;Hernani  ;Hernani  ;Gipuzkoa;40;43,267549;-1,975814\n",
      "\n",
      "175 2022/8/16;Fiesta local;Tokiko jai-eguna;Hernialde  ;Hernialde  ;Gipuzkoa;41;43,154467;-2,085025\n",
      "\n",
      "176 2022/9/8;Ntra. Sra. De Guadalupe;Guadalupeko Ama;Hondarribia  ;Hondarribia  ;Gipuzkoa;36;43,362531;-1,791498\n",
      "\n",
      "177 2022/8/24;San Bartolomé  ;San Bartolome;Ibarra  ;Ibarra  ;Gipuzkoa;42;43,132345;-2,065462\n",
      "\n",
      "178 2022/2/3;Fiesta local;Tokiko jai-eguna;Idiazabal  ;Idiazabal  ;Gipuzkoa;43;43,011782;-2,234214\n",
      "\n",
      "179 2022/8/10;San Lorenzo;San Lorentzo;Ikaztegieta  ;Ikaztegieta  ;Gipuzkoa;44;43,094960;-2,123900\n",
      "\n",
      "180 2022/6/30;San Marcial;San Marcial;Irun  ;Irun  ;Gipuzkoa;45;43,338233;-1,789272\n",
      "\n",
      "181 2022/9/29;San Miguel ;San Migel;Irura  ;Irura  ;Gipuzkoa;46;43,165688;-2,069616\n",
      "\n",
      "182 2022/7/22;María Magdalena;Madalena Donea;Itsaso - Barrio Itxaso-Alegia ;Itsaso - Itxaso-Alegia auzoa ;Gipuzkoa;35;43,058055;-2,268215\n",
      "\n",
      "183 2022/8/24;San Bartolomé;Bartolome Deuna;Itsaso - Casco;Itsaso - hirigunea;Gipuzkoa;35;43,072544;-2,257418\n",
      "\n",
      "184 2022/9/8;Día de la Virgen de Kizkitza;Kizkitzako Ama Birjinaren eguna;Itsaso - Mendialdea;Itsaso - Mendialdea Zozkera;Gipuzkoa;35;43,072544;-2,257418\n",
      "\n",
      "185 2022/9/23;Fiesta local;Tokiko jai-eguna;Itsasondo  ;Itsasondo  ;Gipuzkoa;47;43,066932;-2,167393\n",
      "\n",
      "186 2022/8/3;Fiesta local;Tokiko jai-eguna;Larraul  ;Larraul  ;Gipuzkoa;48;43,187739;-2,102534\n",
      "\n",
      "187 2022/6/29;San Pedro ;San Pedro ;Lasarte-Oria  ;Lasarte-Oria;Gipuzkoa;902;43,267455;-2,020179\n",
      "\n",
      "188 2022/4/28;San Prudencio  ;San Prudentzio;Lazkao  ;Lazkao  ;Gipuzkoa;49;43,034324;-2,187379\n",
      "\n",
      "189 2022/6/29;San Pedro ;San Pedro;Leaburu  ;Leaburu  ;Gipuzkoa;50;43,124984;-2,052106\n",
      "\n",
      "190 2022/5/3;Santa Cruz;Santikutz eguna;Legazpi  ;Legazpi  ;Gipuzkoa;51;43,054361;-2,333641\n",
      "\n",
      "191 2022/5/26;La Ascensión;Azintzio eguna;Legorreta  ;Legorreta  ;Gipuzkoa;52;43,085794;-2,150909\n",
      "\n",
      "192 2022/9/8;Festividad de la Virgen;Amabirjinaren eguna;Leintz-Gatzaga  ;Leintz-Gatzaga  ;Gipuzkoa;68;42,987112;-2,568626\n",
      "\n",
      "193 2022/9/14;Exaltación de la Santa Cruz  ;Gurutze Santuaren gorespena;Lezo  ;Lezo  ;Gipuzkoa;53;43,321127;-1,898775\n",
      "\n",
      "194 2022/9/8;Fiesta local;Tokiko jaieguna;Lizartza  ;Lizartza  ;Gipuzkoa;54;43,103720;-2,034254\n",
      "\n",
      "195 2022/7/26;Santa Ana;Santa Ana;Mendaro  ;Mendaro  ;Gipuzkoa;901;43,264167;-2,375500\n",
      "\n",
      "196 2022/6/29;San Pedro  ;San Pedro;Mutiloa  ;Mutiloa  ;Gipuzkoa;57;43,022380;-2,272826\n",
      "\n",
      "197 2022/7/22;María Magdalena;Madalen eguna;Mutriku  ;Mutriku  ;Gipuzkoa;56;43,307069;-2,385083\n",
      "\n",
      "198 2022/8/3;San Esteban  ;Don Eztebe;Oiartzun  ;Oiartzun  ;Gipuzkoa;63;43,299282;-1,857874\n",
      "\n",
      "199 2022/6/24;San Juan;San Joan;Olaberria  ;Olaberria  ;Gipuzkoa;58;43,027075;-2,203089\n",
      "\n",
      "200 2022/9/29;San Miguel;San Migel;Oñati  ;Oñati  ;Gipuzkoa;59;43,032888;-2,411348\n",
      "\n",
      "201 2022/7/26;Santa Ana;Santa Ana;Ordizia  ;Ordizia  ;Gipuzkoa;76;43,054198;-2,178115\n",
      "\n",
      "202 2022/1/20;San Sebastián;San Sebastian;Orendain  ;Orendain  ;Gipuzkoa;905;43,079721;-2,114290\n",
      "\n",
      "203 2022/5/3;Fiesta local;Tokiko jaieguna;Orexa  ;Orexa  ;Gipuzkoa;60;43,093881;-2,011392\n",
      "\n",
      "204 2022/6/29;San Pedro  ;San Pedro;Orio  ;Orio  ;Gipuzkoa;61;43,278323;-2,126597\n",
      "\n",
      "205 2022/11/30;San Andrés  ;San Andres;Ormaiztegi  ;Ormaiztegi  ;Gipuzkoa;62;43,042735;-2,255848\n",
      "\n",
      "206 2022/7/7;San Fermín;San Fermin;Pasaia - Antxo  ;Pasaia - Antxo  ;Gipuzkoa;64;43,317534;-1,917562\n",
      "\n",
      "207 2022/6/24;San Juan;San Juan;Pasaia - Donibane  ;Pasaia - Donibane  ;Gipuzkoa;64;43,327481;-1,919883\n",
      "\n",
      "208 2022/6/29;San Pedro  ;San Pedro;Pasaia - San Pedro  ;Pasaia - San Pedro  ;Gipuzkoa;64;43,323348;-1,930432\n",
      "\n",
      "209 2022/7/16;Virgen del Carmen  ;Karmengo Ama;Pasaia - Trintxerpe  ;Pasaia - Trintxerpe  ;Gipuzkoa;64;43,326138;-1,931587\n",
      "\n",
      "210 2022/6/24;SanJuan;San Joan;Segura  ;Segura  ;Gipuzkoa;70;43,009216;-2,252519\n",
      "\n",
      "211 2022/7/26;Santa Ana  ;Santa Ana  ;Soraluze - P. De Las Armas;Soraluze - P. De Las Armas;Gipuzkoa;65;43,175430;-2,412494\n",
      "\n",
      "212 2022/6/24;Fiesta local;Tokiko jaieguna;Tolosa  ;Tolosa  ;Gipuzkoa;71;43,136978;-2,073914\n",
      "\n",
      "213 2022/9/29;San Miguel  ;San Migel;Urnieta  ;Urnieta  ;Gipuzkoa;72;43,248200;-1,990517\n",
      "\n",
      "214 2022/9/19;Santa Anastasia  ;Santa Anastasia;Urretxu  ;Urretxu  ;Gipuzkoa;77;43,092282;-2,314383\n",
      "\n",
      "215 2022/7/2;Santa Isabel;Santixabel;Usurbil  ;Usurbil  ;Gipuzkoa;73;43,271382;-2,049934\n",
      "\n",
      "216 2022/7/26;Santa Ana;Santa Ana;Villabona  ;Billabona  ;Gipuzkoa;75;43,189944;-2,052453\n",
      "\n",
      "217 2022/10/6;Santa Fe  ;Santa Fe;Zaldibia  ;Zaldibia  ;Gipuzkoa;78;43,037964;-2,150894\n",
      "\n",
      "218 2022/6/27;San Pelayo  ;San Pelaio;Zarautz  ;Zarautz  ;Gipuzkoa;79;43,280364;-2,171588\n",
      "\n",
      "219 2022/6/6;Lunes de Pentecostés  ;Mendekoste astelehena;Zegama  ;Zegama  ;Gipuzkoa;25;42,975677;-2,290072\n",
      "\n",
      "220 2022/8/16;San Roque;San Roke;Zerain  ;Zerain  ;Gipuzkoa;26;43,012119;-2,274118\n",
      "\n",
      "221 2022/9/8;Festividad de la Virgen;Ama Birjinaren eguna;Zestoa  ;Zestoa  ;Gipuzkoa;27;43,239442;-2,258113\n",
      "\n",
      "222 2022/9/8;Fiesta local;Tokiko jai-eguna;Zizurkil  ;Zizurkil  ;Gipuzkoa;28;43,199523;-2,074073\n",
      "\n",
      "223 2022/6/29;San Pedro  ;San Pedro;Zumaia  ;Zumaia  ;Gipuzkoa;81;43,297258;-2,256848\n",
      "\n",
      "224 2022/7/2;Santa Isabel  ;Santa Isabel;Zumarraga  ;Zumarraga  ;Gipuzkoa;80;43,090476;-2,313220\n",
      "\n",
      "225 2022/2/3;San Blas;San Joan Bataiatzailea;Alegría-Dulantzi;Alegria-Dulantzi;Álava - Araba;2;42,841035;-2,512684\n",
      "\n",
      "226 2022/8/16;Fiesta local;Tokiko jai-eguna;Amurrio;Amurrio;Álava - Araba;1;43,057875;-2,998775\n",
      "\n",
      "227 2022/7/11;San Cristóbal;Done Kristobal;Añana  ;Añana  ;Álava - Araba;49;42,802352;-2,982607\n",
      "\n",
      "228 2022/7/4;Fiesta local;Tokiko jaieguna;Aramaio  ;Aramaio  ;Álava - Araba;3;43,054000;-2,566000\n",
      "\n",
      "229 2022/11/30;San Andrés Apóstol;San Andrés Apostolua;Armiñón  ;Armiñón  ;Álava - Araba;6;42,723045;-2,872574\n",
      "\n",
      "230 2022/6/20;San Adrián;San Adrian;Arraia-Maeztu  ;Arraia-Maeztu  ;Álava - Araba;37;42,739815;-2,445980\n",
      "\n",
      "231 2022/12/26;San Esteban;San Esteban;Arrazua-Ubarrundia  ;Arrazua-Ubarrundia  ;Álava - Araba;8;42,890278;-2,639167\n",
      "\n",
      "232 2022/9/8;Virgen de la Encina;Arteako Andra Maria;Artziniega  ;Artziniega  ;Álava - Araba;4;43,122201;-3,128209\n",
      "\n",
      "233 2022/6/29;San Pedro Apóstol;Done Petri;Asparrena  ;Asparrena  ;Álava - Araba;9;42,895667;-2,321000\n",
      "\n",
      "234 2022/7/26;Santiago;Done Jakue;Ayala - Agiñaga;Aiara - Agiñaga;Álava - Araba;10;43,035080;-3,071144\n",
      "\n",
      "235 2022/5/21;San Ramiro;Done Ramiro;Ayala - Añes  ;Aiara - Añes  ;Álava - Araba;10;43,058414;-3,132924\n",
      "\n",
      "236 2022/9/29;San Miguel;Done Mikel;Ayala - Beotegi  ;Aiara - Beotegi  ;Álava - Araba;10;43,088660;-3,075259\n",
      "\n",
      "237 2022/9/29;San Miguel;Done Mikel;Ayala - Costera  ;Aiara - Opellora;Álava - Araba;10;43,102599;-3,103772\n",
      "\n",
      "238 2022/5/3;La Cruz;Gurutzea;Ayala - Erbi  ;Aiara - Erbi  ;Álava - Araba;10;43,074143;-3,111819\n",
      "\n",
      "239 2022/5/9;Ntra. Sra. de la Antigua ;Antiguako Ama ;Ayala - Etxegoien  ;Aiara - Etxegoien  ;Álava - Araba;10;43,043726;-3,021070\n",
      "\n",
      "240 2022/1/7;San Julián;Done Julian;Ayala - Izoria  ;Aiara - Izoria  ;Álava - Araba;10;43,061416;-3,036324\n",
      "\n",
      "241 2022/12/9;La Inmaculada;Sortzez Garbiaren Eguna;Ayala - Lejarzo  ;Aiara - Lexartzu;Álava - Araba;10;43,060158;-3,122923\n",
      "\n",
      "242 2022/8/16;La Asunción;Jasokundearen Eguna;Ayala - Lujo  ;Aiara - Luxo  ;Álava - Araba;10;43,077952;-3,096407\n",
      "\n",
      "243 2022/7/22;La Magdalena;Magdalena Eguna;Ayala - Luiaondo  ;Aiara - Luiaondo  ;Álava - Araba;10;43,102723;-2,997211\n",
      "\n",
      "244 2022/7/26;Santiago;Done Jakue;Ayala - Llanteno  ;Aiara - Llanteno  ;Álava - Araba;10;43,091803;-3,099984\n",
      "\n",
      "245 2022/11/23;San Clemente;Done Klemente;Ayala - Madaria  ;Aiara - Madaria  ;Álava - Araba;10;43,043890;-3,085953\n",
      "\n",
      "246 2022/1/17;San Antón;Done Anton;Ayala - Maroño  ;Aiara - Maroño  ;Álava - Araba;10;43,055065;-3,059010\n",
      "\n",
      "247 2022/6/29;San Pedro;Done Petri;Ayala - Menagarai  ;Aiara - Menagarai  ;Álava - Araba;10;43,096299;-3,072769\n",
      "\n",
      "248 2022/4/25;San Marcos;Done Marko;Ayala - Menoio  ;Aiara - Menoio  ;Álava - Araba;10;43,069585;-3,072926\n",
      "\n",
      "249 2022/6/24;San Juan;Done Joane;Ayala - Murga  ;Aiara - Murga  ;Álava - Araba;10;43,075372;-3,025590\n",
      "\n",
      "250 2022/1/24;San Babilás;Done Babilas;Ayala - Olabezar  ;Aiara - Olabezar  ;Álava - Araba;10;43,069997;-3,014813\n",
      "\n",
      "251 2022/10/8;Ntra. Sra. del Rosario ;Errosarioko Andra Maria;Ayala - Ozeka  ;Aiara - Ozeka  ;Álava - Araba;10;43,070824;-3,090905\n",
      "\n",
      "252 2022/8/5;Las Nieves;Elurretako Andra Maria;Ayala - Quejana  ;Aiara - Kexaa;Álava - Araba;10;43,081485;-3,063094\n",
      "\n",
      "253 2022/5/16;San Isidro;Done Isidro;Ayala - Respaldiza  ;Aiara - Arespalditza  ;Álava - Araba;10;43,078065;-3,042931\n",
      "\n",
      "254 2022/7/22;La Magdalena;Magdalena Eguna;Ayala - Retes de Llanteno  ;Aiara - Retes de Llanteno  ;Álava - Araba;10;43,091803;-3,099984\n",
      "\n",
      "255 2022/7/18;Santa Marina;Dona Marina;Ayala - Salmantón  ;Aiara - Salmanton  ;Álava - Araba;10;43,052629;-3,088347\n",
      "\n",
      "256 2022/8/30;San Emeterio;Done Meteri;Ayala - Sojo  ;Aiara - Soxo  ;Álava - Araba;10;43,090730;-3,122839\n",
      "\n",
      "257 2022/7/18;Santa Marina ;Dona Marina;Ayala - Zuaza  ;Aiara - Zuhatza  ;Álava - Araba;10;43,099672;-3,049447\n",
      "\n",
      "258 2022/8/24;San Bartolomé;Done Bartolome;Baños de Ebro  ;Mañueta;Álava - Araba;11;42,530290;-2,679144\n",
      "\n",
      "259 2022/6/24;San Juan;Done Joane;Barrundia  ;Barrundia  ;Álava - Araba;13;42,916667;-2,491667\n",
      "\n",
      "260 2022/9/8;Asunción de María;Jasokundearen eguna;Berantevilla  ;Berantevilla  ;Álava - Araba;14;42,682450;-2,860401\n",
      "\n",
      "261 2022/9/8;Fiesta local;Tokiko jaieguna;Bernedo  ;Bernedo  ;Álava - Araba;16;42,626684;-2,497532\n",
      "\n",
      "262 2022/5/16;San Isidro;Done Isidro;Campezo  ;Kanpezu;Álava - Araba;17;42,691944;-2,370000\n",
      "\n",
      "263 2022/9/8;La Virgen;Andra Maria;Kripan  ;Kripan  ;Álava - Araba;19;42,591666;-2,516079\n",
      "\n",
      "264 2022/6/24;Fiesta local;Tokiko jaieguna;Kuartango  ;Kuartango  ;Álava - Araba;20;42,871389;-2,885556\n",
      "\n",
      "265 2022/6/29;San Pedro;San Pedro;Elburgo  ;Burgelu;Álava - Araba;21;42,849564;-2,544762\n",
      "\n",
      "266 2022/9/8;Virgen de la Plaza;Plazako Andra Maria;Elciego  ;Zieko;Álava - Araba;22;42,515073;-2,618277\n",
      "\n",
      "267 2022/8/16;San Roque;San Roke;Elvillar;Bilar;Álava - Araba;23;42,570497;-2,544915\n",
      "\n",
      "268 2022/6/24;Fiesta local;Tokiko jai-eguna;Valle de Arana;Harana;Álava - Araba;;42,752731;-2,312303\n",
      "\n",
      "269 2022/8/16;San Roque;Done Roke;Iruña de Oca - Nanclares de la Oca;Iruña Oka - Langraiz Oka;Álava - Araba;901;42,817197;-2,811518\n",
      "\n",
      "270 2022/6/24;San Juan;Done Joane;Iruraiz-Gauna  ;Iruraiz-Gauna  ;Álava - Araba;27;42,822072;-2,495043\n",
      "\n",
      "271 2022/11/25;2º día de Acción de Gracias  ;2. Esker Oneko Eguna;Labastida  ;Labastida  ;Álava - Araba;28;42,590459;-2,792991\n",
      "\n",
      "272 2022/8/24;Fiesta local;Tokiko jaieguna;Lagrán  ;Lagrán  ;Álava - Araba;30;42,626395;-2,583820\n",
      "\n",
      "273 2022/6/24;San Juan;Done Joane;Laguardia  ;Laguardia  ;Álava - Araba;31;42,554278;-2,584237\n",
      "\n",
      "274 2022/9/8;Virgen del Campo;Amabirjina;Lanciego  ;Lantziego  ;Álava - Araba;32;42,562619;-2,513204\n",
      "\n",
      "275 2022/9/16;Santos Cornelio y Cipriano  ;Done Kornelio eta Done Zipri;Lantarón  ;Lantarón  ;Álava - Araba;902;42,756673;-2,987556\n",
      "\n",
      "276 2022/8/24;San Bartolomé;Done Bartolome;Lapuebla de Labarca  ;Lapuebla de Labarca  ;Álava - Araba;33;42,493969;-2,573024\n",
      "\n",
      "277 2022/9/12;La Cofradias;Kofradiak;Legutio;Legutiano  ;Álava - Araba;58;42,977822;-2,642724\n",
      "\n",
      "278 2022/8/16;San Roque;San Roke;Leza  ;Leza  ;Álava - Araba;34;42,566068;-2,633635\n",
      "\n",
      "279 2022/8/16;San Roque;San Roke;Llodio  ;Laudio;Álava - Araba;36;43,143333;-2,962985\n",
      "\n",
      "280 2022/8/19;Acción de gracias;Esker onak;Moreda de Alava  ;Moreda de Alava  ;Álava - Araba;39;42,528016;-2,407670\n",
      "\n",
      "281 2022/6/2;Fiesta local;Tokiko jaieguna;Navaridas  ;Nabaridas  ;Álava - Araba;41;42,545171;-2,624532\n",
      "\n",
      "282 2022/8/24;San Bartolomé;San Bartolome;Okondo  ;Okondo  ;Álava - Araba;42;43,162222;-3,018889\n",
      "\n",
      "283 2022/1/22;San Vicente y San Anastasio;Bikendi eta Anastasi Santuak;Oyón/Oion  ;Oyón/Oion  ;Álava - Araba;43;42,506137;-2,436965\n",
      "\n",
      "284 2022/5/16;San Isidro Labrador;Done Isidro Nekazaria;Peñacerrada  ;Urizaharra;Álava - Araba;44;42,644095;-2,713374\n",
      "\n",
      "285 2022/5/16;San Isidro Labrador;Done Isidro Nekazaria;Ribera Alta  ;Erribera Goitia;Álava - Araba;46;42,807222;-2,917500\n",
      "\n",
      "286 2022/8/29;Fiesta local;Tokiko jaieguna;Ribera Baja  ;Erribera Beitia;Álava - Araba;47;42,719678;-2,907609\n",
      "\n",
      "287 2022/6/24;San Juan;San Joan;Salvatierra  ;Agurain;Álava - Araba;51;42,852442;-2,389455\n",
      "\n",
      "288 2022/9/8;Nuestra Señora Virgen del Valle;Haranako Andra Maria;Samaniego  ;Samaniego  ;Álava - Araba;52;42,569832;-2,680185\n",
      "\n",
      "289 2022/11/11;San Millán;Done Milian;San Millán;Donemiliaga;Álava - Araba;53;42,874722;-2,376111\n",
      "\n",
      "290 2022/10/3;Fiesta local;Tokiko jaieguna;Urkabustaiz  ;Urkabustaiz  ;Álava - Araba;54;42,971944;-2,922222\n",
      "\n",
      "291 2022/5/16;Fiesta local;Tokiko jaieguna;Valdegovía  ;Valdegovía  ;Álava - Araba;55;42,850000;-3,100000\n",
      "\n",
      "292 2022/11/30;San Andrés;San Andres;Villabuena de Álava  ;Eskuernaga;Álava - Araba;57;42,548717;-2,665456\n",
      "\n",
      "293 2022/8/5;Vírgen Blanca;Andra Mari Zuria;Vitoria-Gasteiz  ;Vitoria-Gasteiz  ;Álava - Araba;59;42,846406;-2,667893\n",
      "\n",
      "294 2022/8/19;Nuestra Señora de Bercijana;Berzijanako Andra Maria;Yécora;Ikeora;Álava - Araba;60;42,569303;-2,470064\n",
      "\n",
      "295 2022/6/11;Fiesta local;Tokiko jaieguna;Zalduondo  ;Zalduondo  ;Álava - Araba;61;42,885626;-2,347254\n",
      "\n",
      "296 2022/8/5;Fiesta local;Tokiko jaieguna;Zambrana  ;Zambrana  ;Álava - Araba;62;42,659981;-2,879353\n",
      "\n",
      "297 2022/8/5;Fiesta local;Tokiko jaieguna;Zigoitia  ;Zigoitia  ;Álava - Araba;18;42,968200;-2,718300\n",
      "\n",
      "298 2022/9/29;San Miguel;San Miguel;Zuia  ;Zuia  ;Álava - Araba;63;42,981667;-2,844000\n",
      "\n"
     ]
    }
   ],
   "source": [
    "archivo = open('./data/calendario_laboral_2022.csv',mode='r', encoding=\"latin-1\")\n",
    "\n",
    "lista = archivo.readlines()\n",
    "\n",
    "numlin = 0 # Iniciar variable contador\n",
    "\n",
    "# Recorremos todos los elementos que hay en la lista\n",
    "for linea in lista:\n",
    "    numlin += 1     # Incrementamos contador\n",
    "    print(numlin, linea)\n",
    "\n",
    "archivo.close()"
   ]
  },
  {
   "cell_type": "code",
   "execution_count": 31,
   "metadata": {},
   "outputs": [],
   "source": [
    "# ¿Cómo podríamos leer únicamente de la línea 25 a la 50?"
   ]
  },
  {
   "cell_type": "markdown",
   "metadata": {},
   "source": [
    "#### With-As ( Cierra archivo y libera memoria )"
   ]
  },
  {
   "cell_type": "code",
   "execution_count": 32,
   "metadata": {
    "scrolled": true,
    "tags": []
   },
   "outputs": [
    {
     "name": "stdout",
     "output_type": "stream",
     "text": [
      "date;descripcionEs;descriptionEu;municipalityEs;MunicipalityEu;territory;municipalitycode;latwgs84;lonwgs84\n",
      "\n",
      "2022/1/1;Año nuevo;Urteberri eguna;CAE;EAE;Todos/denak;;;\n",
      "\n",
      "2022/1/6;Epifanía del Señor;Errege Magoen eguna;CAE;EAE;Todos/denak;;;\n",
      "\n",
      "2022/4/14;Jueves Santo;Ostegun Santua;CAE;EAE;Todos/denak;;;\n",
      "\n",
      "2022/4/15;Viernes Santo;Ostiral Santua;CAE;EAE;Todos/denak;;;\n",
      "\n",
      "2022/4/18;Lunes de Pascua de Resurrección;Pazko Astelehena;CAE;EAE;Todos/denak;;;\n",
      "\n",
      "2022/7/25;Santiago Apóstol;Santiago Apostolua;CAE;EAE;Todos/denak;;;\n",
      "\n",
      "2022/8/15;Asunción de la Virgen;Ama Birjinaren Jasokundea;CAE;EAE;Todos/denak;;;\n",
      "\n",
      "2022/9/6;V Centenario de la Vuelta al Mundo capitaneada por Juan Sebastián Elcano;Juan Sebastian Elkano kapitain zela munduari bira eman izanaren V. Mendeurrena;CAE;EAE;Todos/denak;;;\n",
      "\n",
      "2022/10/12;Fiesta Nacional;Espainiako Jai Nazionala;CAE;EAE;Todos/denak;;;\n",
      "\n",
      "2022/11/1;Todos los Santos;Santu Guztien Eguna;CAE;EAE;Todos/denak;;;\n",
      "\n",
      "2022/12/6;Día de la Constitución;Konstituzio Eguna;CAE;EAE;Todos/denak;;;\n",
      "\n",
      "2022/12/8;Inmaculada Concepción;Andre Maria Sortzez Garbiaren eguna;CAE;EAE;Todos/denak;;;\n",
      "\n",
      "2022/7/4;San Valentín de Berriotxoa;San Balendin Berrio-Otxoa;Bizkaia;Bizkaia;Bizkaia;;;\n",
      "\n",
      "2022/9/9;Nuestra Señora de Aránzazu;Arantzazuko Amaren eguna;Gipuzkoa;Gipuzkoa;Gipuzkoa;;;\n",
      "\n",
      "2022/4/28;San Prudencio  ;San Prudentzio;Álava - Araba;Álava - Araba;Álava - Araba;;;\n",
      "\n",
      "2022/2/3;Fiesta local;Tokiko jai-eguna;Abadiño  ;Abadiño  ;Bizkaia;1;43,150000;-2,610278\n",
      "\n",
      "2022/6/30;Santa Lucía;Santa Luzia;Abanto y Ciérvana - Abanto Zierbena ;Abanto y Ciérvana-Abanto Zierbena ;Bizkaia;2;43,316389;-3,083333\n",
      "\n",
      "2022/5/26;La Ascensión  ;Asentzio Eguna  ;Ajangiz;Ajangiz;Bizkaia;911;43,301000;-2,671000\n",
      "\n",
      "2022/9/2;San Antolín;San Antolín;Alonsotegi;Alonsotegi;Bizkaia;912;43,245186;-2,988701\n",
      "\n",
      "2022/7/16;Ntra. Sra. del Carmen  ;Karmengo Amaren Eguna;Amorebieta-Etxano  ;Amorebieta-Etxano  ;Bizkaia;3;43,226104;-2,712628\n",
      "\n",
      "2022/7/5;San Martín  ;San Martin;Amoroto  ;Amoroto  ;Bizkaia;4;43,328500;-2,512500\n",
      "\n",
      "2022/7/18;Santa Marina;Santa Marina;Arakaldo  ;Arakaldo  ;Bizkaia;5;43,149550;-2,925086\n",
      "\n",
      "2022/6/29;San Pedro;San Pedro;Arantzazu  ;Arantzazu  ;Bizkaia;6;43,152904;-2,790430\n",
      "\n",
      "2022/8/24;San Bartolomé;Bartolome Deuna;Areatza  ;Areatza  ;Bizkaia;93;43,121079;-2,767771\n",
      "\n",
      "2022/6/29;San Pedro;San Pedro eguna;Arrankudiaga;Arrankudiaga;Bizkaia;9;43,173503;-2,917886\n",
      "\n",
      "2022/12/21;Santo Tomas;Santo Tomas eguna;Arratzu;Arratzu;Bizkaia;914;43,311667;-2,638611\n",
      "\n",
      "2022/11/11;San Martín;San Martín eguna;Arrieta  ;Arrieta  ;Bizkaia;10;43,340362;-2,769799\n",
      "\n",
      "2022/7/22;Santa María Magdalena;Andra Maria Magdalena;Arrigorriaga;Arrigorriaga;Bizkaia;11;43,207520;-2,887839\n",
      "\n",
      "2022/9/8;Fiesta local;Tokiko jai-eguna;Artea  ;Artea  ;Bizkaia;23;43,133718;-2,784141\n",
      "\n",
      "2022/9/2;San Antolín;San Antolin;Artzentales  ;Artzentales  ;Bizkaia;8;43,240556;-3,241389\n",
      "\n",
      "2022/6/29;San Pedro  ;San Pedro Eguna;Atxondo  ;Atxondo  ;Bizkaia;91;43,130342;-2,585079\n",
      "\n",
      "2022/6/24;San Juan  ;San Juan eguna;Aulesti  ;Aulesti  ;Bizkaia;70;43,296084;-2,563355\n",
      "\n",
      "2022/8/29;San Juan Degollado;Joan Doloz Eguna;Bakio  ;Bakio  ;Bizkaia;12;43,427778;-2,811389\n",
      "\n",
      "2022/1/24;Fundación de la Villa;Fundación de la Villa;Balmaseda  ;Balmaseda  ;Bizkaia;90;43,192866;-3,196942\n",
      "\n",
      "2022/7/16;Nuestra Señora del Carmen;Karmengo Andra Mari;Barakaldo  ;Barakaldo  ;Bizkaia;13;43,297222;-2,991667\n",
      "\n",
      "2022/6/24;San Juan;San Juan;Barrika  ;Barrika  ;Bizkaia;14;43,406384;-2,962425\n",
      "\n",
      "2022/10/13;San Fuasto;San Fausto;Basauri  ;Basauri  ;Bizkaia;15;43,233333;-2,883333\n",
      "\n",
      "2022/6/24;San Juan Bautista;San Juan Bautista;Bedia  ;Bedia  ;Bizkaia;92;43,209374;-2,804965\n",
      "\n",
      "2022/8/4;Santo Domingo de Guzmán;Santo Domingo de Guzman eguna;Berango;Berango;Bizkaia;16;43,365899;-2,996356\n",
      "\n",
      "2022/9/8;Andra Mari;Andra Mari Eguna;Bermeo  ;Bermeo  ;Bizkaia;17;43,420422;-2,722158\n",
      "\n",
      "2022/5/29;Fiesta local;Tokiko jai-eguna;Berriatua  ;Berriatua  ;Bizkaia;18;43,316667;-2,466667\n",
      "\n",
      "2022/6/29;San Pedro;San Pedro;Berriz  ;Berriz  ;Bizkaia;19;43,193923;-2,589165\n",
      "\n",
      "2022/8/26;Viernes de la Semana Grande;Aste Nagusiko Ostirala;Bilbao  ;Bilbao  ;Bizkaia;20;43,256963;-2,923441\n",
      "\n",
      "2022/6/9;Fiesta local;Tokiko jai-eguna;Busturia  ;Busturia  ;Bizkaia;21;43,383000;-2,697000\n",
      "\n",
      "2022/5/16;San Isidro Labrador;San Isidro Nekazari Deuna ;Derio  ;Derio  ;Bizkaia;901;43,302000;-2,881833\n",
      "\n",
      "2022/6/29;San Pedro;San Pedro eguna;Dima  ;Dima  ;Bizkaia;26;43,143389;-2,751464\n",
      "\n",
      "2022/10/13;San Fausto;San Fausto eguna;Durango;Durango;Bizkaia;27;43,169068;-2,632655\n",
      "\n",
      "2022/6/24;San Juan;San Juan eguna;Ea  ;Ea  ;Bizkaia;28;43,380135;-2,585593\n",
      "\n",
      "2022/6/29;San Pedro;San Pedro;Elantxobe  ;Elantxobe  ;Bizkaia;31;43,403422;-2,639800\n",
      "\n",
      "2022/9/5;Fiesta local;Tokiko jai-eguna;Elorrio  ;Elorrio  ;Bizkaia;32;43,130387;-2,542155\n",
      "\n",
      "2022/6/16;Corpus Christi;Gorpuzti;Erandio  ;Erandio  ;Bizkaia;902;43,307458;-2,946418\n",
      "\n",
      "2022/9/29;San Miguel Arcángel;San Miguel Arcángel;Ereño  ;Ereño  ;Bizkaia;33;43,356944;-2,621667\n",
      "\n",
      "2022/7/27;Día de Zezen;Zezen eguna;Ermua  ;Ermua  ;Bizkaia;34;43,186642;-2,502607\n",
      "\n",
      "2022/6/24;San Juan;San Juan;Errigoiti;Errigoiti;Bizkaia;79;43,318709;-2,725344\n",
      "\n",
      "2022/12/26;San Esteban;San Esteban;Etxebarri  ;Etxebarri  ;Bizkaia;29;43,247179;-2,890139\n",
      "\n",
      "2022/11/30;San Andrés;San Andres eguna;Etxebarria  ;Etxebarria  ;Bizkaia;30;43,254146;-2,477354\n",
      "\n",
      "2022/11/11;San Martin ;San Martin;Forua  ;Forua  ;Bizkaia;906;43,333712;-2,678589\n",
      "\n",
      "2022/8/10;San Lorenzo;San Lorenzo;Fruiz  ;Fruiz  ;Bizkaia;35;43,328889;-2,783333\n",
      "\n",
      "2022/9/14;Exaltación de la Santa Cruz;Gurutze Santuaren gorespena;Galdakao  ;Galdakao  ;Bizkaia;36;43,230556;-2,845833\n",
      "\n",
      "2022/6/29;San Pedro Apóstol  ;San Pedro Apostol;Galdames  ;Galdames  ;Bizkaia;37;43,255000;-3,096389\n",
      "\n",
      "2022/11/11;San Martín;San Martín;Gamiz-Fika  ;Gamiz-Fika  ;Bizkaia;38;43,311728;-2,810701\n",
      "\n",
      "2022/7/26;Santa Ana;Santa Ana;Garai  ;Garai  ;Bizkaia;39;43,194722;-2,609722\n",
      "\n",
      "2022/4/25;San Marcos;Markos Deuna;Gatika  ;Gatika  ;Bizkaia;40;43,363889;-2,871944\n",
      "\n",
      "2022/1/26;San Policarpio;San Policarpio eguna;Gautegiz Arteaga;Gautegiz Arteaga;Bizkaia;41;43,353104;-2,650985\n",
      "\n",
      "2022/8/16;San Roque;San Roke;Gernika-Lumo  ;Gernika-Lumo  ;Bizkaia;46;43,317073;-2,678975\n",
      "\n",
      "2022/8/10;San Lorenzo;San Lorenzo eguna ;Getxo  ;Getxo  ;Bizkaia;44;43,344167;-3,006389\n",
      "\n",
      "2022/9/8;Andra Mari;Andra Mari Eguna;Gizaburuaga;Gizaburuaga;Bizkaia;47;43,331940;-2,536111\n",
      "\n",
      "2022/9/26;San Cosme y San Damián;San Cosme y San Damián;Gordexola  ;Gordexola  ;Bizkaia;42;43,178611;-3,072778\n",
      "\n",
      "2022/8/5;Nuestra Señora de Aguirre y de las Nieves;Agirreko Andra Maria eta Elurretakoa;Gorliz  ;Gorliz  ;Bizkaia;43;43,416667;-2,933333\n",
      "\n",
      "2022/8/10;San Lorenzo;San Lorenzo;Güeñes  ;Güeñes  ;Bizkaia;45;43,210321;-3,095317\n",
      "\n",
      "2022/6/16;Corpus Christi;Corpus Christi;Ibarrangelu;Ibarrangelu;Bizkaia;48;43,390215;-2,633802\n",
      "\n",
      "2022/6/13;Fiesta local;Tokiko jai-eguna;Igorre;Igorre;Bizkaia;94;43,165833;-2,776111\n",
      "\n",
      "2022/7/26;Santa Ana;Santa Ana;Ispaster;Ispaster;Bizkaia;49;43,362954;-2,544635\n",
      "\n",
      "2022/9/29;San Miguel  ;San Miguel;Iurreta  ;Iurreta  ;Bizkaia;910;43,176705;-2,633777\n",
      "\n",
      "2022/9/8;Ntra. Sra. De Erdozia;Ntra. Sra. De Erdozia;Izurtza  ;Izurtza  ;Bizkaia;50;43,152273;-2,641978\n",
      "\n",
      "2022/9/29;San Miguel  ;San Miguel;Valle de Carranza;Karrantza Harana;Bizkaia;22;43,225278;-3,359444\n",
      "\n",
      "2022/7/26;Fiesta local;Tokiko jai-eguna;Kortezubi  ;Kortezubi  ;Bizkaia;907;43,335982;-2,654319\n",
      "\n",
      "2022/8/5;La Virgen de las Nieves;La Virgen de las Nieves;Lanestosa;Lanestosa;Bizkaia;51;43,221169;-3,439148\n",
      "\n",
      "2022/9/29;San Miguel;San Miguel;Larrabetzu;Larrabetzu;Bizkaia;52;43,260973;-2,796175\n",
      "\n",
      "2022/9/29;San Miguel;San Miguel;Laukiz;Laukiz;Bizkaia;53;43,353333;-2,906111\n",
      "\n",
      "2022/6/24;San Juan;San Juan eguna;Leioa ;Leioa ;Bizkaia;54;43,326097;-2,987704\n",
      "\n",
      "2022/9/2;San Antolín  ;San Antolin eguna;Lekeitio;Lekeitio;Bizkaia;57;43,365509;-2,503344\n",
      "\n",
      "2022/9/8;Andra Mari;Andra Mari;Lemoa;Lemoa;Bizkaia;55;43,208759;-2,774116\n",
      "\n",
      "2022/10/17;Fiesta Local;Tokiko jai-eguna;Lemoiz;Lemoiz;Bizkaia;56;43,413244;-2,902253\n",
      "\n",
      "2022/9/8;Andra Mari;Andra Mari eguna;Lezama;Lezama;Bizkaia;81;43,272167;-2,832167\n",
      "\n",
      "2022/6/29;Fiesta local;Tokiko jai-eguna;Loiu;Loiu;Bizkaia;903;43,315000;-2,938333\n",
      "\n",
      "2022/3/2;Miércoles de Ceniza;Hautsezko asteazkena;Mallabia;Mallabia;Bizkaia;58;43,189651;-2,529969\n",
      "\n",
      "2022/10/21;Santa Ursula;Santa Ursula;Mañaria;Mañaria;Bizkaia;59;43,137485;-2,661135\n",
      "\n",
      "2022/7/16;Fiesta local;Tokiko jai-eguna;Markina-Xemein;Markina-Xemein;Bizkaia;60;43,270604;-2,497155\n",
      "\n",
      "2022/8/10;San Lorenzo;Lorentzo Deuna;Maruri-Jatabe;Maruri-Jatabe;Bizkaia;61;43,382772;-2,874989\n",
      "\n",
      "2022/9/29;San Miguel;San Miguel;Mendata;Mendata;Bizkaia;62;43,283333;-2,633333\n",
      "\n",
      "2022/8/1;San Pedro Advincula;San Pedro Advincula;Mendexa;Mendexa;Bizkaia;63;43,346389;-2,483333\n",
      "\n",
      "2022/8/16;San Roque;Roke Deuna;Meñaka;Meñaka;Bizkaia;64;43,364464;-2,801795\n",
      "\n",
      "2022/7/26;Santa Ana;Santa Ana;Morga;Morga;Bizkaia;66;43,297932;-2,752739\n",
      "\n",
      "2022/6/29;San Pedro y San Pablo;San Pedro eta San Paulo jai eguna;Mundaka;Mundaka;Bizkaia;68;43,407335;-2,698322\n",
      "\n",
      "2022/6/29;Fiesta local;Tokiko jai-eguna;Mungia;Mungia;Bizkaia;69;43,354410;-2,846714\n",
      "\n",
      "2022/6/29;San Pedro;San Pedro Eguna;Munitibar-Arbatzegi Gerrikaitz;Munitibar-Arbatzegi Gerrikaitz;Bizkaia;7;43,265332;-2,591845\n",
      "\n",
      "2022/9/8;Fiesta local;Tokiko jai-eguna;Murueta;Murueta;Bizkaia;908;43,354463;-2,684153\n",
      "\n",
      "2022/6/24;San Juan;San Juan;Muskiz;Muskiz;Bizkaia;71;43,323333;-3,121667\n",
      "\n",
      "2022/10/31;Último lunes de octubre de Gernika;Gernikako urriko azken astelehena;Muxika;Muxika;Bizkaia;67;43,289668;-2,692941\n",
      "\n",
      "2022/9/8;Andra Mari;Andra Mari eguna;Nabarniz;Nabarniz;Bizkaia;909;43,321597;-2,584400\n",
      "\n",
      "2022/8/17;Día del pescador;Arrantzale eguna;Ondarroa;Ondarroa;Bizkaia;73;43,320698;-2,420475\n",
      "\n",
      "2022/9/2;San Antolin;San Antolin;Orozko;Orozko;Bizkaia;75;43,108611;-2,911111\n",
      "\n",
      "2022/5/18;San Félix de Cantalicio;Kantaliziozko Felix Deuna;Ortuella;Ortuella;Bizkaia;83;43,311370;-3,055952\n",
      "\n",
      "2022/7/18;Santa Marina;Santa Marina;Otxandio  ;Otxandio  ;Bizkaia;72;43,040447;-2,654584\n",
      "\n",
      "2022/7/22;La Magdalena;La Magdalena;Plentzia  ;Plentzia  ;Bizkaia;77;43,404430;-2,950102\n",
      "\n",
      "2022/8/16;San Roque;San Roque;Portugalete  ;Portugalete  ;Bizkaia;78;43,320664;-3,020252\n",
      "\n",
      "2022/7/16;Virgen del Carmen;Virgen del Carmen;Santurtzi  ;Santurtzi  ;Bizkaia;82;43,328711;-3,031772\n",
      "\n",
      "2022/6/29;San Pedro Apóstol;San Pedro apostoluaren eguna;Sestao  ;Sestao  ;Bizkaia;84;43,309635;-3,006940\n",
      "\n",
      "2022/6/24;Fiesta local;Tokiko jaieguna;Sondika  ;Sondika  ;Bizkaia;904;43,300063;-2,927103\n",
      "\n",
      "2022/6/29;San Pedro;San Pedro;Sopelana  ;Sopelana  ;Bizkaia;85;43,378918;-2,983002\n",
      "\n",
      "2022/7/26;Santa Ana;Santa Ana;Sopuerta  ;Sopuerta  ;Bizkaia;86;43,262778;-3,152500\n",
      "\n",
      "2022/11/30;San Andrés  ;San Andres  ;Sukarrieta  ;Sukarrieta  ;Bizkaia;76;43,395342;-2,696367\n",
      "\n",
      "2022/6/29;San Pedro;San Pedro;Trucios-Turtzioz  ;Trucios-Turtzioz  ;Bizkaia;87;43,272678;-3,288545\n",
      "\n",
      "2022/6/24;San Juan;San Juan eguna;Ubide  ;Ubide  ;Bizkaia;88;43,026832;-2,688209\n",
      "\n",
      "2022/9/8;Nuestra Señora de la Virgen de Udiarraga  ;Nuestra Señora de la Virgen de Udiarraga  ;Ugao-Miraballes  ;Ugao-Miraballes  ;Bizkaia;65;43,179989;-2,902508\n",
      "\n",
      "2022/9/8;Andramari;Andramari;Urduliz  ;Urduliz  ;Bizkaia;89;43,379667;-2,962000\n",
      "\n",
      "2022/5/9;Otxomaio  ;Otxomaio  ;Urduña-Orduña  ;Urduña-Orduña  ;Bizkaia;74;42,994449;-3,009622\n",
      "\n",
      "2022/8/8;Transfiguración del Señor;Transfiguración del Señor;Valle de Trápaga-Trapagaran  ;Valle de Trápaga-Trapagaran  ;Bizkaia;80;43,303108;-3,035548\n",
      "\n",
      "2022/7/8;Fiesta local;Tokiko jaieguna;Zaldibar  ;Zaldibar  ;Bizkaia;95;43,170970;-2,547130\n",
      "\n",
      "2022/10/3;Día de Gangas;Gangas eguna;Zalla  ;Zalla  ;Bizkaia;96;43,214009;-3,135223\n",
      "\n",
      "2022/11/11;San Martín;San Martin eguna;Zamudio  ;Zamudio  ;Bizkaia;905;43,283333;-2,866667\n",
      "\n",
      "2022/8/10;San Lorenzo  ;San Lorenzo eguna ;Zaratamo  ;Zaratamo  ;Bizkaia;97;43,211505;-2,873626\n",
      "\n",
      "2022/8/16;San Roque;San Roke eguna;Zeanuri  ;Zeanuri  ;Bizkaia;24;43,099664;-2,749615\n",
      "\n",
      "2022/9/2;San Antolín  ;San Antolin eguna;Zeberio  ;Zeberio  ;Bizkaia;25;43,152778;-2,852778\n",
      "\n",
      "2022/10/17;Día de la Independencia de Zierbena  ;Zierbenako Independentziaren Eguna  ;Zierbena  ;Zierbena  ;Bizkaia;913;43,347655;-3,086152\n",
      "\n",
      "2022/6/24;San Juan;San Juan;Ziortza-Bolibar  ;Ziortza-Bolibar  ;Bizkaia;915;43,249820;-2,550174\n",
      "\n",
      "2022/6/24;San Juan;San Juan;Abaltzisketa  ;Abaltzisketa  ;Gipuzkoa;1;43,047582;-2,105388\n",
      "\n",
      "2022/8/16;Fiesta local;Tokiko jai-eguna;Aduna  ;Aduna  ;Gipuzkoa;2;43,203792;-2,050079\n",
      "\n",
      "2022/8/10;San Lorenzo;San Lorenzo;Aia  ;Aia  ;Gipuzkoa;16;43,236922;-2,149008\n",
      "\n",
      "2022/9/29;San Miguel Arcángel;Mikel Goi Angerua;Aizarnazabal  ;Aizarnazabal  ;Gipuzkoa;3;43,255405;-2,236461\n",
      "\n",
      "2022/8/16;Fiesta local;Tokiko jaieguna;Albiztur  ;Albiztur  ;Gipuzkoa;4;43,129723;-2,137180\n",
      "\n",
      "2022/7/16;Fiesta local;Tokiko jaieguna;Alegia  ;Alegia  ;Gipuzkoa;5;43,100017;-2,096273\n",
      "\n",
      "2022/9/8;Natividad de la Virgen;Amabirjinaren jaiotze eguna;Alkiza  ;Alkiza  ;Gipuzkoa;6;43,172434;-2,109436\n",
      "\n",
      "2022/9/29;San Miguel Arcángel;Mikel Goi Angerua;Altzaga  ;Altzaga  ;Gipuzkoa;906;43,064490;-2,153833\n",
      "\n",
      "2022/2/28;Lunes de Carnaval  ;Iñauterietako Astelehena;Altzo  ;Altzo  ;Gipuzkoa;7;43,100072;-2,083905\n",
      "\n",
      "2022/8/24;San Bartolomé;Bartolome Deuna;Amezketa  ;Amezketa  ;Gipuzkoa;8;43,044517;-2,083235\n",
      "\n",
      "2022/6/24;San Juan;San Juan;Andoain  ;Andoain  ;Gipuzkoa;9;43,220480;-2,021122\n",
      "\n",
      "2022/6/16;Corpus Christi  ;Gorpuzti-eguna;Anoeta  ;Anoeta  ;Gipuzkoa;10;43,161467;-2,070695\n",
      "\n",
      "2022/7/15;Fiesta local;Tokiko jai-eguna;Antzuola  ;Antzuola  ;Gipuzkoa;11;43,099441;-2,381747\n",
      "\n",
      "2022/11/11;San Martín  ;Martin Deuna;Arama  ;Arama  ;Gipuzkoa;12;43,063637;-2,165558\n",
      "\n",
      "2022/8/16;Fiesta local;Tokiko jai-eguna;Aretxabaleta  ;Aretxabaleta  ;Gipuzkoa;13;43,036248;-2,504542\n",
      "\n",
      "2022/6/24;San Juan Bautista;San Juan Bataiatzailea;Arrasate-Mondragon  ;Arrasate-Mondragon  ;Gipuzkoa;55;43,066517;-2,487562\n",
      "\n",
      "2022/6/29;San Pedro  ;San Pedro;Asteasu  ;Asteasu  ;Gipuzkoa;14;43,195198;-2,097548\n",
      "\n",
      "2022/7/26;Fiesta local;Tokiko jai-eguna;Astigarraga  ;Astigarraga  ;Gipuzkoa;903;43,280652;-1,947560\n",
      "\n",
      "2022/11/11;San Martín;San Martin;Ataun  ;Ataun ;Gipuzkoa;15;43,005480;-2,176620\n",
      "\n",
      "2022/11/30;San Andrés  ;San Andres;Azkoitia  ;Azkoitia  ;Gipuzkoa;17;43,178205;-2,311640\n",
      "\n",
      "2022/1/20;San Sebastián;San Sebastian;Azpeitia  ;Azpeitia  ;Gipuzkoa;18;43,183900;-2,265466\n",
      "\n",
      "2022/8/16;Fiesta local;Tokiko jai-eguna;Baliarrain  ;Baliarrain  ;Gipuzkoa;904;43,069306;-2,129235\n",
      "\n",
      "2022/5/30;Fiesta local;Tokiko jai-eguna;Beasain  ;Beasain  ;Gipuzkoa;19;43,047076;-2,204605\n",
      "\n",
      "2022/6/29;Fiesta local;Tokiko jai-eguna;Beizama  ;Beizama  ;Gipuzkoa;20;43,134191;-2,200113\n",
      "\n",
      "2022/6/24;San Juan;San Juan;Belaunza  ;Belauntza  ;Gipuzkoa;21;43,135283;-2,050705\n",
      "\n",
      "2022/8/10;San Lorenzo  ;San Lorentzo;Berastegi  ;Berastegi  ;Gipuzkoa;22;43,124029;-1,979426\n",
      "\n",
      "2022/9/16;San Martín Agirre;San Martin Agirre;Bergara  ;Bergara  ;Gipuzkoa;74;43,118217;-2,413358\n",
      "\n",
      "2022/11/30;San Andrés;San Andres;Berrobi  ;Berrobi  ;Gipuzkoa;23;43,145479;-2,026374\n",
      "\n",
      "2022/8/16;Día siguiente a la Virgen;Andra Mariren biharmunea;Bidania  - Goiatz  ;Bidania  - Goiatz  ;Gipuzkoa;24;43,142086;-2,167475\n",
      "\n",
      "2022/8/24;San Bartolomé;Bartolome Deuna;Bidania - Bidania  ;Bidania - Bidania  ;Gipuzkoa;24;43,139399;-2,159979\n",
      "\n",
      "2022/8/16;San Roque;San Roke;Deba  ;Deba  ;Gipuzkoa;29;43,295562;-2,353894\n",
      "\n",
      "2022/1/20;San Sebastián  ;San Sebastian;Donostia-San Sebastian  ;Donostia-San Sebastian  ;Gipuzkoa;69;43,321874;-1,985520\n",
      "\n",
      "2022/6/24;San Juan;San Juan;Eibar  ;Eibar  ;Gipuzkoa;30;43,184180;-2,473289\n",
      "\n",
      "2022/9/8;Natividad de la Virgen;Amabirjinaren jaiotze eguna;Elduaien  ;Elduain  ;Gipuzkoa;31;43,140712;-2,000488\n",
      "\n",
      "2022/7/1;Fiesta local;Tokiko jai-eguna;Elgeta  ;Elgeta  ;Gipuzkoa;33;43,136572;-2,487392\n",
      "\n",
      "2022/1/17;San Antón;San Anton;Elgoibar  ;Elgoibar  ;Gipuzkoa;32;43,215187;-2,415702\n",
      "\n",
      "2022/7/22;María Magdalena  ;Madalena eguna;Errenteria  ;Errenteria  ;Gipuzkoa;67;43,312752;-1,899633\n",
      "\n",
      "2022/11/11;Fiesta local;Tokiko jaieguna;Errezil  ;Errezil  ;Gipuzkoa;66;43,164674;-2,173594\n",
      "\n",
      "2022/6/29;San Pedro;San Pedro;Eskoriatza  ;Eskoriatza  ;Gipuzkoa;34;43,017074;-2,526980\n",
      "\n",
      "2022/5/9;Aparicio de San Miguel;Mikel Deuna;Ezkio-Itsaso - Ezkio  ;Ezkio-Itsaso - Ezkio  ;Gipuzkoa;35;43,080484;-2,275421\n",
      "\n",
      "2022/6/29;San Pedro;Pedro Deuna;Ezkio-Itsaso - Sta. Lutzi-Anduaga;Ezkio-Itsaso - Sta. Lutzi-Anduaga;Gipuzkoa;35;43,064321;-2,274735\n",
      "\n",
      "2022/8/16;San Roque  ;San Roke;Gabiria  ;Gabiria  ;Gipuzkoa;38;43,049689;-2,279856\n",
      "\n",
      "2022/9/29;San Miguel  ;San Migel;Gaintza  ;Gaintza  ;Gipuzkoa;37;43,052629;-2,132370\n",
      "\n",
      "2022/8/16;Fiesta local;Tokiko jaieguna;Gaztelu  ;Gaztelu  ;Gipuzkoa;907;43,116579;-2,022278\n",
      "\n",
      "2022/8/6;San Salvador  ;Salbatore Deuna;Getaria  ;Getaria  ;Gipuzkoa;39;43,303261;-2,204363\n",
      "\n",
      "2022/6/24;San Juan Bautista;San Joan Bataiatzailea;Hernani  ;Hernani  ;Gipuzkoa;40;43,267549;-1,975814\n",
      "\n",
      "2022/8/16;Fiesta local;Tokiko jai-eguna;Hernialde  ;Hernialde  ;Gipuzkoa;41;43,154467;-2,085025\n",
      "\n",
      "2022/9/8;Ntra. Sra. De Guadalupe;Guadalupeko Ama;Hondarribia  ;Hondarribia  ;Gipuzkoa;36;43,362531;-1,791498\n",
      "\n",
      "2022/8/24;San Bartolomé  ;San Bartolome;Ibarra  ;Ibarra  ;Gipuzkoa;42;43,132345;-2,065462\n",
      "\n",
      "2022/2/3;Fiesta local;Tokiko jai-eguna;Idiazabal  ;Idiazabal  ;Gipuzkoa;43;43,011782;-2,234214\n",
      "\n",
      "2022/8/10;San Lorenzo;San Lorentzo;Ikaztegieta  ;Ikaztegieta  ;Gipuzkoa;44;43,094960;-2,123900\n",
      "\n",
      "2022/6/30;San Marcial;San Marcial;Irun  ;Irun  ;Gipuzkoa;45;43,338233;-1,789272\n",
      "\n",
      "2022/9/29;San Miguel ;San Migel;Irura  ;Irura  ;Gipuzkoa;46;43,165688;-2,069616\n",
      "\n",
      "2022/7/22;María Magdalena;Madalena Donea;Itsaso - Barrio Itxaso-Alegia ;Itsaso - Itxaso-Alegia auzoa ;Gipuzkoa;35;43,058055;-2,268215\n",
      "\n",
      "2022/8/24;San Bartolomé;Bartolome Deuna;Itsaso - Casco;Itsaso - hirigunea;Gipuzkoa;35;43,072544;-2,257418\n",
      "\n",
      "2022/9/8;Día de la Virgen de Kizkitza;Kizkitzako Ama Birjinaren eguna;Itsaso - Mendialdea;Itsaso - Mendialdea Zozkera;Gipuzkoa;35;43,072544;-2,257418\n",
      "\n",
      "2022/9/23;Fiesta local;Tokiko jai-eguna;Itsasondo  ;Itsasondo  ;Gipuzkoa;47;43,066932;-2,167393\n",
      "\n",
      "2022/8/3;Fiesta local;Tokiko jai-eguna;Larraul  ;Larraul  ;Gipuzkoa;48;43,187739;-2,102534\n",
      "\n",
      "2022/6/29;San Pedro ;San Pedro ;Lasarte-Oria  ;Lasarte-Oria;Gipuzkoa;902;43,267455;-2,020179\n",
      "\n",
      "2022/4/28;San Prudencio  ;San Prudentzio;Lazkao  ;Lazkao  ;Gipuzkoa;49;43,034324;-2,187379\n",
      "\n",
      "2022/6/29;San Pedro ;San Pedro;Leaburu  ;Leaburu  ;Gipuzkoa;50;43,124984;-2,052106\n",
      "\n",
      "2022/5/3;Santa Cruz;Santikutz eguna;Legazpi  ;Legazpi  ;Gipuzkoa;51;43,054361;-2,333641\n",
      "\n",
      "2022/5/26;La Ascensión;Azintzio eguna;Legorreta  ;Legorreta  ;Gipuzkoa;52;43,085794;-2,150909\n",
      "\n",
      "2022/9/8;Festividad de la Virgen;Amabirjinaren eguna;Leintz-Gatzaga  ;Leintz-Gatzaga  ;Gipuzkoa;68;42,987112;-2,568626\n",
      "\n",
      "2022/9/14;Exaltación de la Santa Cruz  ;Gurutze Santuaren gorespena;Lezo  ;Lezo  ;Gipuzkoa;53;43,321127;-1,898775\n",
      "\n",
      "2022/9/8;Fiesta local;Tokiko jaieguna;Lizartza  ;Lizartza  ;Gipuzkoa;54;43,103720;-2,034254\n",
      "\n",
      "2022/7/26;Santa Ana;Santa Ana;Mendaro  ;Mendaro  ;Gipuzkoa;901;43,264167;-2,375500\n",
      "\n",
      "2022/6/29;San Pedro  ;San Pedro;Mutiloa  ;Mutiloa  ;Gipuzkoa;57;43,022380;-2,272826\n",
      "\n",
      "2022/7/22;María Magdalena;Madalen eguna;Mutriku  ;Mutriku  ;Gipuzkoa;56;43,307069;-2,385083\n",
      "\n",
      "2022/8/3;San Esteban  ;Don Eztebe;Oiartzun  ;Oiartzun  ;Gipuzkoa;63;43,299282;-1,857874\n",
      "\n",
      "2022/6/24;San Juan;San Joan;Olaberria  ;Olaberria  ;Gipuzkoa;58;43,027075;-2,203089\n",
      "\n",
      "2022/9/29;San Miguel;San Migel;Oñati  ;Oñati  ;Gipuzkoa;59;43,032888;-2,411348\n",
      "\n",
      "2022/7/26;Santa Ana;Santa Ana;Ordizia  ;Ordizia  ;Gipuzkoa;76;43,054198;-2,178115\n",
      "\n",
      "2022/1/20;San Sebastián;San Sebastian;Orendain  ;Orendain  ;Gipuzkoa;905;43,079721;-2,114290\n",
      "\n",
      "2022/5/3;Fiesta local;Tokiko jaieguna;Orexa  ;Orexa  ;Gipuzkoa;60;43,093881;-2,011392\n",
      "\n",
      "2022/6/29;San Pedro  ;San Pedro;Orio  ;Orio  ;Gipuzkoa;61;43,278323;-2,126597\n",
      "\n",
      "2022/11/30;San Andrés  ;San Andres;Ormaiztegi  ;Ormaiztegi  ;Gipuzkoa;62;43,042735;-2,255848\n",
      "\n",
      "2022/7/7;San Fermín;San Fermin;Pasaia - Antxo  ;Pasaia - Antxo  ;Gipuzkoa;64;43,317534;-1,917562\n",
      "\n",
      "2022/6/24;San Juan;San Juan;Pasaia - Donibane  ;Pasaia - Donibane  ;Gipuzkoa;64;43,327481;-1,919883\n",
      "\n",
      "2022/6/29;San Pedro  ;San Pedro;Pasaia - San Pedro  ;Pasaia - San Pedro  ;Gipuzkoa;64;43,323348;-1,930432\n",
      "\n",
      "2022/7/16;Virgen del Carmen  ;Karmengo Ama;Pasaia - Trintxerpe  ;Pasaia - Trintxerpe  ;Gipuzkoa;64;43,326138;-1,931587\n",
      "\n",
      "2022/6/24;SanJuan;San Joan;Segura  ;Segura  ;Gipuzkoa;70;43,009216;-2,252519\n",
      "\n",
      "2022/7/26;Santa Ana  ;Santa Ana  ;Soraluze - P. De Las Armas;Soraluze - P. De Las Armas;Gipuzkoa;65;43,175430;-2,412494\n",
      "\n",
      "2022/6/24;Fiesta local;Tokiko jaieguna;Tolosa  ;Tolosa  ;Gipuzkoa;71;43,136978;-2,073914\n",
      "\n",
      "2022/9/29;San Miguel  ;San Migel;Urnieta  ;Urnieta  ;Gipuzkoa;72;43,248200;-1,990517\n",
      "\n",
      "2022/9/19;Santa Anastasia  ;Santa Anastasia;Urretxu  ;Urretxu  ;Gipuzkoa;77;43,092282;-2,314383\n",
      "\n",
      "2022/7/2;Santa Isabel;Santixabel;Usurbil  ;Usurbil  ;Gipuzkoa;73;43,271382;-2,049934\n",
      "\n",
      "2022/7/26;Santa Ana;Santa Ana;Villabona  ;Billabona  ;Gipuzkoa;75;43,189944;-2,052453\n",
      "\n",
      "2022/10/6;Santa Fe  ;Santa Fe;Zaldibia  ;Zaldibia  ;Gipuzkoa;78;43,037964;-2,150894\n",
      "\n",
      "2022/6/27;San Pelayo  ;San Pelaio;Zarautz  ;Zarautz  ;Gipuzkoa;79;43,280364;-2,171588\n",
      "\n",
      "2022/6/6;Lunes de Pentecostés  ;Mendekoste astelehena;Zegama  ;Zegama  ;Gipuzkoa;25;42,975677;-2,290072\n",
      "\n",
      "2022/8/16;San Roque;San Roke;Zerain  ;Zerain  ;Gipuzkoa;26;43,012119;-2,274118\n",
      "\n",
      "2022/9/8;Festividad de la Virgen;Ama Birjinaren eguna;Zestoa  ;Zestoa  ;Gipuzkoa;27;43,239442;-2,258113\n",
      "\n",
      "2022/9/8;Fiesta local;Tokiko jai-eguna;Zizurkil  ;Zizurkil  ;Gipuzkoa;28;43,199523;-2,074073\n",
      "\n",
      "2022/6/29;San Pedro  ;San Pedro;Zumaia  ;Zumaia  ;Gipuzkoa;81;43,297258;-2,256848\n",
      "\n",
      "2022/7/2;Santa Isabel  ;Santa Isabel;Zumarraga  ;Zumarraga  ;Gipuzkoa;80;43,090476;-2,313220\n",
      "\n",
      "2022/2/3;San Blas;San Joan Bataiatzailea;Alegría-Dulantzi;Alegria-Dulantzi;Álava - Araba;2;42,841035;-2,512684\n",
      "\n",
      "2022/8/16;Fiesta local;Tokiko jai-eguna;Amurrio;Amurrio;Álava - Araba;1;43,057875;-2,998775\n",
      "\n",
      "2022/7/11;San Cristóbal;Done Kristobal;Añana  ;Añana  ;Álava - Araba;49;42,802352;-2,982607\n",
      "\n",
      "2022/7/4;Fiesta local;Tokiko jaieguna;Aramaio  ;Aramaio  ;Álava - Araba;3;43,054000;-2,566000\n",
      "\n",
      "2022/11/30;San Andrés Apóstol;San Andrés Apostolua;Armiñón  ;Armiñón  ;Álava - Araba;6;42,723045;-2,872574\n",
      "\n",
      "2022/6/20;San Adrián;San Adrian;Arraia-Maeztu  ;Arraia-Maeztu  ;Álava - Araba;37;42,739815;-2,445980\n",
      "\n",
      "2022/12/26;San Esteban;San Esteban;Arrazua-Ubarrundia  ;Arrazua-Ubarrundia  ;Álava - Araba;8;42,890278;-2,639167\n",
      "\n",
      "2022/9/8;Virgen de la Encina;Arteako Andra Maria;Artziniega  ;Artziniega  ;Álava - Araba;4;43,122201;-3,128209\n",
      "\n",
      "2022/6/29;San Pedro Apóstol;Done Petri;Asparrena  ;Asparrena  ;Álava - Araba;9;42,895667;-2,321000\n",
      "\n",
      "2022/7/26;Santiago;Done Jakue;Ayala - Agiñaga;Aiara - Agiñaga;Álava - Araba;10;43,035080;-3,071144\n",
      "\n",
      "2022/5/21;San Ramiro;Done Ramiro;Ayala - Añes  ;Aiara - Añes  ;Álava - Araba;10;43,058414;-3,132924\n",
      "\n",
      "2022/9/29;San Miguel;Done Mikel;Ayala - Beotegi  ;Aiara - Beotegi  ;Álava - Araba;10;43,088660;-3,075259\n",
      "\n",
      "2022/9/29;San Miguel;Done Mikel;Ayala - Costera  ;Aiara - Opellora;Álava - Araba;10;43,102599;-3,103772\n",
      "\n",
      "2022/5/3;La Cruz;Gurutzea;Ayala - Erbi  ;Aiara - Erbi  ;Álava - Araba;10;43,074143;-3,111819\n",
      "\n",
      "2022/5/9;Ntra. Sra. de la Antigua ;Antiguako Ama ;Ayala - Etxegoien  ;Aiara - Etxegoien  ;Álava - Araba;10;43,043726;-3,021070\n",
      "\n",
      "2022/1/7;San Julián;Done Julian;Ayala - Izoria  ;Aiara - Izoria  ;Álava - Araba;10;43,061416;-3,036324\n",
      "\n",
      "2022/12/9;La Inmaculada;Sortzez Garbiaren Eguna;Ayala - Lejarzo  ;Aiara - Lexartzu;Álava - Araba;10;43,060158;-3,122923\n",
      "\n",
      "2022/8/16;La Asunción;Jasokundearen Eguna;Ayala - Lujo  ;Aiara - Luxo  ;Álava - Araba;10;43,077952;-3,096407\n",
      "\n",
      "2022/7/22;La Magdalena;Magdalena Eguna;Ayala - Luiaondo  ;Aiara - Luiaondo  ;Álava - Araba;10;43,102723;-2,997211\n",
      "\n",
      "2022/7/26;Santiago;Done Jakue;Ayala - Llanteno  ;Aiara - Llanteno  ;Álava - Araba;10;43,091803;-3,099984\n",
      "\n",
      "2022/11/23;San Clemente;Done Klemente;Ayala - Madaria  ;Aiara - Madaria  ;Álava - Araba;10;43,043890;-3,085953\n",
      "\n",
      "2022/1/17;San Antón;Done Anton;Ayala - Maroño  ;Aiara - Maroño  ;Álava - Araba;10;43,055065;-3,059010\n",
      "\n",
      "2022/6/29;San Pedro;Done Petri;Ayala - Menagarai  ;Aiara - Menagarai  ;Álava - Araba;10;43,096299;-3,072769\n",
      "\n",
      "2022/4/25;San Marcos;Done Marko;Ayala - Menoio  ;Aiara - Menoio  ;Álava - Araba;10;43,069585;-3,072926\n",
      "\n",
      "2022/6/24;San Juan;Done Joane;Ayala - Murga  ;Aiara - Murga  ;Álava - Araba;10;43,075372;-3,025590\n",
      "\n",
      "2022/1/24;San Babilás;Done Babilas;Ayala - Olabezar  ;Aiara - Olabezar  ;Álava - Araba;10;43,069997;-3,014813\n",
      "\n",
      "2022/10/8;Ntra. Sra. del Rosario ;Errosarioko Andra Maria;Ayala - Ozeka  ;Aiara - Ozeka  ;Álava - Araba;10;43,070824;-3,090905\n",
      "\n",
      "2022/8/5;Las Nieves;Elurretako Andra Maria;Ayala - Quejana  ;Aiara - Kexaa;Álava - Araba;10;43,081485;-3,063094\n",
      "\n",
      "2022/5/16;San Isidro;Done Isidro;Ayala - Respaldiza  ;Aiara - Arespalditza  ;Álava - Araba;10;43,078065;-3,042931\n",
      "\n",
      "2022/7/22;La Magdalena;Magdalena Eguna;Ayala - Retes de Llanteno  ;Aiara - Retes de Llanteno  ;Álava - Araba;10;43,091803;-3,099984\n",
      "\n",
      "2022/7/18;Santa Marina;Dona Marina;Ayala - Salmantón  ;Aiara - Salmanton  ;Álava - Araba;10;43,052629;-3,088347\n",
      "\n",
      "2022/8/30;San Emeterio;Done Meteri;Ayala - Sojo  ;Aiara - Soxo  ;Álava - Araba;10;43,090730;-3,122839\n",
      "\n",
      "2022/7/18;Santa Marina ;Dona Marina;Ayala - Zuaza  ;Aiara - Zuhatza  ;Álava - Araba;10;43,099672;-3,049447\n",
      "\n",
      "2022/8/24;San Bartolomé;Done Bartolome;Baños de Ebro  ;Mañueta;Álava - Araba;11;42,530290;-2,679144\n",
      "\n",
      "2022/6/24;San Juan;Done Joane;Barrundia  ;Barrundia  ;Álava - Araba;13;42,916667;-2,491667\n",
      "\n",
      "2022/9/8;Asunción de María;Jasokundearen eguna;Berantevilla  ;Berantevilla  ;Álava - Araba;14;42,682450;-2,860401\n",
      "\n",
      "2022/9/8;Fiesta local;Tokiko jaieguna;Bernedo  ;Bernedo  ;Álava - Araba;16;42,626684;-2,497532\n",
      "\n",
      "2022/5/16;San Isidro;Done Isidro;Campezo  ;Kanpezu;Álava - Araba;17;42,691944;-2,370000\n",
      "\n",
      "2022/9/8;La Virgen;Andra Maria;Kripan  ;Kripan  ;Álava - Araba;19;42,591666;-2,516079\n",
      "\n",
      "2022/6/24;Fiesta local;Tokiko jaieguna;Kuartango  ;Kuartango  ;Álava - Araba;20;42,871389;-2,885556\n",
      "\n",
      "2022/6/29;San Pedro;San Pedro;Elburgo  ;Burgelu;Álava - Araba;21;42,849564;-2,544762\n",
      "\n",
      "2022/9/8;Virgen de la Plaza;Plazako Andra Maria;Elciego  ;Zieko;Álava - Araba;22;42,515073;-2,618277\n",
      "\n",
      "2022/8/16;San Roque;San Roke;Elvillar;Bilar;Álava - Araba;23;42,570497;-2,544915\n",
      "\n",
      "2022/6/24;Fiesta local;Tokiko jai-eguna;Valle de Arana;Harana;Álava - Araba;;42,752731;-2,312303\n",
      "\n",
      "2022/8/16;San Roque;Done Roke;Iruña de Oca - Nanclares de la Oca;Iruña Oka - Langraiz Oka;Álava - Araba;901;42,817197;-2,811518\n",
      "\n",
      "2022/6/24;San Juan;Done Joane;Iruraiz-Gauna  ;Iruraiz-Gauna  ;Álava - Araba;27;42,822072;-2,495043\n",
      "\n",
      "2022/11/25;2º día de Acción de Gracias  ;2. Esker Oneko Eguna;Labastida  ;Labastida  ;Álava - Araba;28;42,590459;-2,792991\n",
      "\n",
      "2022/8/24;Fiesta local;Tokiko jaieguna;Lagrán  ;Lagrán  ;Álava - Araba;30;42,626395;-2,583820\n",
      "\n",
      "2022/6/24;San Juan;Done Joane;Laguardia  ;Laguardia  ;Álava - Araba;31;42,554278;-2,584237\n",
      "\n",
      "2022/9/8;Virgen del Campo;Amabirjina;Lanciego  ;Lantziego  ;Álava - Araba;32;42,562619;-2,513204\n",
      "\n",
      "2022/9/16;Santos Cornelio y Cipriano  ;Done Kornelio eta Done Zipri;Lantarón  ;Lantarón  ;Álava - Araba;902;42,756673;-2,987556\n",
      "\n",
      "2022/8/24;San Bartolomé;Done Bartolome;Lapuebla de Labarca  ;Lapuebla de Labarca  ;Álava - Araba;33;42,493969;-2,573024\n",
      "\n",
      "2022/9/12;La Cofradias;Kofradiak;Legutio;Legutiano  ;Álava - Araba;58;42,977822;-2,642724\n",
      "\n",
      "2022/8/16;San Roque;San Roke;Leza  ;Leza  ;Álava - Araba;34;42,566068;-2,633635\n",
      "\n",
      "2022/8/16;San Roque;San Roke;Llodio  ;Laudio;Álava - Araba;36;43,143333;-2,962985\n",
      "\n",
      "2022/8/19;Acción de gracias;Esker onak;Moreda de Alava  ;Moreda de Alava  ;Álava - Araba;39;42,528016;-2,407670\n",
      "\n",
      "2022/6/2;Fiesta local;Tokiko jaieguna;Navaridas  ;Nabaridas  ;Álava - Araba;41;42,545171;-2,624532\n",
      "\n",
      "2022/8/24;San Bartolomé;San Bartolome;Okondo  ;Okondo  ;Álava - Araba;42;43,162222;-3,018889\n",
      "\n",
      "2022/1/22;San Vicente y San Anastasio;Bikendi eta Anastasi Santuak;Oyón/Oion  ;Oyón/Oion  ;Álava - Araba;43;42,506137;-2,436965\n",
      "\n",
      "2022/5/16;San Isidro Labrador;Done Isidro Nekazaria;Peñacerrada  ;Urizaharra;Álava - Araba;44;42,644095;-2,713374\n",
      "\n",
      "2022/5/16;San Isidro Labrador;Done Isidro Nekazaria;Ribera Alta  ;Erribera Goitia;Álava - Araba;46;42,807222;-2,917500\n",
      "\n",
      "2022/8/29;Fiesta local;Tokiko jaieguna;Ribera Baja  ;Erribera Beitia;Álava - Araba;47;42,719678;-2,907609\n",
      "\n",
      "2022/6/24;San Juan;San Joan;Salvatierra  ;Agurain;Álava - Araba;51;42,852442;-2,389455\n",
      "\n",
      "2022/9/8;Nuestra Señora Virgen del Valle;Haranako Andra Maria;Samaniego  ;Samaniego  ;Álava - Araba;52;42,569832;-2,680185\n",
      "\n",
      "2022/11/11;San Millán;Done Milian;San Millán;Donemiliaga;Álava - Araba;53;42,874722;-2,376111\n",
      "\n",
      "2022/10/3;Fiesta local;Tokiko jaieguna;Urkabustaiz  ;Urkabustaiz  ;Álava - Araba;54;42,971944;-2,922222\n",
      "\n",
      "2022/5/16;Fiesta local;Tokiko jaieguna;Valdegovía  ;Valdegovía  ;Álava - Araba;55;42,850000;-3,100000\n",
      "\n",
      "2022/11/30;San Andrés;San Andres;Villabuena de Álava  ;Eskuernaga;Álava - Araba;57;42,548717;-2,665456\n",
      "\n",
      "2022/8/5;Vírgen Blanca;Andra Mari Zuria;Vitoria-Gasteiz  ;Vitoria-Gasteiz  ;Álava - Araba;59;42,846406;-2,667893\n",
      "\n",
      "2022/8/19;Nuestra Señora de Bercijana;Berzijanako Andra Maria;Yécora;Ikeora;Álava - Araba;60;42,569303;-2,470064\n",
      "\n",
      "2022/6/11;Fiesta local;Tokiko jaieguna;Zalduondo  ;Zalduondo  ;Álava - Araba;61;42,885626;-2,347254\n",
      "\n",
      "2022/8/5;Fiesta local;Tokiko jaieguna;Zambrana  ;Zambrana  ;Álava - Araba;62;42,659981;-2,879353\n",
      "\n",
      "2022/8/5;Fiesta local;Tokiko jaieguna;Zigoitia  ;Zigoitia  ;Álava - Araba;18;42,968200;-2,718300\n",
      "\n",
      "2022/9/29;San Miguel;San Miguel;Zuia  ;Zuia  ;Álava - Araba;63;42,981667;-2,844000\n",
      "\n"
     ]
    }
   ],
   "source": [
    "with open(\"./data/calendario_laboral_2022.csv\", encoding='latin-1') as archivo:\n",
    "    for linea in archivo:\n",
    "        print(linea)"
   ]
  },
  {
   "cell_type": "markdown",
   "metadata": {},
   "source": [
    "### Escribir en archivo"
   ]
  },
  {
   "cell_type": "code",
   "execution_count": 33,
   "metadata": {},
   "outputs": [],
   "source": [
    "cadena1 = 'Este es un hermoso día'\n",
    "cadena2 = 'Para cargar por primera vez archivos'\n",
    "\n",
    "archivo = open('./data/prueba2.txt',mode='w')\n",
    "archivo.write(cadena1 + '\\n')  # + cadena2\n",
    "archivo.write(cadena2)\n",
    "archivo.close()"
   ]
  },
  {
   "cell_type": "code",
   "execution_count": 34,
   "metadata": {},
   "outputs": [
    {
     "data": {
      "text/plain": [
       "'Este es un hermoso día\\nPara cargar por primera vez archivos'"
      ]
     },
     "execution_count": 34,
     "metadata": {},
     "output_type": "execute_result"
    }
   ],
   "source": [
    "archivo = open('./data/prueba2.txt',mode='r')\n",
    "archivo.read()"
   ]
  },
  {
   "cell_type": "code",
   "execution_count": 35,
   "metadata": {},
   "outputs": [],
   "source": [
    "archivo.close()"
   ]
  },
  {
   "cell_type": "code",
   "execution_count": 36,
   "metadata": {},
   "outputs": [],
   "source": [
    "archivo = open('./data/prueba2.txt',mode='w')\n",
    "archivo.write(\"Adios\\nmundo\")\n",
    "archivo.close()\n"
   ]
  },
  {
   "cell_type": "markdown",
   "metadata": {},
   "source": [
    "#### Escribir con una lista"
   ]
  },
  {
   "cell_type": "code",
   "execution_count": 37,
   "metadata": {},
   "outputs": [],
   "source": [
    "lista = ['Uno','Dos','Tres','Cuatro']"
   ]
  },
  {
   "cell_type": "code",
   "execution_count": 38,
   "metadata": {},
   "outputs": [],
   "source": [
    "archivo = open('./data/prueba.txt',mode='w')\n",
    "archivo.writelines(lista) \n",
    "archivo.close() "
   ]
  },
  {
   "cell_type": "code",
   "execution_count": 39,
   "metadata": {},
   "outputs": [],
   "source": [
    "lista = ['Uno\\n','Dos\\n','Tres\\n','Cuatro\\n']\n",
    "archivo = open('./data/prueba.txt',mode='w')\n",
    "archivo.writelines(lista) \n",
    "archivo.close() "
   ]
  },
  {
   "cell_type": "markdown",
   "metadata": {},
   "source": [
    "### Movimiento de puntero"
   ]
  },
  {
   "cell_type": "code",
   "execution_count": 40,
   "metadata": {},
   "outputs": [],
   "source": [
    "archivo = open('./data/prueba.txt',mode='r')\n",
    "archivo.seek(10) # Movemos el puntero al quinto byte.  Ojo!, los saltos de línea \\n cuentan como un byte\n",
    "cadena = archivo.read(5) # Leemos 5 bytes desde la posicion actual"
   ]
  },
  {
   "cell_type": "code",
   "execution_count": 41,
   "metadata": {},
   "outputs": [
    {
     "data": {
      "text/plain": [
       "'Tres\\n'"
      ]
     },
     "execution_count": 41,
     "metadata": {},
     "output_type": "execute_result"
    }
   ],
   "source": [
    "# Mostrar el contenido de 5 bytes desde la posición 6\n",
    "cadena\n"
   ]
  },
  {
   "cell_type": "code",
   "execution_count": 42,
   "metadata": {},
   "outputs": [
    {
     "data": {
      "text/plain": [
       "16"
      ]
     },
     "execution_count": 42,
     "metadata": {},
     "output_type": "execute_result"
    }
   ],
   "source": [
    "# Mostrar la posición del puntero en el archivo\n",
    "archivo.tell()\n"
   ]
  },
  {
   "cell_type": "markdown",
   "metadata": {},
   "source": [
    "### Leer y escribir a un archivo pickle\n",
    "\n",
    "Pickle nos permite serializar (y de-serializar) objetos en Python.  Con ello podemos almacenar objetos en un archivo, sin necesidad de convertirlo."
   ]
  },
  {
   "cell_type": "code",
   "execution_count": 43,
   "metadata": {},
   "outputs": [],
   "source": [
    "import pickle\n",
    "\n",
    "lista = ['Lunes','Martes','Miercoles','Jueves','Viernes']\n",
    "fichero = open('./data/datospickle.dat','wb')\n",
    "# Cargamos la lista en el ficherp\n",
    "pickle.dump(lista, fichero) \n",
    "fichero.close()\n",
    "\n"
   ]
  },
  {
   "cell_type": "code",
   "execution_count": 44,
   "metadata": {},
   "outputs": [
    {
     "name": "stdout",
     "output_type": "stream",
     "text": [
      "['Lunes', 'Martes', 'Miercoles', 'Jueves', 'Viernes']\n"
     ]
    }
   ],
   "source": [
    "del lista #Borrar memoria de la lista\n",
    "fichero = open('./data/datospickle.dat','rb')\n",
    "#Cargamos el fichero en una lista\n",
    "lista = pickle.load(fichero)\n",
    "print(lista)\n",
    "fichero.close()\n"
   ]
  },
  {
   "cell_type": "code",
   "execution_count": 45,
   "metadata": {},
   "outputs": [
    {
     "data": {
      "text/plain": [
       "['Lunes', 'Martes', 'Miercoles', 'Jueves', 'Viernes']"
      ]
     },
     "execution_count": 45,
     "metadata": {},
     "output_type": "execute_result"
    }
   ],
   "source": [
    "lista"
   ]
  }
 ],
 "metadata": {
  "kernelspec": {
   "display_name": "Python 3 (ipykernel)",
   "language": "python",
   "name": "python3"
  },
  "language_info": {
   "codemirror_mode": {
    "name": "ipython",
    "version": 3
   },
   "file_extension": ".py",
   "mimetype": "text/x-python",
   "name": "python",
   "nbconvert_exporter": "python",
   "pygments_lexer": "ipython3",
   "version": "3.10.9"
  },
  "varInspector": {
   "cols": {
    "lenName": 16,
    "lenType": 16,
    "lenVar": 40
   },
   "kernels_config": {
    "python": {
     "delete_cmd_postfix": "",
     "delete_cmd_prefix": "del ",
     "library": "var_list.py",
     "varRefreshCmd": "print(var_dic_list())"
    },
    "r": {
     "delete_cmd_postfix": ") ",
     "delete_cmd_prefix": "rm(",
     "library": "var_list.r",
     "varRefreshCmd": "cat(var_dic_list()) "
    }
   },
   "position": {
    "height": "325.848px",
    "left": "830px",
    "right": "20px",
    "top": "119px",
    "width": "350px"
   },
   "types_to_exclude": [
    "module",
    "function",
    "builtin_function_or_method",
    "instance",
    "_Feature"
   ],
   "window_display": false
  }
 },
 "nbformat": 4,
 "nbformat_minor": 4
}
