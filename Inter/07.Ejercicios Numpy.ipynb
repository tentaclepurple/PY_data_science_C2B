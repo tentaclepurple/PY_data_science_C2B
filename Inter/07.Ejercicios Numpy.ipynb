{
 "cells": [
  {
   "cell_type": "markdown",
   "metadata": {
    "id": "YAg8CfR_WgMv"
   },
   "source": [
    "# Ejercicios NumPy"
   ]
  },
  {
   "cell_type": "markdown",
   "metadata": {
    "id": "MNnxOongWgMx"
   },
   "source": [
    "#### Importar NumPy como np"
   ]
  },
  {
   "cell_type": "code",
   "execution_count": null,
   "metadata": {
    "id": "lFckSgeLWgMx"
   },
   "outputs": [],
   "source": [
    "import numpy as np"
   ]
  },
  {
   "cell_type": "markdown",
   "metadata": {
    "id": "J0CDS1R3WgMy"
   },
   "source": [
    "#### Generar un array de 10 ceros"
   ]
  },
  {
   "cell_type": "code",
   "execution_count": null,
   "metadata": {
    "executionInfo": {
     "elapsed": 3,
     "status": "ok",
     "timestamp": 1679992459161,
     "user": {
      "displayName": "Germán Alonso",
      "userId": "05990540753791295943"
     },
     "user_tz": -120
    },
    "id": "gADyBea7WgMy"
   },
   "outputs": [],
   "source": []
  },
  {
   "cell_type": "markdown",
   "metadata": {
    "id": "PDlPjSXTWgMz"
   },
   "source": [
    "#### Generar un array con 10 unos"
   ]
  },
  {
   "cell_type": "code",
   "execution_count": null,
   "metadata": {
    "executionInfo": {
     "elapsed": 2,
     "status": "ok",
     "timestamp": 1679992461377,
     "user": {
      "displayName": "Germán Alonso",
      "userId": "05990540753791295943"
     },
     "user_tz": -120
    },
    "id": "NJ58BnyIWgMz"
   },
   "outputs": [],
   "source": []
  },
  {
   "cell_type": "markdown",
   "metadata": {
    "id": "9t3Lx1KOWgMz"
   },
   "source": [
    "#### Generar un array con 10 seises"
   ]
  },
  {
   "cell_type": "code",
   "execution_count": null,
   "metadata": {
    "executionInfo": {
     "elapsed": 2,
     "status": "ok",
     "timestamp": 1679992462322,
     "user": {
      "displayName": "Germán Alonso",
      "userId": "05990540753791295943"
     },
     "user_tz": -120
    },
    "id": "FcuaH0HJWgM0"
   },
   "outputs": [],
   "source": []
  },
  {
   "cell_type": "markdown",
   "metadata": {
    "id": "XbGDSkMsWgM0"
   },
   "source": [
    "#### Generar un array de números enteros entre el 20 y el 40 (incluidos ambos)"
   ]
  },
  {
   "cell_type": "code",
   "execution_count": null,
   "metadata": {
    "executionInfo": {
     "elapsed": 1,
     "status": "ok",
     "timestamp": 1679992463613,
     "user": {
      "displayName": "Germán Alonso",
      "userId": "05990540753791295943"
     },
     "user_tz": -120
    },
    "id": "z7gBuCdvWgM0"
   },
   "outputs": [],
   "source": []
  },
  {
   "cell_type": "markdown",
   "metadata": {
    "id": "3CEC-TwSWgM1"
   },
   "source": [
    "#### Generar un array con todos los números pares desde el 15 al 59"
   ]
  },
  {
   "cell_type": "code",
   "execution_count": null,
   "metadata": {
    "executionInfo": {
     "elapsed": 1,
     "status": "ok",
     "timestamp": 1679992464451,
     "user": {
      "displayName": "Germán Alonso",
      "userId": "05990540753791295943"
     },
     "user_tz": -120
    },
    "id": "xtCJgPsrWgM1"
   },
   "outputs": [],
   "source": []
  },
  {
   "cell_type": "markdown",
   "metadata": {
    "id": "UVq7kM5YWgM1"
   },
   "source": [
    "#### Generar una matriz de 4x3 cuyos valores estén comprendidos entre el 0 y el 11"
   ]
  },
  {
   "cell_type": "code",
   "execution_count": null,
   "metadata": {
    "executionInfo": {
     "elapsed": 2,
     "status": "ok",
     "timestamp": 1679992468357,
     "user": {
      "displayName": "Germán Alonso",
      "userId": "05990540753791295943"
     },
     "user_tz": -120
    },
    "id": "CaZcqZQjWgM1"
   },
   "outputs": [],
   "source": []
  },
  {
   "cell_type": "markdown",
   "metadata": {
    "id": "Ugp0m-kZWgM1"
   },
   "source": [
    "#### Generar una matriz identidad de 4x4"
   ]
  },
  {
   "cell_type": "code",
   "execution_count": null,
   "metadata": {
    "executionInfo": {
     "elapsed": 2,
     "status": "ok",
     "timestamp": 1679992471534,
     "user": {
      "displayName": "Germán Alonso",
      "userId": "05990540753791295943"
     },
     "user_tz": -120
    },
    "id": "EymcS_2EWgM1"
   },
   "outputs": [],
   "source": []
  },
  {
   "cell_type": "markdown",
   "metadata": {
    "id": "adHL6Lv9WgM2"
   },
   "source": [
    "#### Generar un número aleatorio entre 0 y 1"
   ]
  },
  {
   "cell_type": "code",
   "execution_count": null,
   "metadata": {
    "executionInfo": {
     "elapsed": 225,
     "status": "ok",
     "timestamp": 1679992475177,
     "user": {
      "displayName": "Germán Alonso",
      "userId": "05990540753791295943"
     },
     "user_tz": -120
    },
    "id": "mi_RUnURWgM2"
   },
   "outputs": [],
   "source": []
  },
  {
   "cell_type": "markdown",
   "metadata": {
    "id": "JO_HZq5GWgM2"
   },
   "source": [
    "#### Generar un número aleatorio entre 0 y 2"
   ]
  },
  {
   "cell_type": "code",
   "execution_count": null,
   "metadata": {
    "executionInfo": {
     "elapsed": 864,
     "status": "ok",
     "timestamp": 1679992479179,
     "user": {
      "displayName": "Germán Alonso",
      "userId": "05990540753791295943"
     },
     "user_tz": -120
    },
    "id": "bQflFGY7WgM2"
   },
   "outputs": [],
   "source": []
  },
  {
   "cell_type": "markdown",
   "metadata": {
    "id": "GyIiB_eOWgM2"
   },
   "source": [
    "#### Usar NumPy para generar un array de 25 números aleatorios extraídos de una distribución normal."
   ]
  },
  {
   "cell_type": "code",
   "execution_count": null,
   "metadata": {
    "executionInfo": {
     "elapsed": 2,
     "status": "ok",
     "timestamp": 1679992481877,
     "user": {
      "displayName": "Germán Alonso",
      "userId": "05990540753791295943"
     },
     "user_tz": -120
    },
    "id": "-gnVonXuWgM2"
   },
   "outputs": [],
   "source": []
  },
  {
   "cell_type": "markdown",
   "metadata": {
    "id": "IsbzEx-qWgM2"
   },
   "source": [
    "#### Generar una matriz de 10x10 cuyos valores estén comprendidos entre 0.01 y 1, en incrementos de 0.01:"
   ]
  },
  {
   "cell_type": "code",
   "execution_count": null,
   "metadata": {
    "executionInfo": {
     "elapsed": 245,
     "status": "ok",
     "timestamp": 1679992486097,
     "user": {
      "displayName": "Germán Alonso",
      "userId": "05990540753791295943"
     },
     "user_tz": -120
    },
    "id": "Ug5A_vZgWgM3"
   },
   "outputs": [],
   "source": []
  },
  {
   "cell_type": "markdown",
   "metadata": {
    "id": "jKzcTsmkWgM3"
   },
   "source": [
    "#### Generar un array de 20 elementos comprendidos entre el 0 y 1."
   ]
  },
  {
   "cell_type": "code",
   "execution_count": null,
   "metadata": {
    "executionInfo": {
     "elapsed": 2,
     "status": "ok",
     "timestamp": 1679992488489,
     "user": {
      "displayName": "Germán Alonso",
      "userId": "05990540753791295943"
     },
     "user_tz": -120
    },
    "id": "snHblokjWgM3"
   },
   "outputs": [],
   "source": []
  },
  {
   "cell_type": "markdown",
   "metadata": {
    "id": "FnZ1HryVWgM3"
   },
   "source": [
    "## Indexación y selección en Numpy"
   ]
  },
  {
   "cell_type": "markdown",
   "metadata": {
    "id": "5bQwr0hoWgM3"
   },
   "source": [
    "#### Generar un array de 5x5, con valores correlativos entre 1 y 25.  Guardar dicho array en el objeto \"mat\""
   ]
  },
  {
   "cell_type": "code",
   "execution_count": null,
   "metadata": {
    "id": "3Nn_Kr5bWgM3"
   },
   "outputs": [],
   "source": []
  },
  {
   "cell_type": "markdown",
   "metadata": {
    "id": "cdyZojfyWgM3"
   },
   "source": [
    "#### Mostrar los datos contenidos en mat, a partir de la fila 3 y la columna 2 (tened en cuenta que existen la fila 0 y la columna 0)."
   ]
  },
  {
   "cell_type": "code",
   "execution_count": null,
   "metadata": {
    "id": "MbklfwzVWgM3"
   },
   "outputs": [],
   "source": []
  },
  {
   "cell_type": "markdown",
   "metadata": {
    "id": "ew4lEIqQWgM3"
   },
   "source": [
    "#### Extraer el valor de la celda que situado entre la cuarta fila y la quinta columna"
   ]
  },
  {
   "cell_type": "code",
   "execution_count": null,
   "metadata": {
    "id": "V9f28l1SWgM4"
   },
   "outputs": [],
   "source": []
  },
  {
   "cell_type": "markdown",
   "metadata": {
    "id": "0YoEotAbWgM4"
   },
   "source": [
    "#### Extraer los valores comprendidos en las 2 primeras filas y las columnas 2 y 3"
   ]
  },
  {
   "cell_type": "code",
   "execution_count": null,
   "metadata": {
    "id": "IGR8OawXWgM4"
   },
   "outputs": [],
   "source": []
  },
  {
   "cell_type": "markdown",
   "metadata": {
    "id": "LyRRsyhJWgM4"
   },
   "source": [
    "#### Extraer los elementos de la quinta fila"
   ]
  },
  {
   "cell_type": "code",
   "execution_count": null,
   "metadata": {
    "id": "OK8dmFgCWgM4"
   },
   "outputs": [],
   "source": []
  },
  {
   "cell_type": "markdown",
   "metadata": {
    "id": "SUT2lCiTWgM4"
   },
   "source": [
    "#### Extraer los elementos de las filas 4 y 5"
   ]
  },
  {
   "cell_type": "code",
   "execution_count": null,
   "metadata": {
    "id": "WNJZICtsWgM4"
   },
   "outputs": [],
   "source": []
  },
  {
   "cell_type": "markdown",
   "metadata": {
    "id": "b0ga9XqGWgM4"
   },
   "source": [
    "#### Sumar todos los elementos existentes en mat"
   ]
  },
  {
   "cell_type": "code",
   "execution_count": null,
   "metadata": {
    "id": "Ny9isbDrWgM4"
   },
   "outputs": [],
   "source": []
  },
  {
   "cell_type": "markdown",
   "metadata": {
    "id": "7upf7uVrWgM4"
   },
   "source": [
    "#### Calcular la desviación estándar del array mat"
   ]
  },
  {
   "cell_type": "code",
   "execution_count": null,
   "metadata": {
    "id": "_Oo9mkmNWgM4"
   },
   "outputs": [],
   "source": []
  },
  {
   "cell_type": "markdown",
   "metadata": {
    "id": "2snRofXDWgM4"
   },
   "source": [
    "#### Calcular la suma de cada columna en mat"
   ]
  },
  {
   "cell_type": "code",
   "execution_count": null,
   "metadata": {
    "id": "xacHymTDWgM5"
   },
   "outputs": [],
   "source": []
  },
  {
   "cell_type": "markdown",
   "metadata": {
    "id": "LTi-MFYbWgM5"
   },
   "source": [
    "#### Calcular la suma de cada fila en mat"
   ]
  },
  {
   "cell_type": "code",
   "execution_count": null,
   "metadata": {
    "id": "C0JTdLF7WgM5"
   },
   "outputs": [],
   "source": []
  },
  {
   "cell_type": "markdown",
   "metadata": {
    "id": "1uIYc-D6WgM5"
   },
   "source": [
    "# Gracias."
   ]
  }
 ],
 "metadata": {
  "colab": {
   "provenance": []
  },
  "kernelspec": {
   "display_name": "Python 3 (ipykernel)",
   "language": "python",
   "name": "python3"
  },
  "language_info": {
   "codemirror_mode": {
    "name": "ipython",
    "version": 3
   },
   "file_extension": ".py",
   "mimetype": "text/x-python",
   "name": "python",
   "nbconvert_exporter": "python",
   "pygments_lexer": "ipython3",
   "version": "3.10.9"
  },
  "varInspector": {
   "cols": {
    "lenName": 16,
    "lenType": 16,
    "lenVar": 40
   },
   "kernels_config": {
    "python": {
     "delete_cmd_postfix": "",
     "delete_cmd_prefix": "del ",
     "library": "var_list.py",
     "varRefreshCmd": "print(var_dic_list())"
    },
    "r": {
     "delete_cmd_postfix": ") ",
     "delete_cmd_prefix": "rm(",
     "library": "var_list.r",
     "varRefreshCmd": "cat(var_dic_list()) "
    }
   },
   "types_to_exclude": [
    "module",
    "function",
    "builtin_function_or_method",
    "instance",
    "_Feature"
   ],
   "window_display": false
  }
 },
 "nbformat": 4,
 "nbformat_minor": 1
}
